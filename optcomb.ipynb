{
 "cells": [
  {
   "cell_type": "code",
   "execution_count": 1,
   "metadata": {},
   "outputs": [],
   "source": [
    "from sklearn.cluster import FeatureAgglomeration\n",
    "from sklearn.preprocessing import RobustScaler\n",
    "import pandas as pd\n",
    "from ensemble import *"
   ]
  },
  {
   "cell_type": "code",
   "execution_count": 2,
   "metadata": {},
   "outputs": [],
   "source": [
    "def filter_data(df):\n",
    "    \"\"\"\n",
    "    Filter out genes with more then 80% missing features.\n",
    "    \"\"\"\n",
    "    bool_index = df.apply(lambda x: sum(x == 0), axis=1) <= 80\n",
    "    return df.loc[bool_index, ]\n",
    "\n",
    "def process_x(x, n):\n",
    "    \"\"\"\n",
    "    Normalize and remove feature correlation usind FA\n",
    "    \"\"\"\n",
    "    gene_names = x.copy().index\n",
    "    scaler = RobustScaler()\n",
    "    print('Normalizing..')\n",
    "    norm_x = scaler.fit_transform(x)\n",
    "    print('Feature aggregation..')\n",
    "    new_x = pd.DataFrame(FeatureAgglomeration(n_clusters=n).fit_transform(norm_x), index=gene_names)\n",
    "    return new_x\n",
    "\n",
    "def return_x_y(df, causal_genes, n=25):\n",
    "    \"\"\"\n",
    "    Return X - df with filled name\n",
    "    y - Series with supervided answers (1 or 0) for each gene\n",
    "    \"\"\"\n",
    "    data = filter_data(df)\n",
    "    y = df['gene_symbol'].map(\n",
    "    lambda x: 1 if x in causal_genes['gene_symbol'].values else 0)\n",
    "    print(f'We found {sum(y)} genes in list of causal genes!')\n",
    "    if sum(y) <= 3:\n",
    "        raise AssertionError(\"Numer of causal genes found <= 3. Add more causal genes.\")\n",
    "    x = process_x(df.fillna(0).set_index('gene_symbol'), n)\n",
    "    return x, y  \n",
    "\n",
    "def wmean_qc_coef(wmean, threshold, extended_list, true_genes):\n",
    "    wmean_names = wmean['gene_symbol'].values\n",
    "    pred_y = np.array(wmean['Probability'].values >= threshold)\n",
    "    new_y = np.array(list(map(lambda gene: (gene in extended_list['gene_symbol'].values) & \\\n",
    "                        (gene not in true_genes['gene_symbol'].values), wmean_names))) #wmean_names\n",
    "    if np.sum(pred_y) == 0:\n",
    "        return 0\n",
    "    Pr = np.sum(pred_y) / pred_y.size\n",
    "    TP = np.sum(new_y & pred_y) # TP\n",
    "    FN = np.sum(new_y) - TP # FN\n",
    "    recall = TP/(TP+FN)\n",
    "    coef = recall**2/Pr\n",
    "    return coef\n",
    "    \n",
    "def perform_qc(wmean, extended_list, true_genes):\n",
    "    threshold_range = [0.01, 0.1] + [i for i in range(1, 98)]\n",
    "    qc_range = [wmean_qc_coef(wmean, threshold, extended_list, true_genes) for threshold in threshold_range]\n",
    "    #print(qc_range)\n",
    "    optimal_thr = [threshold_range[i] for i, j in enumerate(qc_range) if j == max(qc_range)][0]\n",
    "    qc_coef = wmean_qc_coef(wmean, optimal_thr, extended_list, true_genes)\n",
    "    print('qc_coef:', qc_coef)\n",
    "    print('opt_threshols:', optimal_thr)\n",
    "    return qc_range\n",
    "\n",
    "def qc_score(true_y, pred_y):\n",
    "    pred_y = np.array(pred_y)\n",
    "    true_y = np.array(true_y)\n",
    "    if np.sum(pred_y) == 0:\n",
    "        return 0\n",
    "    Pr = np.sum(pred_y) / pred_y.size\n",
    "    TP = np.sum(true_y & pred_y) # TP\n",
    "    FN = np.sum(true_y) - TP # FN\n",
    "    recall = TP/(TP+FN)\n",
    "    coef = recall**2/Pr\n",
    "    return coef\n",
    "\n",
    "def best_clf(model, X_train, y_train, param_dist):\n",
    "    clf = GridSearchCV(model,\n",
    "                       param_dist,\n",
    "                       cv=3,\n",
    "                       scoring = make_scorer(qc_score, greater_is_better=True),\n",
    "                       iid=False,\n",
    "                       n_jobs = -1)\n",
    "    clf.fit(X_train, y_train)\n",
    "    return clf.best_estimator_"
   ]
  },
  {
   "cell_type": "code",
   "execution_count": 3,
   "metadata": {},
   "outputs": [],
   "source": [
    "true_genes = pd.read_csv('/home/nikita/Desktop/triple_phe/EA/GC/EA_causal.tsv',sep='\\t')\n",
    "extended_list = pd.read_csv('/home/nikita/Desktop/triple_phe/EA/GC/EA_extended.tsv',sep='\\t')\n",
    "infile = pd.read_csv('/home/nikita/Desktop/triple_phe/EA/postgap_check_new_features.tsv',sep='\\t')"
   ]
  },
  {
   "cell_type": "code",
   "execution_count": 4,
   "metadata": {},
   "outputs": [],
   "source": [
    "new_true_genes = pd.DataFrame({'gene_symbol':list(set(true_genes.gene_symbol) & set(infile.gene_symbol))})\n",
    "train_genes = new_true_genes.iloc[:50]\n",
    "alg_genes = new_true_genes.iloc[50:]"
   ]
  },
  {
   "cell_type": "code",
   "execution_count": 5,
   "metadata": {},
   "outputs": [
    {
     "name": "stdout",
     "output_type": "stream",
     "text": [
      "We found 50 genes in list of causal genes!\n",
      "Normalizing..\n",
      "Feature aggregation..\n"
     ]
    }
   ],
   "source": [
    "x, y = return_x_y(infile, train_genes, 60)\n",
    "gene_names = x.index.copy() "
   ]
  },
  {
   "cell_type": "code",
   "execution_count": 9,
   "metadata": {},
   "outputs": [
    {
     "name": "stdout",
     "output_type": "stream",
     "text": [
      "Logistic regression\t\n",
      "PU-score: 6.006974049128367\n",
      "\n",
      "Support Vector Machine\t\n",
      "PU-score: 2.400755217925107\n",
      "\n",
      "ADABoosting\t\n",
      "PU-score: 1.584433582779925\n",
      "\n",
      "Random Forest\t\n",
      "PU-score: 5.4450120708154515\n",
      "\n",
      "Decision Tree\t\n",
      "PU-score: 1.2177583498677247\n",
      "\n",
      "Finding best combination\t\n",
      "Best combination is: ['Logistic regression']\n",
      "PU-score: 6.006974049128367\n"
     ]
    }
   ],
   "source": [
    "ens = EnsembleClassifier(x, y, MODELS, alg_genes, n_bootstrap=1)\n",
    "ens.run_estimators()\n",
    "wmean_ea = ens.best_scored_proba()"
   ]
  },
  {
   "cell_type": "code",
   "execution_count": 10,
   "metadata": {},
   "outputs": [
    {
     "data": {
      "text/plain": [
       "<matplotlib.collections.PathCollection at 0x7fe5c91addd8>"
      ]
     },
     "execution_count": 10,
     "metadata": {},
     "output_type": "execute_result"
    },
    {
     "data": {
      "text/plain": [
       "<matplotlib.collections.PathCollection at 0x7fe5c69ff198>"
      ]
     },
     "execution_count": 10,
     "metadata": {},
     "output_type": "execute_result"
    },
    {
     "data": {
      "text/plain": [
       "<matplotlib.legend.Legend at 0x7fe5c69ff1d0>"
      ]
     },
     "execution_count": 10,
     "metadata": {},
     "output_type": "execute_result"
    },
    {
     "data": {
      "text/plain": [
       "(-50, 100)"
      ]
     },
     "execution_count": 10,
     "metadata": {},
     "output_type": "execute_result"
    },
    {
     "data": {
      "text/plain": [
       "(-10, 125)"
      ]
     },
     "execution_count": 10,
     "metadata": {},
     "output_type": "execute_result"
    },
    {
     "data": {
      "image/png": "[encoded data removed]",
      "text/plain": [
       "<Figure size 720x720 with 1 Axes>"
      ]
     },
     "metadata": {
      "needs_background": "light"
     },
     "output_type": "display_data"
    }
   ],
   "source": [
    "from sklearn.decomposition import PCA\n",
    "import itertools\n",
    "import matplotlib.pyplot as plt\n",
    "from sklearn import preprocessing\n",
    "scaler = preprocessing.RobustScaler()\n",
    "plot_x = pd.DataFrame(scaler.fit_transform(x))\n",
    "\n",
    "pca = PCA(3)  # project from 64 to 2 dimensions\n",
    "projected = pca.fit_transform(plot_x)\n",
    "\n",
    "i = 0\n",
    "j = 1\n",
    "fig = plt.figure(figsize=(10, 10))\n",
    "plt.scatter(projected[:,i], projected[:, j], c=wmean_ea.set_index('gene_symbol').reindex(x.index)['Probability'], \n",
    "                linewidth=1, s=30, alpha=1, cmap=plt.cm.get_cmap('coolwarm'), label='unlabeled')\n",
    "plt.scatter(projected[y==1, i], projected[y==1, j], c='black', marker='^', linewidth=1, s=50, alpha=1, label='Positive')\n",
    "plt.grid()\n",
    "plt.legend()\n",
    "axes = plt.gca()\n",
    "axes.set_xlim([-50,100])\n",
    "axes.set_ylim([-10,125])"
   ]
  },
  {
   "cell_type": "code",
   "execution_count": 17,
   "metadata": {},
   "outputs": [
    {
     "data": {
      "text/plain": [
       "array([28.25583728, 24.12820732, 25.56731481, ..., 85.16980943,\n",
       "       45.90822685, 41.74714934])"
      ]
     },
     "execution_count": 17,
     "metadata": {},
     "output_type": "execute_result"
    }
   ],
   "source": []
  },
  {
   "cell_type": "code",
   "execution_count": 34,
   "metadata": {},
   "outputs": [
    {
     "data": {
      "text/html": [
       "<div>\n",
       "<style scoped>\n",
       "    .dataframe tbody tr th:only-of-type {\n",
       "        vertical-align: middle;\n",
       "    }\n",
       "\n",
       "    .dataframe tbody tr th {\n",
       "        vertical-align: top;\n",
       "    }\n",
       "\n",
       "    .dataframe thead th {\n",
       "        text-align: right;\n",
       "    }\n",
       "</style>\n",
       "<table border=\"1\" class=\"dataframe\">\n",
       "  <thead>\n",
       "    <tr style=\"text-align: right;\">\n",
       "      <th></th>\n",
       "      <th>gene_symbol</th>\n",
       "      <th>Probability</th>\n",
       "    </tr>\n",
       "  </thead>\n",
       "  <tbody>\n",
       "    <tr>\n",
       "      <td>0</td>\n",
       "      <td>A1CF</td>\n",
       "      <td>28.255837</td>\n",
       "    </tr>\n",
       "    <tr>\n",
       "      <td>1</td>\n",
       "      <td>A4GNT</td>\n",
       "      <td>24.128207</td>\n",
       "    </tr>\n",
       "    <tr>\n",
       "      <td>2</td>\n",
       "      <td>AAAS</td>\n",
       "      <td>25.567315</td>\n",
       "    </tr>\n",
       "    <tr>\n",
       "      <td>3</td>\n",
       "      <td>AACS</td>\n",
       "      <td>32.574272</td>\n",
       "    </tr>\n",
       "    <tr>\n",
       "      <td>4</td>\n",
       "      <td>AADAT</td>\n",
       "      <td>69.018993</td>\n",
       "    </tr>\n",
       "    <tr>\n",
       "      <td>...</td>\n",
       "      <td>...</td>\n",
       "      <td>...</td>\n",
       "    </tr>\n",
       "    <tr>\n",
       "      <td>11133</td>\n",
       "      <td>ZYG11B</td>\n",
       "      <td>21.401668</td>\n",
       "    </tr>\n",
       "    <tr>\n",
       "      <td>11134</td>\n",
       "      <td>ZYX</td>\n",
       "      <td>21.555868</td>\n",
       "    </tr>\n",
       "    <tr>\n",
       "      <td>11135</td>\n",
       "      <td>ZZEF1</td>\n",
       "      <td>85.169809</td>\n",
       "    </tr>\n",
       "    <tr>\n",
       "      <td>11136</td>\n",
       "      <td>ZZZ3</td>\n",
       "      <td>45.908227</td>\n",
       "    </tr>\n",
       "    <tr>\n",
       "      <td>11137</td>\n",
       "      <td>hsa-mir-1199</td>\n",
       "      <td>41.747149</td>\n",
       "    </tr>\n",
       "  </tbody>\n",
       "</table>\n",
       "<p>11138 rows × 2 columns</p>\n",
       "</div>"
      ],
      "text/plain": [
       "        gene_symbol  Probability\n",
       "0              A1CF    28.255837\n",
       "1             A4GNT    24.128207\n",
       "2              AAAS    25.567315\n",
       "3              AACS    32.574272\n",
       "4             AADAT    69.018993\n",
       "...             ...          ...\n",
       "11133        ZYG11B    21.401668\n",
       "11134           ZYX    21.555868\n",
       "11135         ZZEF1    85.169809\n",
       "11136          ZZZ3    45.908227\n",
       "11137  hsa-mir-1199    41.747149\n",
       "\n",
       "[11138 rows x 2 columns]"
      ]
     },
     "execution_count": 34,
     "metadata": {},
     "output_type": "execute_result"
    }
   ],
   "source": [
    "wmean = pd.DataFrame({'gene_symbol':x.index.values, 'Probability': np.average(ens.probas, axis=0)})\n",
    "wmean.Probability = wmean.Probability.replace(-1,100)\n",
    "wmean"
   ]
  },
  {
   "cell_type": "code",
   "execution_count": 35,
   "metadata": {},
   "outputs": [
    {
     "data": {
      "text/html": [
       "<div>\n",
       "<style scoped>\n",
       "    .dataframe tbody tr th:only-of-type {\n",
       "        vertical-align: middle;\n",
       "    }\n",
       "\n",
       "    .dataframe tbody tr th {\n",
       "        vertical-align: top;\n",
       "    }\n",
       "\n",
       "    .dataframe thead th {\n",
       "        text-align: right;\n",
       "    }\n",
       "</style>\n",
       "<table border=\"1\" class=\"dataframe\">\n",
       "  <thead>\n",
       "    <tr style=\"text-align: right;\">\n",
       "      <th></th>\n",
       "      <th>gene_symbol</th>\n",
       "      <th>Probability</th>\n",
       "    </tr>\n",
       "  </thead>\n",
       "  <tbody>\n",
       "    <tr>\n",
       "      <td>0</td>\n",
       "      <td>A1CF</td>\n",
       "      <td>29.210251</td>\n",
       "    </tr>\n",
       "    <tr>\n",
       "      <td>1</td>\n",
       "      <td>A4GNT</td>\n",
       "      <td>25.606751</td>\n",
       "    </tr>\n",
       "    <tr>\n",
       "      <td>2</td>\n",
       "      <td>AAAS</td>\n",
       "      <td>26.573358</td>\n",
       "    </tr>\n",
       "    <tr>\n",
       "      <td>3</td>\n",
       "      <td>AACS</td>\n",
       "      <td>33.153039</td>\n",
       "    </tr>\n",
       "    <tr>\n",
       "      <td>4</td>\n",
       "      <td>AADAT</td>\n",
       "      <td>69.889298</td>\n",
       "    </tr>\n",
       "    <tr>\n",
       "      <td>...</td>\n",
       "      <td>...</td>\n",
       "      <td>...</td>\n",
       "    </tr>\n",
       "    <tr>\n",
       "      <td>11133</td>\n",
       "      <td>ZYG11B</td>\n",
       "      <td>22.507444</td>\n",
       "    </tr>\n",
       "    <tr>\n",
       "      <td>11134</td>\n",
       "      <td>ZYX</td>\n",
       "      <td>22.671687</td>\n",
       "    </tr>\n",
       "    <tr>\n",
       "      <td>11135</td>\n",
       "      <td>ZZEF1</td>\n",
       "      <td>84.695850</td>\n",
       "    </tr>\n",
       "    <tr>\n",
       "      <td>11136</td>\n",
       "      <td>ZZZ3</td>\n",
       "      <td>46.161430</td>\n",
       "    </tr>\n",
       "    <tr>\n",
       "      <td>11137</td>\n",
       "      <td>hsa-mir-1199</td>\n",
       "      <td>41.060907</td>\n",
       "    </tr>\n",
       "  </tbody>\n",
       "</table>\n",
       "<p>11138 rows × 2 columns</p>\n",
       "</div>"
      ],
      "text/plain": [
       "        gene_symbol  Probability\n",
       "0              A1CF    29.210251\n",
       "1             A4GNT    25.606751\n",
       "2              AAAS    26.573358\n",
       "3              AACS    33.153039\n",
       "4             AADAT    69.889298\n",
       "...             ...          ...\n",
       "11133        ZYG11B    22.507444\n",
       "11134           ZYX    22.671687\n",
       "11135         ZZEF1    84.695850\n",
       "11136          ZZZ3    46.161430\n",
       "11137  hsa-mir-1199    41.060907\n",
       "\n",
       "[11138 rows x 2 columns]"
      ]
     },
     "execution_count": 35,
     "metadata": {},
     "output_type": "execute_result"
    }
   ],
   "source": [
    "w_wmean = pd.DataFrame({'gene_symbol':x.index.values, 'Probability': np.average(ens.probas, axis=0, weights=ens.weights)})\n",
    "w_wmean.Probability = w_wmean.Probability.replace(-1,100)\n",
    "w_wmean"
   ]
  },
  {
   "cell_type": "code",
   "execution_count": 36,
   "metadata": {},
   "outputs": [
    {
     "data": {
      "text/html": [
       "<div>\n",
       "<style scoped>\n",
       "    .dataframe tbody tr th:only-of-type {\n",
       "        vertical-align: middle;\n",
       "    }\n",
       "\n",
       "    .dataframe tbody tr th {\n",
       "        vertical-align: top;\n",
       "    }\n",
       "\n",
       "    .dataframe thead th {\n",
       "        text-align: right;\n",
       "    }\n",
       "</style>\n",
       "<table border=\"1\" class=\"dataframe\">\n",
       "  <thead>\n",
       "    <tr style=\"text-align: right;\">\n",
       "      <th></th>\n",
       "      <th>gene_symbol</th>\n",
       "      <th>Probability</th>\n",
       "    </tr>\n",
       "  </thead>\n",
       "  <tbody>\n",
       "    <tr>\n",
       "      <td>4038</td>\n",
       "      <td>GRIA1</td>\n",
       "      <td>90.789520</td>\n",
       "    </tr>\n",
       "    <tr>\n",
       "      <td>3083</td>\n",
       "      <td>EPHA5</td>\n",
       "      <td>90.674696</td>\n",
       "    </tr>\n",
       "    <tr>\n",
       "      <td>3591</td>\n",
       "      <td>FOXO3</td>\n",
       "      <td>90.538845</td>\n",
       "    </tr>\n",
       "    <tr>\n",
       "      <td>7658</td>\n",
       "      <td>RAB3C</td>\n",
       "      <td>90.470310</td>\n",
       "    </tr>\n",
       "    <tr>\n",
       "      <td>1467</td>\n",
       "      <td>CAMTA1</td>\n",
       "      <td>90.326763</td>\n",
       "    </tr>\n",
       "    <tr>\n",
       "      <td>...</td>\n",
       "      <td>...</td>\n",
       "      <td>...</td>\n",
       "    </tr>\n",
       "    <tr>\n",
       "      <td>9337</td>\n",
       "      <td>SULT1A1</td>\n",
       "      <td>100.000000</td>\n",
       "    </tr>\n",
       "    <tr>\n",
       "      <td>396</td>\n",
       "      <td>ANAPC4</td>\n",
       "      <td>100.000000</td>\n",
       "    </tr>\n",
       "    <tr>\n",
       "      <td>9056</td>\n",
       "      <td>SORCS3</td>\n",
       "      <td>100.000000</td>\n",
       "    </tr>\n",
       "    <tr>\n",
       "      <td>3580</td>\n",
       "      <td>FOXH1</td>\n",
       "      <td>100.000000</td>\n",
       "    </tr>\n",
       "    <tr>\n",
       "      <td>9732</td>\n",
       "      <td>TMED5</td>\n",
       "      <td>100.000000</td>\n",
       "    </tr>\n",
       "  </tbody>\n",
       "</table>\n",
       "<p>11138 rows × 2 columns</p>\n",
       "</div>"
      ],
      "text/plain": [
       "     gene_symbol  Probability\n",
       "4038       GRIA1    90.789520\n",
       "3083       EPHA5    90.674696\n",
       "3591       FOXO3    90.538845\n",
       "7658       RAB3C    90.470310\n",
       "1467      CAMTA1    90.326763\n",
       "...          ...          ...\n",
       "9337     SULT1A1   100.000000\n",
       "396       ANAPC4   100.000000\n",
       "9056      SORCS3   100.000000\n",
       "3580       FOXH1   100.000000\n",
       "9732       TMED5   100.000000\n",
       "\n",
       "[11138 rows x 2 columns]"
      ]
     },
     "execution_count": 36,
     "metadata": {},
     "output_type": "execute_result"
    }
   ],
   "source": [
    "comb = wmean_ea\n",
    "comb.Probability = comb.Probability.replace(-1,100)\n",
    "comb"
   ]
  },
  {
   "cell_type": "code",
   "execution_count": null,
   "metadata": {},
   "outputs": [],
   "source": []
  },
  {
   "cell_type": "code",
   "execution_count": 62,
   "metadata": {},
   "outputs": [],
   "source": [
    "def return_y(df, ext, true):\n",
    "    wmean_names = df.gene_symbol.values\n",
    "    return np.array(list(map(lambda gene: (gene in ext.gene_symbol.values) & \\\n",
    "                        (gene not in true.gene_symbol.values), wmean_names)))"
   ]
  },
  {
   "cell_type": "code",
   "execution_count": 64,
   "metadata": {},
   "outputs": [],
   "source": [
    "wmean_y = return_y(wmean, new_true_genes, extended_list)\n",
    "w_wmean_y = return_y(w_wmean, new_true_genes, extended_list)\n",
    "comb_y = return_y(comb, new_true_genes, extended_list)"
   ]
  },
  {
   "cell_type": "code",
   "execution_count": 66,
   "metadata": {},
   "outputs": [
    {
     "data": {
      "text/plain": [
       "<matplotlib.axes._subplots.AxesSubplot at 0x7fe5c4f34d30>"
      ]
     },
     "execution_count": 66,
     "metadata": {},
     "output_type": "execute_result"
    },
    {
     "data": {
      "image/png": "[encoded data removed]",
      "text/plain": [
       "<Figure size 360x360 with 1 Axes>"
      ]
     },
     "metadata": {},
     "output_type": "display_data"
    }
   ],
   "source": [
    "import scikitplot as skplt\n",
    "import matplotlib.pyplot as plt\n",
    "plt.style.use(u'seaborn')\n",
    "new = np.array(list(map(lambda x: [100-x, x], wmean.Probability)))\n",
    "skplt.metrics.plot_cumulative_gain(wmean_y, new, figsize=(5,5), text_fontsize=20)"
   ]
  },
  {
   "cell_type": "code",
   "execution_count": 67,
   "metadata": {},
   "outputs": [
    {
     "data": {
      "text/plain": [
       "<matplotlib.axes._subplots.AxesSubplot at 0x7fe5c92250b8>"
      ]
     },
     "execution_count": 67,
     "metadata": {},
     "output_type": "execute_result"
    },
    {
     "data": {
      "image/png": "[encoded data removed]",
      "text/plain": [
       "<Figure size 360x360 with 1 Axes>"
      ]
     },
     "metadata": {},
     "output_type": "display_data"
    }
   ],
   "source": [
    "import scikitplot as skplt\n",
    "import matplotlib.pyplot as plt\n",
    "plt.style.use(u'seaborn')\n",
    "new = np.array(list(map(lambda x: [100-x, x], w_wmean.Probability)))\n",
    "skplt.metrics.plot_cumulative_gain(w_wmean_y, new, figsize=(5,5), text_fontsize=20)"
   ]
  },
  {
   "cell_type": "code",
   "execution_count": 69,
   "metadata": {},
   "outputs": [
    {
     "data": {
      "text/plain": [
       "<matplotlib.axes._subplots.AxesSubplot at 0x7fe5bd9be828>"
      ]
     },
     "execution_count": 69,
     "metadata": {},
     "output_type": "execute_result"
    },
    {
     "data": {
      "image/png": "[encoded data removed]",
      "text/plain": [
       "<Figure size 360x360 with 1 Axes>"
      ]
     },
     "metadata": {},
     "output_type": "display_data"
    }
   ],
   "source": [
    "import scikitplot as skplt\n",
    "import matplotlib.pyplot as plt\n",
    "plt.style.use(u'seaborn')\n",
    "new = np.array(list(map(lambda x: [100-x, x], comb.Probability)))\n",
    "skplt.metrics.plot_cumulative_gain(comb_y, new, figsize=(5,5), text_fontsize=20)"
   ]
  },
  {
   "cell_type": "code",
   "execution_count": 70,
   "metadata": {
    "scrolled": true
   },
   "outputs": [
    {
     "name": "stdout",
     "output_type": "stream",
     "text": [
      "qc_coef: 4.33807570071354\n",
      "opt_threshols: 62\n"
     ]
    },
    {
     "data": {
      "text/plain": [
       "[1.0,\n",
       " 1.0,\n",
       " 1.0,\n",
       " 1.0,\n",
       " 1.0,\n",
       " 1.0,\n",
       " 1.0,\n",
       " 1.0,\n",
       " 1.0,\n",
       " 1.0,\n",
       " 1.0,\n",
       " 1.0,\n",
       " 1.0,\n",
       " 1.0,\n",
       " 1.0,\n",
       " 1.0,\n",
       " 1.0,\n",
       " 1.0,\n",
       " 1.0001795977011494,\n",
       " 1.0019791291831595,\n",
       " 1.010891268832819,\n",
       " 1.0225060421971504,\n",
       " 1.0540667735097713,\n",
       " 1.0868687983235872,\n",
       " 1.1154657286416807,\n",
       " 1.1725607267751095,\n",
       " 1.2717214634500282,\n",
       " 1.3523716984833196,\n",
       " 1.4230945401982809,\n",
       " 1.5013072594865124,\n",
       " 1.5996041089054829,\n",
       " 1.696558706419979,\n",
       " 1.7939235640117261,\n",
       " 1.8820273329553474,\n",
       " 1.9798414087127998,\n",
       " 2.1232279986862164,\n",
       " 2.2565112513120797,\n",
       " 2.343450253413086,\n",
       " 2.4655097574019864,\n",
       " 2.581948249288568,\n",
       " 2.6943630781399164,\n",
       " 2.7845093181243237,\n",
       " 2.8785143094856394,\n",
       " 3.0024942586478556,\n",
       " 3.0755590750176838,\n",
       " 3.1821682446284036,\n",
       " 3.310767815048052,\n",
       " 3.3783491295539743,\n",
       " 3.5004772436270524,\n",
       " 3.582444302656176,\n",
       " 3.638418095130239,\n",
       " 3.7331279343511987,\n",
       " 3.799738817238777,\n",
       " 3.84550332099238,\n",
       " 3.910775652134769,\n",
       " 3.985565691447339,\n",
       " 4.083975667676383,\n",
       " 4.107248832573158,\n",
       " 4.08455745371226,\n",
       " 4.114723072420278,\n",
       " 4.185272259276977,\n",
       " 4.253358234023624,\n",
       " 4.286847291746422,\n",
       " 4.33807570071354,\n",
       " 4.325384400674749,\n",
       " 4.180504348854517,\n",
       " 4.237855580085267,\n",
       " 4.2176040171011975,\n",
       " 4.237726894227383,\n",
       " 4.178821302893383,\n",
       " 4.176260764273082,\n",
       " 4.252986255358643,\n",
       " 4.191239942633098,\n",
       " 4.105435843182239,\n",
       " 4.014842988371825,\n",
       " 3.81434377480621,\n",
       " 3.7552048785453693,\n",
       " 3.479720994572057,\n",
       " 3.2449009127797006,\n",
       " 3.080983417515898,\n",
       " 2.9222828971864785,\n",
       " 2.6299881936245573,\n",
       " 2.4550392472653058,\n",
       " 2.2822948392131748,\n",
       " 1.9101208167155472,\n",
       " 1.5440469973409479,\n",
       " 1.152408635551172,\n",
       " 0.7273053770023465,\n",
       " 0.467895235486942,\n",
       " 0.13375731071307526,\n",
       " 0.003030439070843111,\n",
       " 0.0,\n",
       " 0.0,\n",
       " 0.0,\n",
       " 0.0,\n",
       " 0.0,\n",
       " 0.0,\n",
       " 0.0,\n",
       " 0.0]"
      ]
     },
     "execution_count": 70,
     "metadata": {},
     "output_type": "execute_result"
    }
   ],
   "source": [
    "perform_qc(w_wmean, extended_list, true_genes)"
   ]
  },
  {
   "cell_type": "code",
   "execution_count": 71,
   "metadata": {
    "scrolled": true
   },
   "outputs": [
    {
     "name": "stdout",
     "output_type": "stream",
     "text": [
      "qc_coef: 4.298821725522251\n",
      "opt_threshols: 61\n"
     ]
    },
    {
     "data": {
      "text/plain": [
       "[1.0,\n",
       " 1.0,\n",
       " 1.0,\n",
       " 1.0,\n",
       " 1.0,\n",
       " 1.0,\n",
       " 1.0,\n",
       " 1.0,\n",
       " 1.0,\n",
       " 1.0,\n",
       " 1.0,\n",
       " 1.0,\n",
       " 1.0,\n",
       " 1.0,\n",
       " 1.0,\n",
       " 1.0,\n",
       " 1.0,\n",
       " 1.0003592599245554,\n",
       " 1.0029716343989195,\n",
       " 1.0135590135590136,\n",
       " 1.0302291855595123,\n",
       " 1.0659113676904488,\n",
       " 1.093305261409618,\n",
       " 1.131214215273754,\n",
       " 1.2063552953237895,\n",
       " 1.293524086011071,\n",
       " 1.3662801297907403,\n",
       " 1.4335749934331496,\n",
       " 1.5084884225352027,\n",
       " 1.6121543031762748,\n",
       " 1.7185124161570948,\n",
       " 1.7701727238131217,\n",
       " 1.8570850019955885,\n",
       " 1.973753586525918,\n",
       " 2.1144630133898112,\n",
       " 2.22463604505163,\n",
       " 2.295883604155716,\n",
       " 2.4285478526267776,\n",
       " 2.5320446596717785,\n",
       " 2.632444968760998,\n",
       " 2.713550518257487,\n",
       " 2.8214410455452494,\n",
       " 2.921104700206974,\n",
       " 3.0215208547430805,\n",
       " 3.0950592637857586,\n",
       " 3.211447918982994,\n",
       " 3.3336357620103456,\n",
       " 3.435145084257006,\n",
       " 3.5136741418122623,\n",
       " 3.585907274432547,\n",
       " 3.6220387300913677,\n",
       " 3.7240418689316264,\n",
       " 3.7288979182042303,\n",
       " 3.8364613446938334,\n",
       " 3.9195986090487787,\n",
       " 3.9995419592139574,\n",
       " 4.075120034290074,\n",
       " 4.0971012134685925,\n",
       " 4.0959020466492895,\n",
       " 4.128152325267603,\n",
       " 4.185272259276977,\n",
       " 4.267864912857266,\n",
       " 4.298821725522251,\n",
       " 4.278406349206349,\n",
       " 4.225672091245992,\n",
       " 4.228418047677307,\n",
       " 4.237855580085267,\n",
       " 4.238889336729201,\n",
       " 4.251441220745918,\n",
       " 4.244720215160099,\n",
       " 4.15386426517097,\n",
       " 4.133787001180508,\n",
       " 4.168604207085134,\n",
       " 4.096605286392669,\n",
       " 3.903132280005545,\n",
       " 3.8620614850917883,\n",
       " 3.6451682382677375,\n",
       " 3.457095857871034,\n",
       " 3.3202223440218472,\n",
       " 2.9888693522843717,\n",
       " 2.8987540493830446,\n",
       " 2.6895682166996013,\n",
       " 2.3565603346597284,\n",
       " 2.131596747365599,\n",
       " 2.0611527211675837,\n",
       " 1.6128726472863495,\n",
       " 1.207210866455225,\n",
       " 0.763923182441701,\n",
       " 0.6003516259273836,\n",
       " 0.16008623787279913,\n",
       " 0.006598536686513227,\n",
       " 0.0,\n",
       " 0.0,\n",
       " 0.0,\n",
       " 0.0,\n",
       " 0.0,\n",
       " 0.0,\n",
       " 0.0,\n",
       " 0.0]"
      ]
     },
     "execution_count": 71,
     "metadata": {},
     "output_type": "execute_result"
    }
   ],
   "source": [
    "perform_qc(wmean, extended_list, true_genes)"
   ]
  },
  {
   "cell_type": "code",
   "execution_count": 72,
   "metadata": {},
   "outputs": [
    {
     "name": "stdout",
     "output_type": "stream",
     "text": [
      "qc_coef: 4.345874104557232\n",
      "opt_threshols: 65\n"
     ]
    },
    {
     "data": {
      "text/plain": [
       "[1.0,\n",
       " 1.0,\n",
       " 1.0,\n",
       " 1.0,\n",
       " 1.0,\n",
       " 1.0,\n",
       " 1.0,\n",
       " 1.0,\n",
       " 1.0,\n",
       " 1.0001795977011494,\n",
       " 1.000808697996226,\n",
       " 1.0019791291831595,\n",
       " 1.0043282236248872,\n",
       " 1.008602734764104,\n",
       " 1.0144821932780763,\n",
       " 1.0202376010653953,\n",
       " 1.027491180191288,\n",
       " 1.0310708859227478,\n",
       " 1.0556049211683,\n",
       " 1.0798578262540675,\n",
       " 1.1169387520273217,\n",
       " 1.1498267448858182,\n",
       " 1.186647977020899,\n",
       " 1.2584717969204544,\n",
       " 1.305292207356677,\n",
       " 1.3766225249085635,\n",
       " 1.4377650374977575,\n",
       " 1.512646059555777,\n",
       " 1.5959722218496244,\n",
       " 1.7034046879939406,\n",
       " 1.7694593813737325,\n",
       " 1.8588892598892155,\n",
       " 1.9679703415416603,\n",
       " 2.071656087977494,\n",
       " 2.178129965832752,\n",
       " 2.2653441502603266,\n",
       " 2.360833757423701,\n",
       " 2.429801782531898,\n",
       " 2.512422233037195,\n",
       " 2.5773418970983872,\n",
       " 2.640080258466121,\n",
       " 2.742122779208169,\n",
       " 2.8530468420697237,\n",
       " 2.958582340727721,\n",
       " 3.0728724590274377,\n",
       " 3.1426702941115847,\n",
       " 3.2117931388748655,\n",
       " 3.328475512104771,\n",
       " 3.421502624158338,\n",
       " 3.501711011084962,\n",
       " 3.559049713237793,\n",
       " 3.653675038441825,\n",
       " 3.7237459599055507,\n",
       " 3.7809838595448775,\n",
       " 3.834189553838214,\n",
       " 3.876845733823757,\n",
       " 3.89044390885962,\n",
       " 3.91738169057612,\n",
       " 3.9891187530681163,\n",
       " 4.00411470763418,\n",
       " 4.0586322720498575,\n",
       " 4.092192501752619,\n",
       " 4.148039396737457,\n",
       " 4.184072126220887,\n",
       " 4.258697292494918,\n",
       " 4.343188975394273,\n",
       " 4.345874104557232,\n",
       " 4.318952902441118,\n",
       " 4.269577773788867,\n",
       " 4.204771902823062,\n",
       " 4.10723002811553,\n",
       " 4.1083445832436185,\n",
       " 4.1231256296529075,\n",
       " 4.116414789711783,\n",
       " 3.95678295358603,\n",
       " 3.895355118583959,\n",
       " 3.7119754453837555,\n",
       " 3.5895680617107857,\n",
       " 3.351588738731191,\n",
       " 3.225064088980173,\n",
       " 2.891159288381845,\n",
       " 2.5911129905151045,\n",
       " 2.5594386464360146,\n",
       " 1.9990824385888595,\n",
       " 1.6780151360190658,\n",
       " 1.2237073876333728,\n",
       " 0.7209303679813657,\n",
       " 0.3553247643370243,\n",
       " 0.13223734127315395,\n",
       " 0.06402336065161504,\n",
       " 0.018940244192769448,\n",
       " 0.00743835044661491,\n",
       " 0.0,\n",
       " 0.0,\n",
       " 0.0,\n",
       " 0.0,\n",
       " 0.0,\n",
       " 0.0,\n",
       " 0.0]"
      ]
     },
     "execution_count": 72,
     "metadata": {},
     "output_type": "execute_result"
    }
   ],
   "source": [
    "perform_qc(comb, extended_list, true_genes)"
   ]
  },
  {
   "cell_type": "code",
   "execution_count": 11,
   "metadata": {},
   "outputs": [
    {
     "data": {
      "text/html": [
       "<div>\n",
       "<style scoped>\n",
       "    .dataframe tbody tr th:only-of-type {\n",
       "        vertical-align: middle;\n",
       "    }\n",
       "\n",
       "    .dataframe tbody tr th {\n",
       "        vertical-align: top;\n",
       "    }\n",
       "\n",
       "    .dataframe thead th {\n",
       "        text-align: right;\n",
       "    }\n",
       "</style>\n",
       "<table border=\"1\" class=\"dataframe\">\n",
       "  <thead>\n",
       "    <tr style=\"text-align: right;\">\n",
       "      <th></th>\n",
       "      <th>0</th>\n",
       "      <th>1</th>\n",
       "      <th>2</th>\n",
       "      <th>3</th>\n",
       "      <th>4</th>\n",
       "    </tr>\n",
       "    <tr>\n",
       "      <th>gene_symbol</th>\n",
       "      <th></th>\n",
       "      <th></th>\n",
       "      <th></th>\n",
       "      <th></th>\n",
       "      <th></th>\n",
       "    </tr>\n",
       "  </thead>\n",
       "  <tbody>\n",
       "    <tr>\n",
       "      <td>A1CF</td>\n",
       "      <td>50.000000</td>\n",
       "      <td>60.452788</td>\n",
       "      <td>26.894142</td>\n",
       "      <td>29.310345</td>\n",
       "      <td>0.0</td>\n",
       "    </tr>\n",
       "    <tr>\n",
       "      <td>A4GNT</td>\n",
       "      <td>50.000000</td>\n",
       "      <td>40.952455</td>\n",
       "      <td>26.894142</td>\n",
       "      <td>44.632754</td>\n",
       "      <td>0.0</td>\n",
       "    </tr>\n",
       "    <tr>\n",
       "      <td>AAAS</td>\n",
       "      <td>50.000000</td>\n",
       "      <td>6.672721</td>\n",
       "      <td>26.894142</td>\n",
       "      <td>27.729730</td>\n",
       "      <td>0.0</td>\n",
       "    </tr>\n",
       "    <tr>\n",
       "      <td>AACS</td>\n",
       "      <td>50.000000</td>\n",
       "      <td>19.260194</td>\n",
       "      <td>26.894142</td>\n",
       "      <td>17.500000</td>\n",
       "      <td>0.0</td>\n",
       "    </tr>\n",
       "    <tr>\n",
       "      <td>AADAT</td>\n",
       "      <td>58.063452</td>\n",
       "      <td>61.686628</td>\n",
       "      <td>26.894142</td>\n",
       "      <td>77.500000</td>\n",
       "      <td>0.0</td>\n",
       "    </tr>\n",
       "    <tr>\n",
       "      <td>...</td>\n",
       "      <td>...</td>\n",
       "      <td>...</td>\n",
       "      <td>...</td>\n",
       "      <td>...</td>\n",
       "      <td>...</td>\n",
       "    </tr>\n",
       "    <tr>\n",
       "      <td>ZYG11B</td>\n",
       "      <td>50.000000</td>\n",
       "      <td>41.027146</td>\n",
       "      <td>26.894142</td>\n",
       "      <td>25.104895</td>\n",
       "      <td>0.0</td>\n",
       "    </tr>\n",
       "    <tr>\n",
       "      <td>ZYX</td>\n",
       "      <td>50.000000</td>\n",
       "      <td>62.227366</td>\n",
       "      <td>73.105858</td>\n",
       "      <td>47.492163</td>\n",
       "      <td>100.0</td>\n",
       "    </tr>\n",
       "    <tr>\n",
       "      <td>ZZEF1</td>\n",
       "      <td>61.965121</td>\n",
       "      <td>62.244664</td>\n",
       "      <td>73.105858</td>\n",
       "      <td>70.000000</td>\n",
       "      <td>100.0</td>\n",
       "    </tr>\n",
       "    <tr>\n",
       "      <td>ZZZ3</td>\n",
       "      <td>50.000000</td>\n",
       "      <td>61.534260</td>\n",
       "      <td>73.105858</td>\n",
       "      <td>79.000000</td>\n",
       "      <td>100.0</td>\n",
       "    </tr>\n",
       "    <tr>\n",
       "      <td>hsa-mir-1199</td>\n",
       "      <td>50.000000</td>\n",
       "      <td>42.349696</td>\n",
       "      <td>26.894142</td>\n",
       "      <td>0.000000</td>\n",
       "      <td>0.0</td>\n",
       "    </tr>\n",
       "  </tbody>\n",
       "</table>\n",
       "<p>11138 rows × 5 columns</p>\n",
       "</div>"
      ],
      "text/plain": [
       "                      0          1          2          3      4\n",
       "gene_symbol                                                    \n",
       "A1CF          50.000000  60.452788  26.894142  29.310345    0.0\n",
       "A4GNT         50.000000  40.952455  26.894142  44.632754    0.0\n",
       "AAAS          50.000000   6.672721  26.894142  27.729730    0.0\n",
       "AACS          50.000000  19.260194  26.894142  17.500000    0.0\n",
       "AADAT         58.063452  61.686628  26.894142  77.500000    0.0\n",
       "...                 ...        ...        ...        ...    ...\n",
       "ZYG11B        50.000000  41.027146  26.894142  25.104895    0.0\n",
       "ZYX           50.000000  62.227366  73.105858  47.492163  100.0\n",
       "ZZEF1         61.965121  62.244664  73.105858  70.000000  100.0\n",
       "ZZZ3          50.000000  61.534260  73.105858  79.000000  100.0\n",
       "hsa-mir-1199  50.000000  42.349696  26.894142   0.000000    0.0\n",
       "\n",
       "[11138 rows x 5 columns]"
      ]
     },
     "execution_count": 11,
     "metadata": {},
     "output_type": "execute_result"
    }
   ],
   "source": [
    "aggrx = pd.DataFrame(ens.probas.T, index=x.index).replace(-1,100)\n",
    "aggrx"
   ]
  },
  {
   "cell_type": "code",
   "execution_count": null,
   "metadata": {},
   "outputs": [],
   "source": []
  },
  {
   "cell_type": "code",
   "execution_count": 12,
   "metadata": {},
   "outputs": [
    {
     "data": {
      "text/plain": [
       "LogisticRegression(C=0.1, class_weight={0: 10, 1: 90}, dual=False,\n",
       "                   fit_intercept=True, intercept_scaling=1, l1_ratio=None,\n",
       "                   max_iter=100, multi_class='auto', n_jobs=None, penalty='l2',\n",
       "                   random_state=None, solver='liblinear', tol=0.0001, verbose=0,\n",
       "                   warm_start=False)"
      ]
     },
     "execution_count": 12,
     "metadata": {},
     "output_type": "execute_result"
    }
   ],
   "source": [
    "from sklearn.calibration import CalibratedClassifierCV\n",
    "WEIGHTS = {1:90, 0:10}\n",
    "lr = LogisticRegression(solver='liblinear', penalty='l2', C=0.1, class_weight=WEIGHTS)\n",
    "best_lr = best_clf(lr, aggrx, y, PARAM_DIST_LR)\n",
    "lr.fit(aggrx,y)"
   ]
  },
  {
   "cell_type": "code",
   "execution_count": 14,
   "metadata": {},
   "outputs": [
    {
     "data": {
      "text/plain": [
       "array([ -6.78558355,  -8.65870179, -11.60972464, ...,  -3.8995595 ,\n",
       "        -4.79486897,  -8.18511369])"
      ]
     },
     "execution_count": 14,
     "metadata": {},
     "output_type": "execute_result"
    }
   ],
   "source": [
    "lr.decision_function(aggrx)"
   ]
  },
  {
   "cell_type": "code",
   "execution_count": 60,
   "metadata": {},
   "outputs": [
    {
     "data": {
      "text/plain": [
       "array([2.89214397e-05, 4.65349859e-04, 1.51481924e-05, ...,\n",
       "       6.05824680e-02, 1.12645230e-03, 1.05526648e-03])"
      ]
     },
     "execution_count": 60,
     "metadata": {},
     "output_type": "execute_result"
    }
   ],
   "source": [
    "lr.predict_proba(aggrx.iloc[list(y==0),])[:,1]"
   ]
  },
  {
   "cell_type": "code",
   "execution_count": null,
   "metadata": {},
   "outputs": [],
   "source": [
    "\n",
    "stacking"
   ]
  }
 ],
 "metadata": {
  "kernelspec": {
   "display_name": "Python 3",
   "language": "python",
   "name": "python3"
  },
  "language_info": {
   "codemirror_mode": {
    "name": "ipython",
    "version": 3
   },
   "file_extension": ".py",
   "mimetype": "text/x-python",
   "name": "python",
   "nbconvert_exporter": "python",
   "pygments_lexer": "ipython3",
   "version": "3.6.10"
  }
 },
 "nbformat": 4,
 "nbformat_minor": 2
}
