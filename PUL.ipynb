{
 "cells": [
  {
   "cell_type": "markdown",
   "metadata": {},
   "source": [
    "# PU-learning"
   ]
  },
  {
   "cell_type": "code",
   "execution_count": null,
   "metadata": {},
   "outputs": [],
   "source": [
    "# Design plan\n",
    "\n",
    "# 1) Argparse input\n",
    "# 2) Input pre-processing\n",
    "# 3) ML stage\n",
    "# 4) Additional output: pdfs "
   ]
  },
  {
   "cell_type": "markdown",
   "metadata": {},
   "source": [
    "# 1) Argparse input"
   ]
  },
  {
   "cell_type": "markdown",
   "metadata": {},
   "source": [
    "**Functionality:**\n",
    "\n",
    "- Input file path\n",
    "- Output file path\n",
    "- True genes path\n",
    "- Pdfs\n",
    "- ML settings: Choose model, SMOTE, parameters, class_imbalanced procentage\n",
    "- Some summary"
   ]
  },
  {
   "cell_type": "markdown",
   "metadata": {},
   "source": [
    "# 2) Input preprocessing"
   ]
  },
  {
   "cell_type": "code",
   "execution_count": 47,
   "metadata": {},
   "outputs": [
    {
     "name": "stderr",
     "output_type": "stream",
     "text": [
      "/usr/local/lib/python3.6/dist-packages/IPython/core/interactiveshell.py:3044: DtypeWarning: Columns (1) have mixed types. Specify dtype option on import or set low_memory=False.\n",
      "  interactivity=interactivity, compiler=compiler, result=result)\n"
     ]
    }
   ],
   "source": [
    "import pandas as pd\n",
    "from InputProcessingFunctions import *\n",
    "example = pd.read_csv('../postgap/tmp/output/200_250_filtered_gwas_signal_postgap.txt', sep=',')"
   ]
  },
  {
   "cell_type": "code",
   "execution_count": 48,
   "metadata": {},
   "outputs": [],
   "source": [
    "def mem_usage(pandas_obj):\n",
    "    if isinstance(pandas_obj,pd.DataFrame):\n",
    "        usage_b = pandas_obj.memory_usage(deep=True).sum()\n",
    "    else: # we assume if not a df it's a series\n",
    "        usage_b = pandas_obj.memory_usage(deep=True)\n",
    "    usage_mb = usage_b / 1024 ** 2 # convert bytes to megabytes\n",
    "    return \"{:03.2f} MB\".format(usage_mb)"
   ]
  },
  {
   "cell_type": "code",
   "execution_count": 49,
   "metadata": {},
   "outputs": [
    {
     "data": {
      "text/plain": [
       "'25.14 MB'"
      ]
     },
     "execution_count": 49,
     "metadata": {},
     "output_type": "execute_result"
    }
   ],
   "source": [
    "mem_usage(example)"
   ]
  },
  {
   "cell_type": "code",
   "execution_count": 50,
   "metadata": {},
   "outputs": [
    {
     "name": "stdout",
     "output_type": "stream",
     "text": [
      "{'ld_snp_rsID': 'object', 'chrom': 'object', 'pos': 'int64', 'GRCh38_chrom': 'int64', 'GRCh38_pos': 'int64', 'afr': 'float64', 'amr': 'float64', 'eas': 'float64', 'eur': 'float64', 'sas': 'float64', 'gnomad': 'float64', 'gnomad_sas': 'float64', 'gnomad_oth': 'float64', 'gnomad_asj': 'float64', 'gnomad_nfe': 'float64', 'gnomad_afr': 'float64', 'gnomad_amr': 'float64', 'gnomad_fin': 'float64', 'gnomad_eas': 'float64', 'gene_symbol': 'object', 'gene_id': 'object', 'gene_chrom': 'int64', 'gene_tss': 'int64', 'GRCh38_gene_chrom': 'int64', 'GRCh38_gene_pos': 'int64', 'disease_name': 'object', 'disease_efo_id': 'object', 'score': 'float64', 'rank': 'int64', 'r2': 'float64', 'cluster_id': 'float64', 'gwas_source': 'object', 'gwas_snp': 'object', 'gwas_pvalue': 'float64', 'gwas_pvalue_description': 'object', 'gwas_odds_ratio': 'object', 'gwas_odds_ratio_ci_start': 'object', 'gwas_odds_ratio_ci_end': 'object', 'gwas_beta': 'float64', 'gwas_size': 'int64', 'gwas_pmid': 'object', 'gwas_study': 'object', 'gwas_reported_trait': 'object', 'ls_snp_is_gwas_snp': 'int64', 'vep_terms': 'float64', 'vep_sum': 'int64', 'vep_mean': 'int64', 'GTEx_Thyroid': 'float64', 'GTEx_Testis': 'float64', 'GTEx_Small_Intestine_Terminal_Ileum': 'float64', 'GTEx_Nerve_Tibial': 'float64', 'GTEx_Brain_Frontal_Cortex_BA9': 'float64', 'GTEx_Skin_Not_Sun_Exposed_Suprapubic': 'float64', 'GTEx_Vagina': 'float64', 'GTEx_Whole_Blood': 'float64', 'GTEx_Breast_Mammary_Tissue': 'float64', 'GTEx_Ovary': 'float64', 'GTEx_Adipose_Subcutaneous': 'float64', 'GTEx_Adrenal_Gland': 'float64', 'GTEx_Heart_Atrial_Appendage': 'float64', 'GTEx_Stomach': 'float64', 'GTEx_Brain_Caudate_basal_ganglia': 'float64', 'GTEx_Colon_Transverse': 'float64', 'GTEx_Brain_Cerebellum': 'float64', 'GTEx_Cells_Transformed_fibroblasts': 'float64', 'GTEx_Esophagus_Muscularis': 'float64', 'GTEx_Liver': 'int64', 'GTEx_Muscle_Skeletal': 'float64', 'GTEx_Prostate': 'float64', 'GTEx_Pancreas': 'float64', 'GTEx_Brain_Hypothalamus': 'float64', 'GTEx_Spleen': 'float64', 'GTEx_Colon_Sigmoid': 'float64', 'GTEx_Brain_Anterior_cingulate_cortex_BA24': 'float64', 'GTEx_Esophagus_Gastroesophageal_Junction': 'float64', 'GTEx_Brain_Hippocampus': 'float64', 'GTEx_Brain_Cortex': 'float64', 'GTEx_Heart_Left_Ventricle': 'float64', 'GTEx_Artery_Tibial': 'float64', 'GTEx_Uterus': 'float64', 'GTEx_Pituitary': 'float64', 'GTEx_Cells_EBV-transformed_lymphocytes': 'int64', 'GTEx_Artery_Coronary': 'float64', 'GTEx_Adipose_Visceral_Omentum': 'float64', 'GTEx_Brain_Nucleus_accumbens_basal_ganglia': 'float64', 'GTEx_Brain_Cerebellar_Hemisphere': 'float64', 'GTEx_Esophagus_Mucosa': 'float64', 'GTEx_Artery_Aorta': 'float64', 'GTEx_Brain_Putamen_basal_ganglia': 'float64', 'GTEx_Lung': 'float64', 'GTEx_Skin_Sun_Exposed_Lower_leg': 'float64', 'GTEx': 'float64', 'VEP': 'int64', 'Fantom5': 'int64', 'DHS': 'int64', 'PCHiC': 'int64', 'Nearest': 'int64', 'Regulome': 'int64', 'VEP_reg': 'int64', 'GERP': 'float64'}\n"
     ]
    }
   ],
   "source": [
    "list(example)\n",
    "\n",
    "dtypes = example.dtypes\n",
    "dtypes_col = dtypes.index\n",
    "dtypes_type = [i.name for i in dtypes.values]\n",
    "column_types = dict(zip(dtypes_col, dtypes_type))\n",
    "# rather than print all 161 items, we'll\n",
    "# sample 10 key/value pairs from the dict\n",
    "# and print it nicely using prettyprint\n",
    "preview = first2pairs = {key:value for key,value in list(column_types.items())}\n",
    "print(preview)"
   ]
  },
  {
   "cell_type": "code",
   "execution_count": 59,
   "metadata": {},
   "outputs": [],
   "source": [
    "preview = {'afr': 'float16',\n",
    "           'amr': 'float16',\n",
    "           'eas': 'float16',\n",
    "           'eur': 'float16',\n",
    "           'sas': 'float16',\n",
    "           'gnomad': 'float16',\n",
    "           'gnomad_sas': 'float16',\n",
    "           'gnomad_oth': 'float16',\n",
    "           'gnomad_asj': 'float16',\n",
    "           'gnomad_nfe': 'float16',\n",
    "           'gnomad_afr': 'float16',\n",
    "           'gnomad_amr': 'float16',\n",
    "           'gnomad_fin': 'float16',\n",
    "           'gnomad_eas': 'float16',\n",
    "           'GTEx_Thyroid': 'float32',\n",
    "           'GTEx_Testis': 'float32',\n",
    "           'GTEx_Small_Intestine_Terminal_Ileum': 'float32',\n",
    "           'GTEx_Nerve_Tibial': 'float32',\n",
    "           'GTEx_Brain_Frontal_Cortex_BA9': 'float32',\n",
    "           'GTEx_Skin_Not_Sun_Exposed_Suprapubic': 'float32',\n",
    "           'GTEx_Vagina': 'float32',\n",
    "           'GTEx_Whole_Blood': 'float32',\n",
    "           'GTEx_Breast_Mammary_Tissue': 'float32',\n",
    "           'GTEx_Ovary': 'float32',\n",
    "           'GTEx_Adipose_Subcutaneous': 'float32',\n",
    "           'GTEx_Adrenal_Gland': 'float32',\n",
    "           'GTEx_Heart_Atrial_Appendage': 'float32',\n",
    "           'GTEx_Stomach': 'float32',\n",
    "           'GTEx_Brain_Caudate_basal_ganglia': 'float32',\n",
    "           'GTEx_Colon_Transverse': 'float32',\n",
    "           'GTEx_Brain_Cerebellum': 'float32',\n",
    "           'GTEx_Cells_Transformed_fibroblasts': 'float32',\n",
    "           'GTEx_Esophagus_Muscularis': 'float32',\n",
    "           'GTEx_Liver': 'float32',\n",
    "           'GTEx_Muscle_Skeletal': 'float32',\n",
    "           'GTEx_Prostate': 'float32',\n",
    "           'GTEx_Pancreas': 'float32',\n",
    "           'GTEx_Brain_Hypothalamus': 'float32',\n",
    "           'GTEx_Spleen': 'float32',\n",
    "           'GTEx_Colon_Sigmoid': 'float32',\n",
    "           'GTEx_Brain_Anterior_cingulate_cortex_BA24': 'float32',\n",
    "           'GTEx_Esophagus_Gastroesophageal_Junction': 'float32',\n",
    "           'GTEx_Brain_Hippocampus': 'float32',\n",
    "           'GTEx_Brain_Cortex': 'float32',\n",
    "           'GTEx_Heart_Left_Ventricle': 'float32',\n",
    "           'GTEx_Artery_Tibial': 'float32',\n",
    "           'GTEx_Uterus': 'float32',\n",
    "           'GTEx_Pituitary': 'float32',\n",
    "           'GTEx_Cells_EBV-transformed_lymphocytes': 'float32',\n",
    "           'GTEx_Artery_Coronary': 'float32',\n",
    "           'GTEx_Adipose_Visceral_Omentum': 'float32',\n",
    "           'GTEx_Brain_Nucleus_accumbens_basal_ganglia': 'float32',\n",
    "           'GTEx_Brain_Cerebellar_Hemisphere': 'float32',\n",
    "           'GTEx_Esophagus_Mucosa': 'float32',\n",
    "           'GTEx_Artery_Aorta': 'float32',\n",
    "           'GTEx_Brain_Putamen_basal_ganglia': 'float32',\n",
    "           'GTEx_Lung': 'float32',\n",
    "           'GTEx_Skin_Sun_Exposed_Lower_leg': 'float32',\n",
    "           'GTEx': 'float32',\n",
    "           'VEP': 'uint8',\n",
    "           'Nearest': 'uint8'}"
   ]
  },
  {
   "cell_type": "code",
   "execution_count": 62,
   "metadata": {},
   "outputs": [
    {
     "name": "stderr",
     "output_type": "stream",
     "text": [
      "/usr/local/lib/python3.6/dist-packages/IPython/core/interactiveshell.py:3044: DtypeWarning: Columns (1) have mixed types. Specify dtype option on import or set low_memory=False.\n",
      "  interactivity=interactivity, compiler=compiler, result=result)\n"
     ]
    },
    {
     "data": {
      "text/plain": [
       "'6.12 MB'"
      ]
     },
     "execution_count": 62,
     "metadata": {},
     "output_type": "execute_result"
    }
   ],
   "source": [
    "read_and_optimized = drop_columns(pd.read_csv('../postgap/tmp/output/200_250_filtered_gwas_signal_postgap.txt', sep=',', dtype=preview))\n",
    "mem_usage(read_and_optimized)"
   ]
  },
  {
   "cell_type": "code",
   "execution_count": 22,
   "metadata": {},
   "outputs": [
    {
     "name": "stdout",
     "output_type": "stream",
     "text": [
      "Machine parameters for float16\n",
      "---------------------------------------------------------------\n",
      "precision =   3   resolution = 1.00040e-03\n",
      "machep =    -10   eps =        9.76562e-04\n",
      "negep =     -11   epsneg =     4.88281e-04\n",
      "minexp =    -14   tiny =       6.10352e-05\n",
      "maxexp =     16   max =        6.55040e+04\n",
      "nexp =        5   min =        -max\n",
      "---------------------------------------------------------------\n",
      "\n",
      "Machine parameters for float32\n",
      "---------------------------------------------------------------\n",
      "precision =   6   resolution = 1.0000000e-06\n",
      "machep =    -23   eps =        1.1920929e-07\n",
      "negep =     -24   epsneg =     5.9604645e-08\n",
      "minexp =   -126   tiny =       1.1754944e-38\n",
      "maxexp =    128   max =        3.4028235e+38\n",
      "nexp =        8   min =        -max\n",
      "---------------------------------------------------------------\n",
      "\n",
      "Machine parameters for float64\n",
      "---------------------------------------------------------------\n",
      "precision =  15   resolution = 1.0000000000000001e-15\n",
      "machep =    -52   eps =        2.2204460492503131e-16\n",
      "negep =     -53   epsneg =     1.1102230246251565e-16\n",
      "minexp =  -1022   tiny =       2.2250738585072014e-308\n",
      "maxexp =   1024   max =        1.7976931348623157e+308\n",
      "nexp =       11   min =        -max\n",
      "---------------------------------------------------------------\n",
      "\n"
     ]
    }
   ],
   "source": [
    "import numpy as np\n",
    "int_types = [\"float16\", \"float32\", \"float64\"]\n",
    "for it in int_types:\n",
    "    print(np.finfo(it))"
   ]
  },
  {
   "cell_type": "code",
   "execution_count": null,
   "metadata": {},
   "outputs": [],
   "source": []
  },
  {
   "cell_type": "markdown",
   "metadata": {},
   "source": [
    "# 3) ML step"
   ]
  },
  {
   "cell_type": "code",
   "execution_count": 1,
   "metadata": {},
   "outputs": [],
   "source": [
    "import numpy as np\n",
    "import pandas as pd\n",
    "import seaborn as sns\n",
    "import matplotlib.pyplot as plt\n",
    "from sklearn.metrics import roc_curve, auc\n",
    "from sklearn.metrics import confusion_matrix\n",
    "from sklearn.metrics import classification_report\n",
    "from sklearn.model_selection import KFold, cross_val_score\n",
    "from sklearn.model_selection import train_test_split, GridSearchCV\n",
    "from sklearn.metrics import confusion_matrix\n",
    "from sklearn.ensemble import RandomForestClassifier\n",
    "from xgboost import XGBClassifier\n",
    "from sklearn.svm import SVC\n",
    "from sklearn.linear_model import LogisticRegression\n",
    "from var import *"
   ]
  },
  {
   "cell_type": "code",
   "execution_count": 2,
   "metadata": {},
   "outputs": [],
   "source": [
    "#plot_df = pd.DataFrame(columns = ['truth', 'label', 'output_std'])"
   ]
  },
  {
   "cell_type": "code",
   "execution_count": 83,
   "metadata": {},
   "outputs": [],
   "source": [
    "# BD - /home/nikita/Desktop/gprior_BD.tsv\n",
    "# SCZ - /home/nikita/Documents/work/git_projects/GPrior/combined_scz.tsv\n",
    "gtex_frames = pd.read_csv('/home/nikita/Documents/work/git_projects/GPrior/combined_scz.tsv',sep='\\t')\n",
    "true_genes = pd.read_csv('/home/nikita/Documents/work/git_projects/GWASPriors/SCZ/SCZ/true_genes.csv')\n",
    "scz_genes = set(true_genes[true_genes['Gene(s)'].map(lambda x: ',' not in str(x))]['Gene(s)']) & set(gtex_frames['gene_symbol'])\n",
    "# scz_genes = pd.read_csv('/home/nikita/Desktop/true_genes_BD.tsv')['gene_symbol']"
   ]
  },
  {
   "cell_type": "code",
   "execution_count": 84,
   "metadata": {},
   "outputs": [],
   "source": [
    "gtex_frames = gtex_frames.loc[gtex_frames.apply(lambda x: sum(x == 0), axis=1) <= 80,]\n",
    "    "
   ]
  },
  {
   "cell_type": "code",
   "execution_count": 85,
   "metadata": {},
   "outputs": [
    {
     "data": {
      "text/plain": [
       "0.7017543859649122"
      ]
     },
     "execution_count": 85,
     "metadata": {},
     "output_type": "execute_result"
    }
   ],
   "source": [
    "80/len(list(gtex_frames))"
   ]
  },
  {
   "cell_type": "code",
   "execution_count": 86,
   "metadata": {},
   "outputs": [
    {
     "data": {
      "text/plain": [
       "<matplotlib.axes._subplots.AxesSubplot at 0x7fb95f1a6400>"
      ]
     },
     "execution_count": 86,
     "metadata": {},
     "output_type": "execute_result"
    },
    {
     "data": {
      "image/png": "[encoded data removed]",
      "text/plain": [
       "<Figure size 432x288 with 1 Axes>"
      ]
     },
     "metadata": {
      "needs_background": "light"
     },
     "output_type": "display_data"
    }
   ],
   "source": [
    "gtex_frames.loc[gtex_frames['gene_symbol'].map(lambda x: x in list(scz_genes)),].apply(lambda x: sum(x == 0), axis=1).hist()"
   ]
  },
  {
   "cell_type": "code",
   "execution_count": 87,
   "metadata": {},
   "outputs": [
    {
     "data": {
      "text/html": [
       "<div>\n",
       "<style scoped>\n",
       "    .dataframe tbody tr th:only-of-type {\n",
       "        vertical-align: middle;\n",
       "    }\n",
       "\n",
       "    .dataframe tbody tr th {\n",
       "        vertical-align: top;\n",
       "    }\n",
       "\n",
       "    .dataframe thead th {\n",
       "        text-align: right;\n",
       "    }\n",
       "</style>\n",
       "<table border=\"1\" class=\"dataframe\">\n",
       "  <thead>\n",
       "    <tr style=\"text-align: right;\">\n",
       "      <th></th>\n",
       "      <th>Adipose - Subcutaneous</th>\n",
       "      <th>Adipose - Visceral (Omentum)</th>\n",
       "      <th>Adrenal Gland</th>\n",
       "      <th>Artery - Aorta</th>\n",
       "      <th>Artery - Coronary</th>\n",
       "      <th>Artery - Tibial</th>\n",
       "      <th>Bladder</th>\n",
       "      <th>Brain - Amygdala</th>\n",
       "      <th>Brain - Anterior cingulate cortex (BA24)</th>\n",
       "      <th>Brain - Caudate (basal ganglia)</th>\n",
       "      <th>...</th>\n",
       "      <th>VEP_reg</th>\n",
       "      <th>Vagina</th>\n",
       "      <th>Whole Blood</th>\n",
       "      <th>blastp_similarity</th>\n",
       "      <th>gene_interactions</th>\n",
       "      <th>gtex_similarity</th>\n",
       "      <th>rank</th>\n",
       "      <th>score</th>\n",
       "      <th>vep_mean</th>\n",
       "      <th>vep_sum</th>\n",
       "    </tr>\n",
       "  </thead>\n",
       "  <tbody>\n",
       "    <tr>\n",
       "      <td>count</td>\n",
       "      <td>3018.000000</td>\n",
       "      <td>3018.000000</td>\n",
       "      <td>3018.000000</td>\n",
       "      <td>3018.000000</td>\n",
       "      <td>3018.000000</td>\n",
       "      <td>3018.000000</td>\n",
       "      <td>3018.000000</td>\n",
       "      <td>3018.000000</td>\n",
       "      <td>3018.000000</td>\n",
       "      <td>3018.000000</td>\n",
       "      <td>...</td>\n",
       "      <td>3018.000000</td>\n",
       "      <td>3018.000000</td>\n",
       "      <td>3018.000000</td>\n",
       "      <td>3018.000000</td>\n",
       "      <td>3018.000000</td>\n",
       "      <td>3018.000000</td>\n",
       "      <td>3018.000000</td>\n",
       "      <td>3018.000000</td>\n",
       "      <td>3018.000000</td>\n",
       "      <td>3018.000000</td>\n",
       "    </tr>\n",
       "    <tr>\n",
       "      <td>mean</td>\n",
       "      <td>28.584493</td>\n",
       "      <td>25.625249</td>\n",
       "      <td>23.304838</td>\n",
       "      <td>29.692512</td>\n",
       "      <td>30.248509</td>\n",
       "      <td>28.253148</td>\n",
       "      <td>33.028827</td>\n",
       "      <td>14.625580</td>\n",
       "      <td>17.840623</td>\n",
       "      <td>17.794566</td>\n",
       "      <td>...</td>\n",
       "      <td>0.269239</td>\n",
       "      <td>31.759112</td>\n",
       "      <td>10.465209</td>\n",
       "      <td>0.055666</td>\n",
       "      <td>0.235918</td>\n",
       "      <td>0.165341</td>\n",
       "      <td>17.585769</td>\n",
       "      <td>0.926623</td>\n",
       "      <td>0.040070</td>\n",
       "      <td>0.311458</td>\n",
       "    </tr>\n",
       "    <tr>\n",
       "      <td>std</td>\n",
       "      <td>12.506743</td>\n",
       "      <td>11.754295</td>\n",
       "      <td>13.654474</td>\n",
       "      <td>13.429799</td>\n",
       "      <td>11.603344</td>\n",
       "      <td>14.965573</td>\n",
       "      <td>11.644617</td>\n",
       "      <td>13.853738</td>\n",
       "      <td>14.931557</td>\n",
       "      <td>13.612574</td>\n",
       "      <td>...</td>\n",
       "      <td>0.195315</td>\n",
       "      <td>10.827693</td>\n",
       "      <td>15.381620</td>\n",
       "      <td>0.267972</td>\n",
       "      <td>0.670913</td>\n",
       "      <td>0.545113</td>\n",
       "      <td>15.005451</td>\n",
       "      <td>0.456576</td>\n",
       "      <td>0.157404</td>\n",
       "      <td>1.555573</td>\n",
       "    </tr>\n",
       "    <tr>\n",
       "      <td>min</td>\n",
       "      <td>0.000000</td>\n",
       "      <td>0.000000</td>\n",
       "      <td>0.000000</td>\n",
       "      <td>0.000000</td>\n",
       "      <td>0.000000</td>\n",
       "      <td>0.000000</td>\n",
       "      <td>0.000000</td>\n",
       "      <td>0.000000</td>\n",
       "      <td>0.000000</td>\n",
       "      <td>0.000000</td>\n",
       "      <td>...</td>\n",
       "      <td>0.000000</td>\n",
       "      <td>0.000000</td>\n",
       "      <td>0.000000</td>\n",
       "      <td>0.000000</td>\n",
       "      <td>0.000000</td>\n",
       "      <td>0.000000</td>\n",
       "      <td>1.000000</td>\n",
       "      <td>0.007770</td>\n",
       "      <td>0.000000</td>\n",
       "      <td>0.000000</td>\n",
       "    </tr>\n",
       "    <tr>\n",
       "      <td>25%</td>\n",
       "      <td>20.000000</td>\n",
       "      <td>18.000000</td>\n",
       "      <td>14.000000</td>\n",
       "      <td>21.000000</td>\n",
       "      <td>24.000000</td>\n",
       "      <td>17.000000</td>\n",
       "      <td>27.000000</td>\n",
       "      <td>4.000000</td>\n",
       "      <td>6.000000</td>\n",
       "      <td>7.000000</td>\n",
       "      <td>...</td>\n",
       "      <td>0.176749</td>\n",
       "      <td>26.000000</td>\n",
       "      <td>0.000000</td>\n",
       "      <td>0.000000</td>\n",
       "      <td>0.000000</td>\n",
       "      <td>0.000000</td>\n",
       "      <td>6.058813</td>\n",
       "      <td>0.941456</td>\n",
       "      <td>0.000000</td>\n",
       "      <td>0.000000</td>\n",
       "    </tr>\n",
       "    <tr>\n",
       "      <td>50%</td>\n",
       "      <td>30.000000</td>\n",
       "      <td>25.000000</td>\n",
       "      <td>21.000000</td>\n",
       "      <td>31.000000</td>\n",
       "      <td>31.000000</td>\n",
       "      <td>30.000000</td>\n",
       "      <td>35.000000</td>\n",
       "      <td>9.000000</td>\n",
       "      <td>12.000000</td>\n",
       "      <td>12.000000</td>\n",
       "      <td>...</td>\n",
       "      <td>0.245394</td>\n",
       "      <td>34.000000</td>\n",
       "      <td>2.000000</td>\n",
       "      <td>0.000000</td>\n",
       "      <td>0.000000</td>\n",
       "      <td>0.000000</td>\n",
       "      <td>13.536907</td>\n",
       "      <td>0.980342</td>\n",
       "      <td>0.000000</td>\n",
       "      <td>0.000000</td>\n",
       "    </tr>\n",
       "    <tr>\n",
       "      <td>75%</td>\n",
       "      <td>38.000000</td>\n",
       "      <td>34.000000</td>\n",
       "      <td>33.000000</td>\n",
       "      <td>40.000000</td>\n",
       "      <td>39.000000</td>\n",
       "      <td>41.000000</td>\n",
       "      <td>41.750000</td>\n",
       "      <td>23.000000</td>\n",
       "      <td>29.000000</td>\n",
       "      <td>27.000000</td>\n",
       "      <td>...</td>\n",
       "      <td>0.321478</td>\n",
       "      <td>39.000000</td>\n",
       "      <td>15.000000</td>\n",
       "      <td>0.000000</td>\n",
       "      <td>0.000000</td>\n",
       "      <td>0.000000</td>\n",
       "      <td>24.953976</td>\n",
       "      <td>0.996793</td>\n",
       "      <td>0.000000</td>\n",
       "      <td>0.000000</td>\n",
       "    </tr>\n",
       "    <tr>\n",
       "      <td>max</td>\n",
       "      <td>52.000000</td>\n",
       "      <td>52.000000</td>\n",
       "      <td>52.000000</td>\n",
       "      <td>52.000000</td>\n",
       "      <td>52.000000</td>\n",
       "      <td>52.000000</td>\n",
       "      <td>52.000000</td>\n",
       "      <td>52.000000</td>\n",
       "      <td>52.000000</td>\n",
       "      <td>52.000000</td>\n",
       "      <td>...</td>\n",
       "      <td>1.000000</td>\n",
       "      <td>52.000000</td>\n",
       "      <td>52.000000</td>\n",
       "      <td>2.000000</td>\n",
       "      <td>7.000000</td>\n",
       "      <td>7.000000</td>\n",
       "      <td>95.000000</td>\n",
       "      <td>3.086668</td>\n",
       "      <td>1.045455</td>\n",
       "      <td>28.123237</td>\n",
       "    </tr>\n",
       "  </tbody>\n",
       "</table>\n",
       "<p>8 rows × 113 columns</p>\n",
       "</div>"
      ],
      "text/plain": [
       "       Adipose - Subcutaneous  Adipose - Visceral (Omentum)  Adrenal Gland  \\\n",
       "count             3018.000000                   3018.000000    3018.000000   \n",
       "mean                28.584493                     25.625249      23.304838   \n",
       "std                 12.506743                     11.754295      13.654474   \n",
       "min                  0.000000                      0.000000       0.000000   \n",
       "25%                 20.000000                     18.000000      14.000000   \n",
       "50%                 30.000000                     25.000000      21.000000   \n",
       "75%                 38.000000                     34.000000      33.000000   \n",
       "max                 52.000000                     52.000000      52.000000   \n",
       "\n",
       "       Artery - Aorta  Artery - Coronary  Artery - Tibial      Bladder  \\\n",
       "count     3018.000000        3018.000000      3018.000000  3018.000000   \n",
       "mean        29.692512          30.248509        28.253148    33.028827   \n",
       "std         13.429799          11.603344        14.965573    11.644617   \n",
       "min          0.000000           0.000000         0.000000     0.000000   \n",
       "25%         21.000000          24.000000        17.000000    27.000000   \n",
       "50%         31.000000          31.000000        30.000000    35.000000   \n",
       "75%         40.000000          39.000000        41.000000    41.750000   \n",
       "max         52.000000          52.000000        52.000000    52.000000   \n",
       "\n",
       "       Brain - Amygdala  Brain - Anterior cingulate cortex (BA24)  \\\n",
       "count       3018.000000                               3018.000000   \n",
       "mean          14.625580                                 17.840623   \n",
       "std           13.853738                                 14.931557   \n",
       "min            0.000000                                  0.000000   \n",
       "25%            4.000000                                  6.000000   \n",
       "50%            9.000000                                 12.000000   \n",
       "75%           23.000000                                 29.000000   \n",
       "max           52.000000                                 52.000000   \n",
       "\n",
       "       Brain - Caudate (basal ganglia)  ...      VEP_reg       Vagina  \\\n",
       "count                      3018.000000  ...  3018.000000  3018.000000   \n",
       "mean                         17.794566  ...     0.269239    31.759112   \n",
       "std                          13.612574  ...     0.195315    10.827693   \n",
       "min                           0.000000  ...     0.000000     0.000000   \n",
       "25%                           7.000000  ...     0.176749    26.000000   \n",
       "50%                          12.000000  ...     0.245394    34.000000   \n",
       "75%                          27.000000  ...     0.321478    39.000000   \n",
       "max                          52.000000  ...     1.000000    52.000000   \n",
       "\n",
       "       Whole Blood  blastp_similarity  gene_interactions  gtex_similarity  \\\n",
       "count  3018.000000        3018.000000        3018.000000      3018.000000   \n",
       "mean     10.465209           0.055666           0.235918         0.165341   \n",
       "std      15.381620           0.267972           0.670913         0.545113   \n",
       "min       0.000000           0.000000           0.000000         0.000000   \n",
       "25%       0.000000           0.000000           0.000000         0.000000   \n",
       "50%       2.000000           0.000000           0.000000         0.000000   \n",
       "75%      15.000000           0.000000           0.000000         0.000000   \n",
       "max      52.000000           2.000000           7.000000         7.000000   \n",
       "\n",
       "              rank        score     vep_mean      vep_sum  \n",
       "count  3018.000000  3018.000000  3018.000000  3018.000000  \n",
       "mean     17.585769     0.926623     0.040070     0.311458  \n",
       "std      15.005451     0.456576     0.157404     1.555573  \n",
       "min       1.000000     0.007770     0.000000     0.000000  \n",
       "25%       6.058813     0.941456     0.000000     0.000000  \n",
       "50%      13.536907     0.980342     0.000000     0.000000  \n",
       "75%      24.953976     0.996793     0.000000     0.000000  \n",
       "max      95.000000     3.086668     1.045455    28.123237  \n",
       "\n",
       "[8 rows x 113 columns]"
      ]
     },
     "execution_count": 87,
     "metadata": {},
     "output_type": "execute_result"
    }
   ],
   "source": [
    "gtex_frames.describe()"
   ]
  },
  {
   "cell_type": "code",
   "execution_count": 89,
   "metadata": {},
   "outputs": [],
   "source": [
    "def return_x_y(gtex_frames, scz_genes):\n",
    "    y = pd.Series(list(gtex_frames['gene_symbol'].map(lambda x: 1 if x in scz_genes else 0)))\n",
    "    #gtex_frames.drop('gene_id', axis=1, inplace=True)\n",
    "    x = gtex_frames.fillna(0).set_index('gene_symbol')\n",
    "    return x, y\n",
    "\n",
    "x, y = return_x_y(gtex_frames, scz_genes)"
   ]
  },
  {
   "cell_type": "code",
   "execution_count": 90,
   "metadata": {},
   "outputs": [
    {
     "name": "stdout",
     "output_type": "stream",
     "text": [
      "ZNF804A\n",
      "NLGN4X\n",
      "GALNT10\n",
      "MEF2C\n",
      "ZNF536\n",
      "C12orf42\n",
      "C12orf79\n",
      "LRRIQ3\n",
      "TMTC1\n",
      "CYP26B1\n",
      "GRIN2A\n",
      "FUT9\n",
      "LUZP2\n",
      "GRM3\n",
      "SATB2\n",
      "SNX19\n",
      "CNTN4\n",
      "MAD1L1\n",
      "CACNA1I\n",
      "ATP2A2\n",
      "CACNA1C\n",
      "MMP16\n",
      "IMMP2L\n",
      "ERCC4\n",
      "HCN1\n",
      "SNAP91\n",
      "CSMD1\n",
      "RIMS1\n",
      "TCF4\n",
      "TBC1D5\n",
      "GPM6A\n",
      "C11orf87\n",
      "EPC2\n",
      "TRANK1\n",
      "CACNB2\n",
      "TLE1\n",
      "DRD2\n",
      "CNKSR2\n",
      "GRAMD1B\n",
      "PJA1\n",
      "PODXL\n",
      "ZSWIM6\n",
      "BCL11B\n",
      "IGSF9B\n",
      "PRKD1\n",
      "KCNV1\n",
      "TSNARE1\n"
     ]
    }
   ],
   "source": [
    "for i in x[(y==1).values].index:\n",
    "    print(i)"
   ]
  },
  {
   "cell_type": "code",
   "execution_count": 9,
   "metadata": {},
   "outputs": [
    {
     "data": {
      "text/html": [
       "<div>\n",
       "<style scoped>\n",
       "    .dataframe tbody tr th:only-of-type {\n",
       "        vertical-align: middle;\n",
       "    }\n",
       "\n",
       "    .dataframe tbody tr th {\n",
       "        vertical-align: top;\n",
       "    }\n",
       "\n",
       "    .dataframe thead th {\n",
       "        text-align: right;\n",
       "    }\n",
       "</style>\n",
       "<table border=\"1\" class=\"dataframe\">\n",
       "  <thead>\n",
       "    <tr style=\"text-align: right;\">\n",
       "      <th></th>\n",
       "      <th>VEP</th>\n",
       "    </tr>\n",
       "    <tr>\n",
       "      <th>y</th>\n",
       "      <th></th>\n",
       "    </tr>\n",
       "  </thead>\n",
       "  <tbody>\n",
       "    <tr>\n",
       "      <td>False</td>\n",
       "      <td>0.025152</td>\n",
       "    </tr>\n",
       "    <tr>\n",
       "      <td>True</td>\n",
       "      <td>0.488994</td>\n",
       "    </tr>\n",
       "  </tbody>\n",
       "</table>\n",
       "</div>"
      ],
      "text/plain": [
       "            VEP\n",
       "y              \n",
       "False  0.025152\n",
       "True   0.488994"
      ]
     },
     "execution_count": 9,
     "metadata": {},
     "output_type": "execute_result"
    }
   ],
   "source": [
    "new_x = x.copy()\n",
    "new_x['y'] = list(y.map(lambda x: str(bool(x))))\n",
    "new_x.groupby('y').aggregate({'VEP':'mean'})"
   ]
  },
  {
   "cell_type": "code",
   "execution_count": 11,
   "metadata": {},
   "outputs": [
    {
     "data": {
      "text/plain": [
       "<seaborn.axisgrid.FacetGrid at 0x7fb9779a2f60>"
      ]
     },
     "execution_count": 11,
     "metadata": {},
     "output_type": "execute_result"
    },
    {
     "data": {
      "image/png": "[encoded data removed]",
      "text/plain": [
       "<Figure size 402.375x360 with 1 Axes>"
      ]
     },
     "metadata": {
      "needs_background": "light"
     },
     "output_type": "display_data"
    }
   ],
   "source": [
    "new_x = x.copy() \n",
    "new_x['y'] = list(y)\n",
    "sns.lmplot(data = new_x, x = 'rank', y='score', hue='y', fit_reg=False)"
   ]
  },
  {
   "cell_type": "code",
   "execution_count": null,
   "metadata": {},
   "outputs": [],
   "source": []
  },
  {
   "cell_type": "code",
   "execution_count": null,
   "metadata": {},
   "outputs": [],
   "source": []
  },
  {
   "cell_type": "markdown",
   "metadata": {},
   "source": [
    "# Real data Expreriment"
   ]
  },
  {
   "cell_type": "code",
   "execution_count": 12,
   "metadata": {},
   "outputs": [],
   "source": [
    "from sklearn.preprocessing import scale\n",
    "from sklearn.preprocessing import MinMaxScaler\n",
    "from sklearn.model_selection import train_test_split\n",
    "\n",
    "#x_norm = scale(x)\n",
    "# X_train, X_test, y_train, y_test =  train_test_split(x, y, \n",
    "#                                                      test_size=0.15)"
   ]
  },
  {
   "cell_type": "code",
   "execution_count": 13,
   "metadata": {},
   "outputs": [],
   "source": [
    "from imblearn.over_sampling import SMOTE\n",
    "from collections import Counter\n",
    "\n",
    "# def return_SMOTE(X_train, y_train, ratio=0.5):\n",
    "#     sampler = SMOTE(ratio=0.5, random_state=42)\n",
    "#     X_rs, y_rs = sampler.fit_sample(X_train, y_train)\n",
    "#     return X_rs, y_rs\n",
    "\n",
    "# if sum(y_train)/len(y_train) <= 0.3:\n",
    "#     new_X_train, new_y_train = return_SMOTE(X_train, y_train)"
   ]
  },
  {
   "cell_type": "code",
   "execution_count": 75,
   "metadata": {},
   "outputs": [],
   "source": [
    "# Models\n",
    "\n",
    "# svc = SVC(probability=True, class_weight={1:1, 0:100})\n",
    "# rf = RandomForestClassifier()\n",
    "# lr = LogisticRegression(class_weight={1:1, 0:100})\n",
    "# xgb = XGBClassifier(\n",
    "#         eval_metric = 'auc',\n",
    "#         learning_rate=0.1,\n",
    "#         nthread = 4,\n",
    "#         silent = True,\n",
    "#         objective='binary:logistic',\n",
    "#         class_weight={1:1, 0:100})"
   ]
  },
  {
   "cell_type": "code",
   "execution_count": 76,
   "metadata": {},
   "outputs": [],
   "source": [
    "# PARAM_DIST_RF = {'max_depth': [5, 10, 15, 20, 30, 50, 100],\n",
    "#               'max_features': ['auto', 'sqrt', 'log2', None],\n",
    "#               'criterion': ['gini', 'entropy']}\n",
    "#                #'min_samples_leaf': [1, 2, 4],\n",
    "#                #'min_samples_split': [2, 5, 10]}\n",
    "        \n",
    "# PARAM_DIST_SVC = {'C':[1,10,100,1000],\n",
    "#                 'gamma':[1,0.1,0.001,0.0001],\n",
    "#                 'kernel':['linear','rbf']}\n",
    "                    \n",
    "# PARAM_DIST_LR = {\"C\":np.logspace(-3,3,10),\n",
    "#                  \"penalty\":[\"l1\",\"l2\"]}\n",
    "\n",
    "# PARAM_DIST_XGB = {'gamma':[2,1,0.1,0.01,0.001,0.0001]}\n",
    "#                  'eta': [0.05, 0.1, 0.3],\n",
    "#                  'max_depth': [6, 9, 12]}\n",
    "#                  'gamma':[1,0.1,0.001]\n",
    "#                  'min_child_weight': [1, 2, 5]\n",
    "#                  'num_boost_round': [100, 250, 500],\n",
    "#                  'subsample': [0.9, 1.0],\n",
    "#                  'colsample_bytree': [0.9, 1.0],\n",
    "#                  'colsample_bylevel': [0.9, 1.0]}"
   ]
  },
  {
   "cell_type": "code",
   "execution_count": 10,
   "metadata": {},
   "outputs": [],
   "source": [
    "# parameters_rf = best_parameters(rf, X_train, y_train, PARAM_DIST_RF)\n",
    "\n",
    "# Best Parameters using grid search: \n",
    "#  {'criterion': 'entropy', 'max_depth': 10, 'max_features': None}"
   ]
  },
  {
   "cell_type": "code",
   "execution_count": 11,
   "metadata": {},
   "outputs": [],
   "source": [
    "# rf.set_params(bootstrap = True,\n",
    "#               criterion = parameters_rf['criterion'],\n",
    "#               max_depth = parameters_rf['max_depth'],\n",
    "#               max_features = parameters_rf['max_features'],\n",
    "#               min_samples_leaf = 1,\n",
    "#               min_samples_split = 2,\n",
    "#               n_estimators=700,\n",
    "#               class_weight={1:100, 0:1})"
   ]
  },
  {
   "cell_type": "code",
   "execution_count": 12,
   "metadata": {},
   "outputs": [],
   "source": [
    "# rf.fit(x, y)\n",
    "# y_pred = rf.predict(X_test)\n",
    "# print(confusion_matrix(y_test, y_pred))"
   ]
  },
  {
   "cell_type": "code",
   "execution_count": 13,
   "metadata": {},
   "outputs": [],
   "source": [
    "# parameters_lr = best_parameters(lr, new_X_train, new_y_train, PARAM_DIST_LR)\n",
    "# lr.set_params(C = parameters_lr['C'],\n",
    "#               penalty = parameters_lr['penalty'])\n",
    "\n",
    "# Best Parameters using grid search: \n",
    "#  {'C': 46.41588833612773, 'penalty': 'l1'}"
   ]
  },
  {
   "cell_type": "code",
   "execution_count": 14,
   "metadata": {},
   "outputs": [],
   "source": [
    "# parameters_svc = best_parameters(svc, new_X_train, new_y_train, PARAM_DIST_SVC)\n",
    "# svc.set_params(C=parameters_svc['C'],\n",
    "#                 gamma=parameters_svc['gamma'],\n",
    "#                 kernel=parameters_svc['kernel'])\n",
    "\n",
    "# Best Parameters using grid search: \n",
    "#  {'C': 1000, 'gamma': 0.0001, 'kernel': 'rbf'}"
   ]
  },
  {
   "cell_type": "code",
   "execution_count": 96,
   "metadata": {},
   "outputs": [],
   "source": [
    "# def best_parameters_xgb(model, new_X_train, new_y_train, X_test, y_test, param_dist):\n",
    "#     cv_rf = GridSearchCV(model, cv = 5,\n",
    "#                      param_grid=param_dist, \n",
    "#                      n_jobs = 3,\n",
    "#                      scoring='neg_log_loss')\n",
    "#     cv_rf.fit(new_X_train, new_y_train, eval_metric='logloss', verbose=True,\n",
    "#             eval_set=[(new_X_train, new_y_train),(X_test, y_test)], early_stopping_rounds=100)\n",
    "#     print('Best Parameters using grid search: \\n', \n",
    "#       cv_rf.best_params_)\n",
    "#     return cv_rf.best_params_\n"
   ]
  },
  {
   "cell_type": "code",
   "execution_count": 97,
   "metadata": {},
   "outputs": [],
   "source": [
    "# xgb_X_train = pd.DataFrame(new_X_train, columns=list(X_test))"
   ]
  },
  {
   "cell_type": "code",
   "execution_count": 15,
   "metadata": {},
   "outputs": [],
   "source": [
    "#parameters_xgb = best_parameters_xgb(xgb, xgb_X_train, new_y_train, X_test, y_test, PARAM_DIST_XGB)\n",
    "\n",
    "# xgb.set_params(num_boost_round=150,\n",
    "#                 eta=parameters_xgb['eta'],\n",
    "#                 max_depth=parameters_xgb['max_depth'],\n",
    "#                 subsample=1, # parameters_xgb['subsample']\n",
    "#                 colsample_bytree=0.9, #  parameters_xgb['colsample_bytree']\n",
    "#                 colsample_bylevel=0.9, #  parameters_xgb['colsample_bylevel']\n",
    "#                 gamma=0.001,\n",
    "#                 min_child_weight=1,\n",
    "#                 n_estimators=700)\n",
    "\n",
    "\n",
    "# XGBClassifier(base_score=0.5, booster='gbtree', class_weight={1: 1, 0: 100},\n",
    "#        colsample_bylevel=0.9, colsample_bynode=1, colsample_bytree=0.9,\n",
    "#        eta=0.05, eval_metric='auc', gamma=0.001, learning_rate=0.1,\n",
    "#        max_delta_step=0, max_depth=6, min_child_weight=1, missing=None,\n",
    "#        n_estimators=700, n_jobs=1, nthread=4, num_boost_round=150,\n",
    "#        objective='binary:logistic', random_state=0, reg_alpha=0,\n",
    "#        reg_lambda=1, scale_pos_weight=1, seed=None, silent=True,\n",
    "#        subsample=1, verbosity=1)"
   ]
  },
  {
   "cell_type": "code",
   "execution_count": 30,
   "metadata": {},
   "outputs": [],
   "source": [
    "from sklearn import preprocessing\n",
    "\n",
    "def final_output(x, y, model, n_estimators=100):\n",
    "    \n",
    "    from sklearn.preprocessing import MinMaxScaler, RobustScaler\n",
    "    \n",
    "    from var import PARAM_DIST_RF, PARAM_DIST_SVC, PARAM_DIST_LR, PARAM_DIST_DT\n",
    "    \n",
    "    scaler = preprocessing.RobustScaler()\n",
    "    \n",
    "    weights = {1:100, 0:1}\n",
    "    \n",
    "    if model in ['svc', 'lr']:\n",
    "        x = pd.DataFrame(scaler.fit_transform(x))\n",
    "    \n",
    "    iP = y[y > 0].index\n",
    "    iU = y[y <= 0].index\n",
    "    \n",
    "    num_oob = pd.DataFrame(np.zeros(shape = y.shape), index = y.index)\n",
    "    sum_oob = pd.DataFrame(np.zeros(shape = y.shape), index = y.index)\n",
    "    \n",
    "    for _ in range(n_estimators):\n",
    "                \n",
    "        # Get a bootstrap sample of unlabeled points for this round\n",
    "        ib = np.random.choice(iU, replace = True, size = len(iP))\n",
    "    \n",
    "        # Find the OOB data points for this round\n",
    "        i_oob = list(set(iU) - set(ib))\n",
    "    \n",
    "        # Get the training data (ALL positives and the bootstrap\n",
    "        # sample of unlabeled points) and build the tree\n",
    "        Xb = x[list(y>0)].append(x.iloc[ib])\n",
    "        yb = y[y > 0].append(y.iloc[ib])\n",
    "                \n",
    "        if model == 'rf':\n",
    "            estimator = RandomForestClassifier(class_weight=weights,\n",
    "                                               n_estimators=15)\n",
    "            parameters_rf = best_parameters(estimator, Xb, yb, PARAM_DIST_RF)\n",
    "            estimator.set_params(bootstrap = True,\n",
    "              max_depth = parameters_rf['max_depth'],\n",
    "              max_features = parameters_rf['max_features'],\n",
    "              min_samples_leaf = parameters_rf['min_samples_leaf'],\n",
    "              min_samples_split = parameters_rf['min_samples_split'],\n",
    "              n_estimators=600)\n",
    "        elif model == 'svc':\n",
    "            Xb = x[list(y>0)].append(x.iloc[ib])\n",
    "            estimator = SVC(probability=True,\n",
    "                            class_weight=weights)\n",
    "            parameters_svc = best_parameters(estimator, Xb, yb, PARAM_DIST_SVC)\n",
    "            estimator.set_params(C=parameters_svc['C'],\n",
    "                                 gamma=parameters_svc['gamma'],\n",
    "                                 kernel=parameters_svc['kernel'])\n",
    "        elif model == 'dt':\n",
    "            estimator = DecisionTreeClassifier(criterion='gini',\n",
    "                                               class_weight=weights)\n",
    "            parameters_dt = best_parameters(estimator, Xb, yb, PARAM_DIST_DT)\n",
    "            estimator.set_params(max_depth = parameters_dt['max_depth'],\n",
    "                           min_samples_leaf = parameters_dt['min_samples_leaf'],\n",
    "                           min_samples_split = parameters_dt['min_samples_split'])\n",
    "        elif model == 'lr':\n",
    "            estimator = LogisticRegression(class_weight=weights,\n",
    "                                           solver='liblinear')\n",
    "            parameters_lr = best_parameters(estimator, Xb, yb, PARAM_DIST_LR)\n",
    "            estimator.set_params(C = parameters_lr['C'],\n",
    "                          penalty = parameters_lr['penalty'])\n",
    "        \n",
    "        estimator.fit(Xb, yb)\n",
    "        # Record the OOB scores from this round\n",
    "        sum_oob.loc[i_oob, 0] += estimator.predict_proba(x.iloc[i_oob])[:,1]\n",
    "        num_oob.loc[i_oob, 0] += 1\n",
    "    \n",
    "    results = pd.DataFrame(x.index)\n",
    "    results['Average_prob'] = sum_oob / num_oob\n",
    "    print(f'Model \"{model}\" - Done!')\n",
    "    return results"
   ]
  },
  {
   "cell_type": "code",
   "execution_count": 31,
   "metadata": {},
   "outputs": [],
   "source": [
    "def best_parameters(model, new_X_train, new_y_train, param_dist):\n",
    "    cv_rf = GridSearchCV(model, cv = 5,\n",
    "                     param_grid=param_dist, \n",
    "                     n_jobs = 3,\n",
    "                     iid=False)\n",
    "    cv_rf.fit(new_X_train, new_y_train)\n",
    "    print('Best Parameters using grid search: \\n', \n",
    "      cv_rf.best_params_)\n",
    "    return cv_rf.best_params_"
   ]
  },
  {
   "cell_type": "code",
   "execution_count": 32,
   "metadata": {},
   "outputs": [],
   "source": [
    "def mean_model_prob(plot_df):\n",
    "    models = ['lr', 'rf', 'dt', 'svc']\n",
    "    mean_prob = np.array([0.0]*len(plot_df['rf_results']))\n",
    "    for model in models:\n",
    "        mean_prob += np.array(plot_dfs[f'{model}_results']['predicted_y'])\n",
    "    result = pd.DataFrame({'predicted_y':mean_prob/len(models)})\n",
    "    plot_df['mean_results'] = result\n",
    "    return plot_df"
   ]
  },
  {
   "cell_type": "code",
   "execution_count": 33,
   "metadata": {},
   "outputs": [
    {
     "name": "stdout",
     "output_type": "stream",
     "text": [
      "Best Parameters using grid search: \n",
      " {'C': 0.001, 'penalty': 'l1'}\n",
      "Best Parameters using grid search: \n",
      " {'C': 0.004124626382901352, 'penalty': 'l1'}\n",
      "Best Parameters using grid search: \n",
      " {'C': 0.8376776400682924, 'penalty': 'l2'}\n",
      "Best Parameters using grid search: \n",
      " {'C': 4.923882631706742, 'penalty': 'l1'}\n",
      "Best Parameters using grid search: \n",
      " {'C': 0.008376776400682925, 'penalty': 'l1'}\n",
      "Best Parameters using grid search: \n",
      " {'C': 242.44620170823308, 'penalty': 'l1'}\n",
      "Best Parameters using grid search: \n",
      " {'C': 0.2030917620904737, 'penalty': 'l2'}\n",
      "Best Parameters using grid search: \n",
      " {'C': 0.2030917620904737, 'penalty': 'l1'}\n",
      "Best Parameters using grid search: \n",
      " {'C': 0.004124626382901352, 'penalty': 'l1'}\n",
      "Best Parameters using grid search: \n",
      " {'C': 0.001, 'penalty': 'l1'}\n",
      "Best Parameters using grid search: \n",
      " {'C': 701.7038286703837, 'penalty': 'l1'}\n",
      "Best Parameters using grid search: \n",
      " {'C': 4.923882631706742, 'penalty': 'l2'}\n",
      "Best Parameters using grid search: \n",
      " {'C': 0.008376776400682925, 'penalty': 'l1'}\n",
      "Best Parameters using grid search: \n",
      " {'C': 0.41246263829013524, 'penalty': 'l2'}\n",
      "Best Parameters using grid search: \n",
      " {'C': 0.5878016072274912, 'penalty': 'l2'}\n",
      "Best Parameters using grid search: \n",
      " {'C': 0.001, 'penalty': 'l1'}\n",
      "Best Parameters using grid search: \n",
      " {'C': 14.251026703029993, 'penalty': 'l1'}\n",
      "Best Parameters using grid search: \n",
      " {'C': 0.001, 'penalty': 'l1'}\n",
      "Best Parameters using grid search: \n",
      " {'C': 242.44620170823308, 'penalty': 'l1'}\n",
      "Best Parameters using grid search: \n",
      " {'C': 492.3882631706742, 'penalty': 'l1'}\n",
      "Best Parameters using grid search: \n",
      " {'C': 41.246263829013564, 'penalty': 'l1'}\n",
      "Best Parameters using grid search: \n",
      " {'C': 0.28942661247167517, 'penalty': 'l1'}\n",
      "Best Parameters using grid search: \n",
      " {'C': 0.41246263829013524, 'penalty': 'l2'}\n",
      "Best Parameters using grid search: \n",
      " {'C': 28.942661247167518, 'penalty': 'l1'}\n",
      "Best Parameters using grid search: \n",
      " {'C': 0.41246263829013524, 'penalty': 'l1'}\n",
      "Best Parameters using grid search: \n",
      " {'C': 345.5107294592218, 'penalty': 'l1'}\n",
      "Best Parameters using grid search: \n",
      " {'C': 0.41246263829013524, 'penalty': 'l1'}\n",
      "Best Parameters using grid search: \n",
      " {'C': 0.004124626382901352, 'penalty': 'l1'}\n",
      "Best Parameters using grid search: \n",
      " {'C': 1000.0, 'penalty': 'l1'}\n",
      "Best Parameters using grid search: \n",
      " {'C': 0.001, 'penalty': 'l1'}\n",
      "Best Parameters using grid search: \n",
      " {'C': 0.004124626382901352, 'penalty': 'l1'}\n",
      "Best Parameters using grid search: \n",
      " {'C': 7.01703828670383, 'penalty': 'l1'}\n",
      "Best Parameters using grid search: \n",
      " {'C': 170.1254279852589, 'penalty': 'l1'}\n",
      "Best Parameters using grid search: \n",
      " {'C': 10.0, 'penalty': 'l2'}\n",
      "Best Parameters using grid search: \n",
      " {'C': 0.001, 'penalty': 'l1'}\n",
      "Best Parameters using grid search: \n",
      " {'C': 0.001, 'penalty': 'l1'}\n",
      "Best Parameters using grid search: \n",
      " {'C': 0.001, 'penalty': 'l1'}\n",
      "Best Parameters using grid search: \n",
      " {'C': 10.0, 'penalty': 'l1'}\n",
      "Best Parameters using grid search: \n",
      " {'C': 0.001, 'penalty': 'l1'}\n",
      "Best Parameters using grid search: \n",
      " {'C': 0.28942661247167517, 'penalty': 'l2'}\n",
      "Best Parameters using grid search: \n",
      " {'C': 0.001, 'penalty': 'l1'}\n",
      "Best Parameters using grid search: \n",
      " {'C': 83.76776400682924, 'penalty': 'l1'}\n",
      "Best Parameters using grid search: \n",
      " {'C': 345.5107294592218, 'penalty': 'l1'}\n",
      "Best Parameters using grid search: \n",
      " {'C': 41.246263829013564, 'penalty': 'l1'}\n",
      "Best Parameters using grid search: \n",
      " {'C': 0.001, 'penalty': 'l1'}\n",
      "Best Parameters using grid search: \n",
      " {'C': 0.001, 'penalty': 'l1'}\n",
      "Best Parameters using grid search: \n",
      " {'C': 3.4551072945922217, 'penalty': 'l1'}\n",
      "Best Parameters using grid search: \n",
      " {'C': 2.424462017082331, 'penalty': 'l2'}\n",
      "Best Parameters using grid search: \n",
      " {'C': 0.5878016072274912, 'penalty': 'l1'}\n",
      "Best Parameters using grid search: \n",
      " {'C': 0.8376776400682924, 'penalty': 'l1'}\n",
      "Best Parameters using grid search: \n",
      " {'C': 0.0058780160722749115, 'penalty': 'l1'}\n",
      "Best Parameters using grid search: \n",
      " {'C': 0.28942661247167517, 'penalty': 'l2'}\n",
      "Best Parameters using grid search: \n",
      " {'C': 492.3882631706742, 'penalty': 'l1'}\n",
      "Best Parameters using grid search: \n",
      " {'C': 0.001, 'penalty': 'l1'}\n",
      "Best Parameters using grid search: \n",
      " {'C': 41.246263829013564, 'penalty': 'l2'}\n",
      "Best Parameters using grid search: \n",
      " {'C': 14.251026703029993, 'penalty': 'l2'}\n",
      "Best Parameters using grid search: \n",
      " {'C': 0.004124626382901352, 'penalty': 'l1'}\n",
      "Best Parameters using grid search: \n",
      " {'C': 7.01703828670383, 'penalty': 'l2'}\n",
      "Best Parameters using grid search: \n",
      " {'C': 0.5878016072274912, 'penalty': 'l2'}\n",
      "Best Parameters using grid search: \n",
      " {'C': 0.41246263829013524, 'penalty': 'l2'}\n",
      "Best Parameters using grid search: \n",
      " {'C': 58.780160722749116, 'penalty': 'l1'}\n",
      "Best Parameters using grid search: \n",
      " {'C': 10.0, 'penalty': 'l2'}\n",
      "Best Parameters using grid search: \n",
      " {'C': 41.246263829013564, 'penalty': 'l1'}\n",
      "Best Parameters using grid search: \n",
      " {'C': 1.7012542798525891, 'penalty': 'l2'}\n",
      "Best Parameters using grid search: \n",
      " {'C': 28.942661247167518, 'penalty': 'l2'}\n",
      "Best Parameters using grid search: \n",
      " {'C': 0.41246263829013524, 'penalty': 'l2'}\n",
      "Best Parameters using grid search: \n",
      " {'C': 20.30917620904739, 'penalty': 'l1'}\n",
      "Best Parameters using grid search: \n",
      " {'C': 3.4551072945922217, 'penalty': 'l2'}\n",
      "Best Parameters using grid search: \n",
      " {'C': 10.0, 'penalty': 'l1'}\n",
      "Best Parameters using grid search: \n",
      " {'C': 41.246263829013564, 'penalty': 'l1'}\n",
      "Best Parameters using grid search: \n",
      " {'C': 41.246263829013564, 'penalty': 'l2'}\n",
      "Best Parameters using grid search: \n",
      " {'C': 0.001, 'penalty': 'l1'}\n",
      "Best Parameters using grid search: \n",
      " {'C': 1.1937766417144369, 'penalty': 'l2'}\n",
      "Best Parameters using grid search: \n",
      " {'C': 0.004124626382901352, 'penalty': 'l1'}\n",
      "Best Parameters using grid search: \n",
      " {'C': 14.251026703029993, 'penalty': 'l2'}\n",
      "Best Parameters using grid search: \n",
      " {'C': 2.424462017082331, 'penalty': 'l2'}\n",
      "Best Parameters using grid search: \n",
      " {'C': 0.001, 'penalty': 'l1'}\n",
      "Best Parameters using grid search: \n",
      " {'C': 0.001, 'penalty': 'l1'}\n",
      "Best Parameters using grid search: \n",
      " {'C': 0.004124626382901352, 'penalty': 'l1'}\n",
      "Best Parameters using grid search: \n",
      " {'C': 83.76776400682924, 'penalty': 'l1'}\n",
      "Best Parameters using grid search: \n",
      " {'C': 1.1937766417144369, 'penalty': 'l1'}\n",
      "Best Parameters using grid search: \n",
      " {'C': 10.0, 'penalty': 'l1'}\n",
      "Best Parameters using grid search: \n",
      " {'C': 0.001, 'penalty': 'l1'}\n",
      "Best Parameters using grid search: \n",
      " {'C': 492.3882631706742, 'penalty': 'l1'}\n",
      "Best Parameters using grid search: \n",
      " {'C': 119.37766417144383, 'penalty': 'l1'}\n",
      "Best Parameters using grid search: \n",
      " {'C': 0.0058780160722749115, 'penalty': 'l1'}\n",
      "Best Parameters using grid search: \n",
      " {'C': 3.4551072945922217, 'penalty': 'l1'}\n",
      "Best Parameters using grid search: \n",
      " {'C': 0.004124626382901352, 'penalty': 'l1'}\n",
      "Best Parameters using grid search: \n",
      " {'C': 242.44620170823308, 'penalty': 'l1'}\n",
      "Best Parameters using grid search: \n",
      " {'C': 0.001, 'penalty': 'l1'}\n",
      "Best Parameters using grid search: \n",
      " {'C': 0.04923882631706741, 'penalty': 'l2'}\n",
      "Best Parameters using grid search: \n",
      " {'C': 7.01703828670383, 'penalty': 'l2'}\n",
      "Best Parameters using grid search: \n",
      " {'C': 0.28942661247167517, 'penalty': 'l1'}\n",
      "Best Parameters using grid search: \n",
      " {'C': 4.923882631706742, 'penalty': 'l2'}\n",
      "Best Parameters using grid search: \n",
      " {'C': 0.0058780160722749115, 'penalty': 'l1'}\n",
      "Best Parameters using grid search: \n",
      " {'C': 0.004124626382901352, 'penalty': 'l1'}\n",
      "Best Parameters using grid search: \n",
      " {'C': 0.004124626382901352, 'penalty': 'l1'}\n",
      "Best Parameters using grid search: \n",
      " {'C': 1.7012542798525891, 'penalty': 'l2'}\n",
      "Best Parameters using grid search: \n",
      " {'C': 0.5878016072274912, 'penalty': 'l1'}\n",
      "Best Parameters using grid search: \n",
      " {'C': 0.5878016072274912, 'penalty': 'l2'}\n",
      "Model \"lr\" - Done!\n",
      "Best Parameters using grid search: \n",
      " {'C': 0.01, 'gamma': 1, 'kernel': 'linear'}\n",
      "Best Parameters using grid search: \n",
      " {'C': 10, 'gamma': 0.001, 'kernel': 'rbf'}\n",
      "Best Parameters using grid search: \n",
      " {'C': 0.01, 'gamma': 1, 'kernel': 'linear'}\n",
      "Best Parameters using grid search: \n",
      " {'C': 0.1, 'gamma': 1, 'kernel': 'linear'}\n",
      "Best Parameters using grid search: \n",
      " {'C': 10, 'gamma': 0.001, 'kernel': 'rbf'}\n",
      "Best Parameters using grid search: \n",
      " {'C': 10, 'gamma': 0.001, 'kernel': 'rbf'}\n",
      "Best Parameters using grid search: \n",
      " {'C': 100, 'gamma': 0.0001, 'kernel': 'rbf'}\n",
      "Best Parameters using grid search: \n",
      " {'C': 0.1, 'gamma': 1, 'kernel': 'linear'}\n",
      "Best Parameters using grid search: \n",
      " {'C': 100, 'gamma': 0.001, 'kernel': 'rbf'}\n",
      "Best Parameters using grid search: \n",
      " {'C': 10, 'gamma': 0.001, 'kernel': 'rbf'}\n",
      "Best Parameters using grid search: \n",
      " {'C': 10, 'gamma': 0.001, 'kernel': 'rbf'}\n",
      "Best Parameters using grid search: \n",
      " {'C': 10, 'gamma': 0.001, 'kernel': 'rbf'}\n",
      "Best Parameters using grid search: \n",
      " {'C': 10, 'gamma': 0.001, 'kernel': 'rbf'}\n",
      "Best Parameters using grid search: \n",
      " {'C': 100, 'gamma': 0.001, 'kernel': 'rbf'}\n",
      "Best Parameters using grid search: \n",
      " {'C': 10, 'gamma': 0.001, 'kernel': 'rbf'}\n",
      "Best Parameters using grid search: \n",
      " {'C': 1000, 'gamma': 0.0001, 'kernel': 'rbf'}\n",
      "Best Parameters using grid search: \n",
      " {'C': 100, 'gamma': 0.001, 'kernel': 'rbf'}\n",
      "Best Parameters using grid search: \n",
      " {'C': 0.1, 'gamma': 1, 'kernel': 'linear'}\n",
      "Best Parameters using grid search: \n",
      " {'C': 0.1, 'gamma': 1, 'kernel': 'linear'}\n",
      "Best Parameters using grid search: \n",
      " {'C': 100, 'gamma': 0.0001, 'kernel': 'rbf'}\n",
      "Best Parameters using grid search: \n",
      " {'C': 10, 'gamma': 0.1, 'kernel': 'rbf'}\n",
      "Best Parameters using grid search: \n",
      " {'C': 100, 'gamma': 0.001, 'kernel': 'rbf'}\n",
      "Best Parameters using grid search: \n",
      " {'C': 0.1, 'gamma': 1, 'kernel': 'linear'}\n",
      "Best Parameters using grid search: \n",
      " {'C': 100, 'gamma': 0.001, 'kernel': 'rbf'}\n",
      "Best Parameters using grid search: \n",
      " {'C': 10, 'gamma': 0.001, 'kernel': 'rbf'}\n",
      "Best Parameters using grid search: \n",
      " {'C': 0.01, 'gamma': 1, 'kernel': 'linear'}\n",
      "Best Parameters using grid search: \n",
      " {'C': 10, 'gamma': 0.001, 'kernel': 'rbf'}\n",
      "Best Parameters using grid search: \n",
      " {'C': 0.1, 'gamma': 1, 'kernel': 'linear'}\n",
      "Best Parameters using grid search: \n",
      " {'C': 10, 'gamma': 0.001, 'kernel': 'rbf'}\n",
      "Best Parameters using grid search: \n",
      " {'C': 10, 'gamma': 0.001, 'kernel': 'rbf'}\n",
      "Best Parameters using grid search: \n",
      " {'C': 0.1, 'gamma': 1, 'kernel': 'linear'}\n",
      "Best Parameters using grid search: \n",
      " {'C': 0.01, 'gamma': 1, 'kernel': 'linear'}\n",
      "Best Parameters using grid search: \n",
      " {'C': 1000, 'gamma': 0.0001, 'kernel': 'rbf'}\n",
      "Best Parameters using grid search: \n",
      " {'C': 10, 'gamma': 0.1, 'kernel': 'rbf'}\n",
      "Best Parameters using grid search: \n",
      " {'C': 100, 'gamma': 0.001, 'kernel': 'rbf'}\n",
      "Best Parameters using grid search: \n",
      " {'C': 0.1, 'gamma': 1, 'kernel': 'linear'}\n",
      "Best Parameters using grid search: \n",
      " {'C': 0.01, 'gamma': 1, 'kernel': 'linear'}\n",
      "Best Parameters using grid search: \n",
      " {'C': 10, 'gamma': 0.001, 'kernel': 'rbf'}\n",
      "Best Parameters using grid search: \n",
      " {'C': 100, 'gamma': 0.001, 'kernel': 'rbf'}\n",
      "Best Parameters using grid search: \n",
      " {'C': 0.1, 'gamma': 1, 'kernel': 'linear'}\n",
      "Best Parameters using grid search: \n",
      " {'C': 10, 'gamma': 0.001, 'kernel': 'rbf'}\n",
      "Best Parameters using grid search: \n",
      " {'C': 10, 'gamma': 0.001, 'kernel': 'rbf'}\n",
      "Best Parameters using grid search: \n",
      " {'C': 100, 'gamma': 0.001, 'kernel': 'rbf'}\n",
      "Best Parameters using grid search: \n",
      " {'C': 100, 'gamma': 0.001, 'kernel': 'rbf'}\n",
      "Best Parameters using grid search: \n",
      " {'C': 10, 'gamma': 0.001, 'kernel': 'rbf'}\n",
      "Best Parameters using grid search: \n",
      " {'C': 100, 'gamma': 0.001, 'kernel': 'rbf'}\n",
      "Best Parameters using grid search: \n",
      " {'C': 0.1, 'gamma': 1, 'kernel': 'linear'}\n",
      "Best Parameters using grid search: \n",
      " {'C': 100, 'gamma': 0.0001, 'kernel': 'rbf'}\n",
      "Best Parameters using grid search: \n",
      " {'C': 10, 'gamma': 0.001, 'kernel': 'rbf'}\n",
      "Best Parameters using grid search: \n",
      " {'C': 10, 'gamma': 0.001, 'kernel': 'rbf'}\n",
      "Best Parameters using grid search: \n",
      " {'C': 0.01, 'gamma': 1, 'kernel': 'linear'}\n",
      "Best Parameters using grid search: \n",
      " {'C': 0.1, 'gamma': 1, 'kernel': 'linear'}\n",
      "Best Parameters using grid search: \n",
      " {'C': 10, 'gamma': 0.001, 'kernel': 'rbf'}\n",
      "Best Parameters using grid search: \n",
      " {'C': 100, 'gamma': 0.0001, 'kernel': 'rbf'}\n",
      "Best Parameters using grid search: \n",
      " {'C': 10, 'gamma': 0.001, 'kernel': 'rbf'}\n",
      "Best Parameters using grid search: \n",
      " {'C': 0.1, 'gamma': 1, 'kernel': 'linear'}\n",
      "Best Parameters using grid search: \n",
      " {'C': 0.1, 'gamma': 1, 'kernel': 'linear'}\n",
      "Best Parameters using grid search: \n",
      " {'C': 0.1, 'gamma': 1, 'kernel': 'linear'}\n",
      "Best Parameters using grid search: \n",
      " {'C': 10, 'gamma': 0.001, 'kernel': 'rbf'}\n",
      "Best Parameters using grid search: \n",
      " {'C': 0.01, 'gamma': 1, 'kernel': 'linear'}\n",
      "Best Parameters using grid search: \n",
      " {'C': 100, 'gamma': 0.001, 'kernel': 'rbf'}\n",
      "Best Parameters using grid search: \n",
      " {'C': 0.1, 'gamma': 1, 'kernel': 'linear'}\n",
      "Best Parameters using grid search: \n",
      " {'C': 0.1, 'gamma': 1, 'kernel': 'linear'}\n",
      "Best Parameters using grid search: \n",
      " {'C': 0.1, 'gamma': 1, 'kernel': 'linear'}\n",
      "Best Parameters using grid search: \n",
      " {'C': 10, 'gamma': 0.001, 'kernel': 'rbf'}\n",
      "Best Parameters using grid search: \n",
      " {'C': 10, 'gamma': 0.001, 'kernel': 'rbf'}\n",
      "Best Parameters using grid search: \n",
      " {'C': 1000, 'gamma': 0.0001, 'kernel': 'rbf'}\n",
      "Best Parameters using grid search: \n",
      " {'C': 0.1, 'gamma': 1, 'kernel': 'linear'}\n",
      "Best Parameters using grid search: \n",
      " {'C': 0.1, 'gamma': 1, 'kernel': 'linear'}\n",
      "Best Parameters using grid search: \n",
      " {'C': 0.01, 'gamma': 1, 'kernel': 'linear'}\n",
      "Best Parameters using grid search: \n",
      " {'C': 1000, 'gamma': 0.0001, 'kernel': 'rbf'}\n",
      "Best Parameters using grid search: \n",
      " {'C': 10, 'gamma': 0.001, 'kernel': 'rbf'}\n",
      "Best Parameters using grid search: \n",
      " {'C': 10, 'gamma': 0.001, 'kernel': 'rbf'}\n",
      "Best Parameters using grid search: \n",
      " {'C': 10, 'gamma': 0.001, 'kernel': 'rbf'}\n",
      "Best Parameters using grid search: \n",
      " {'C': 0.1, 'gamma': 1, 'kernel': 'linear'}\n",
      "Best Parameters using grid search: \n",
      " {'C': 100, 'gamma': 0.0001, 'kernel': 'rbf'}\n",
      "Best Parameters using grid search: \n",
      " {'C': 10, 'gamma': 0.001, 'kernel': 'rbf'}\n",
      "Best Parameters using grid search: \n",
      " {'C': 100, 'gamma': 0.001, 'kernel': 'rbf'}\n",
      "Best Parameters using grid search: \n",
      " {'C': 0.1, 'gamma': 1, 'kernel': 'linear'}\n",
      "Best Parameters using grid search: \n",
      " {'C': 0.1, 'gamma': 1, 'kernel': 'linear'}\n",
      "Best Parameters using grid search: \n",
      " {'C': 100, 'gamma': 0.001, 'kernel': 'rbf'}\n",
      "Best Parameters using grid search: \n",
      " {'C': 100, 'gamma': 0.001, 'kernel': 'rbf'}\n",
      "Best Parameters using grid search: \n",
      " {'C': 100, 'gamma': 0.0001, 'kernel': 'rbf'}\n",
      "Best Parameters using grid search: \n",
      " {'C': 100, 'gamma': 0.0001, 'kernel': 'rbf'}\n",
      "Best Parameters using grid search: \n",
      " {'C': 10, 'gamma': 0.001, 'kernel': 'rbf'}\n",
      "Best Parameters using grid search: \n",
      " {'C': 0.1, 'gamma': 1, 'kernel': 'linear'}\n",
      "Best Parameters using grid search: \n",
      " {'C': 0.1, 'gamma': 1, 'kernel': 'linear'}\n",
      "Best Parameters using grid search: \n",
      " {'C': 1, 'gamma': 0.1, 'kernel': 'rbf'}\n",
      "Best Parameters using grid search: \n",
      " {'C': 10, 'gamma': 0.001, 'kernel': 'rbf'}\n",
      "Best Parameters using grid search: \n",
      " {'C': 0.1, 'gamma': 1, 'kernel': 'linear'}\n",
      "Best Parameters using grid search: \n",
      " {'C': 100, 'gamma': 0.0001, 'kernel': 'rbf'}\n",
      "Best Parameters using grid search: \n",
      " {'C': 0.1, 'gamma': 1, 'kernel': 'linear'}\n",
      "Best Parameters using grid search: \n",
      " {'C': 0.01, 'gamma': 1, 'kernel': 'linear'}\n",
      "Best Parameters using grid search: \n",
      " {'C': 100, 'gamma': 0.001, 'kernel': 'rbf'}\n",
      "Best Parameters using grid search: \n",
      " {'C': 100, 'gamma': 0.001, 'kernel': 'rbf'}\n",
      "Best Parameters using grid search: \n",
      " {'C': 10, 'gamma': 0.001, 'kernel': 'rbf'}\n",
      "Best Parameters using grid search: \n",
      " {'C': 100, 'gamma': 0.001, 'kernel': 'rbf'}\n",
      "Best Parameters using grid search: \n",
      " {'C': 100, 'gamma': 0.001, 'kernel': 'rbf'}\n",
      "Best Parameters using grid search: \n",
      " {'C': 1000, 'gamma': 0.0001, 'kernel': 'rbf'}\n",
      "Best Parameters using grid search: \n",
      " {'C': 10, 'gamma': 0.001, 'kernel': 'rbf'}\n",
      "Model \"svc\" - Done!\n",
      "Best Parameters using grid search: \n",
      " {'max_depth': 100, 'max_features': None, 'min_samples_leaf': 2, 'min_samples_split': 2}\n",
      "Best Parameters using grid search: \n",
      " {'max_depth': 30, 'max_features': None, 'min_samples_leaf': 1, 'min_samples_split': 10}\n",
      "Best Parameters using grid search: \n",
      " {'max_depth': 5, 'max_features': None, 'min_samples_leaf': 1, 'min_samples_split': 2}\n",
      "Best Parameters using grid search: \n",
      " {'max_depth': 15, 'max_features': None, 'min_samples_leaf': 2, 'min_samples_split': 5}\n",
      "Best Parameters using grid search: \n",
      " {'max_depth': 5, 'max_features': None, 'min_samples_leaf': 1, 'min_samples_split': 5}\n",
      "Best Parameters using grid search: \n",
      " {'max_depth': 5, 'max_features': 'sqrt', 'min_samples_leaf': 1, 'min_samples_split': 10}\n",
      "Best Parameters using grid search: \n",
      " {'max_depth': 10, 'max_features': None, 'min_samples_leaf': 2, 'min_samples_split': 10}\n",
      "Best Parameters using grid search: \n",
      " {'max_depth': 15, 'max_features': None, 'min_samples_leaf': 1, 'min_samples_split': 2}\n",
      "Best Parameters using grid search: \n",
      " {'max_depth': 20, 'max_features': 'auto', 'min_samples_leaf': 2, 'min_samples_split': 5}\n",
      "Best Parameters using grid search: \n",
      " {'max_depth': 20, 'max_features': None, 'min_samples_leaf': 1, 'min_samples_split': 2}\n",
      "Best Parameters using grid search: \n",
      " {'max_depth': 15, 'max_features': None, 'min_samples_leaf': 2, 'min_samples_split': 10}\n",
      "Best Parameters using grid search: \n",
      " {'max_depth': 20, 'max_features': None, 'min_samples_leaf': 1, 'min_samples_split': 10}\n",
      "Best Parameters using grid search: \n",
      " {'max_depth': 10, 'max_features': None, 'min_samples_leaf': 1, 'min_samples_split': 10}\n",
      "Best Parameters using grid search: \n",
      " {'max_depth': 5, 'max_features': None, 'min_samples_leaf': 2, 'min_samples_split': 10}\n",
      "Best Parameters using grid search: \n",
      " {'max_depth': 100, 'max_features': 'sqrt', 'min_samples_leaf': 1, 'min_samples_split': 10}\n",
      "Best Parameters using grid search: \n",
      " {'max_depth': 50, 'max_features': None, 'min_samples_leaf': 1, 'min_samples_split': 10}\n",
      "Best Parameters using grid search: \n",
      " {'max_depth': 15, 'max_features': None, 'min_samples_leaf': 1, 'min_samples_split': 2}\n",
      "Best Parameters using grid search: \n",
      " {'max_depth': 10, 'max_features': 'log2', 'min_samples_leaf': 2, 'min_samples_split': 2}\n",
      "Best Parameters using grid search: \n",
      " {'max_depth': 20, 'max_features': 'auto', 'min_samples_leaf': 2, 'min_samples_split': 2}\n",
      "Best Parameters using grid search: \n",
      " {'max_depth': 15, 'max_features': 'sqrt', 'min_samples_leaf': 1, 'min_samples_split': 2}\n",
      "Best Parameters using grid search: \n",
      " {'max_depth': 5, 'max_features': None, 'min_samples_leaf': 1, 'min_samples_split': 10}\n",
      "Best Parameters using grid search: \n",
      " {'max_depth': 20, 'max_features': None, 'min_samples_leaf': 2, 'min_samples_split': 5}\n",
      "Best Parameters using grid search: \n",
      " {'max_depth': 100, 'max_features': None, 'min_samples_leaf': 2, 'min_samples_split': 2}\n",
      "Best Parameters using grid search: \n",
      " {'max_depth': 50, 'max_features': None, 'min_samples_leaf': 2, 'min_samples_split': 10}\n",
      "Best Parameters using grid search: \n",
      " {'max_depth': 15, 'max_features': None, 'min_samples_leaf': 2, 'min_samples_split': 10}\n",
      "Best Parameters using grid search: \n",
      " {'max_depth': 30, 'max_features': None, 'min_samples_leaf': 1, 'min_samples_split': 2}\n",
      "Best Parameters using grid search: \n",
      " {'max_depth': 20, 'max_features': 'auto', 'min_samples_leaf': 2, 'min_samples_split': 5}\n",
      "Best Parameters using grid search: \n",
      " {'max_depth': 15, 'max_features': 'log2', 'min_samples_leaf': 1, 'min_samples_split': 2}\n",
      "Best Parameters using grid search: \n",
      " {'max_depth': 10, 'max_features': 'sqrt', 'min_samples_leaf': 1, 'min_samples_split': 2}\n",
      "Best Parameters using grid search: \n",
      " {'max_depth': 15, 'max_features': None, 'min_samples_leaf': 2, 'min_samples_split': 2}\n",
      "Best Parameters using grid search: \n",
      " {'max_depth': 5, 'max_features': None, 'min_samples_leaf': 1, 'min_samples_split': 10}\n",
      "Best Parameters using grid search: \n",
      " {'max_depth': 30, 'max_features': None, 'min_samples_leaf': 2, 'min_samples_split': 5}\n",
      "Best Parameters using grid search: \n",
      " {'max_depth': 20, 'max_features': None, 'min_samples_leaf': 2, 'min_samples_split': 5}\n",
      "Best Parameters using grid search: \n",
      " {'max_depth': 50, 'max_features': 'log2', 'min_samples_leaf': 1, 'min_samples_split': 10}\n",
      "Best Parameters using grid search: \n",
      " {'max_depth': 20, 'max_features': 'sqrt', 'min_samples_leaf': 1, 'min_samples_split': 2}\n",
      "Best Parameters using grid search: \n",
      " {'max_depth': 5, 'max_features': None, 'min_samples_leaf': 1, 'min_samples_split': 2}\n",
      "Best Parameters using grid search: \n",
      " {'max_depth': 20, 'max_features': None, 'min_samples_leaf': 1, 'min_samples_split': 2}\n",
      "Best Parameters using grid search: \n",
      " {'max_depth': 100, 'max_features': None, 'min_samples_leaf': 1, 'min_samples_split': 10}\n",
      "Best Parameters using grid search: \n",
      " {'max_depth': 10, 'max_features': None, 'min_samples_leaf': 1, 'min_samples_split': 2}\n",
      "Best Parameters using grid search: \n",
      " {'max_depth': 30, 'max_features': 'auto', 'min_samples_leaf': 1, 'min_samples_split': 2}\n",
      "Best Parameters using grid search: \n",
      " {'max_depth': 30, 'max_features': 'log2', 'min_samples_leaf': 2, 'min_samples_split': 2}\n",
      "Best Parameters using grid search: \n",
      " {'max_depth': 20, 'max_features': None, 'min_samples_leaf': 2, 'min_samples_split': 5}\n",
      "Best Parameters using grid search: \n",
      " {'max_depth': 20, 'max_features': None, 'min_samples_leaf': 2, 'min_samples_split': 2}\n",
      "Best Parameters using grid search: \n",
      " {'max_depth': 15, 'max_features': 'log2', 'min_samples_leaf': 1, 'min_samples_split': 5}\n",
      "Best Parameters using grid search: \n",
      " {'max_depth': 5, 'max_features': 'auto', 'min_samples_leaf': 2, 'min_samples_split': 5}\n",
      "Best Parameters using grid search: \n",
      " {'max_depth': 5, 'max_features': 'log2', 'min_samples_leaf': 2, 'min_samples_split': 2}\n",
      "Best Parameters using grid search: \n",
      " {'max_depth': 50, 'max_features': 'auto', 'min_samples_leaf': 1, 'min_samples_split': 5}\n",
      "Best Parameters using grid search: \n",
      " {'max_depth': 30, 'max_features': 'sqrt', 'min_samples_leaf': 2, 'min_samples_split': 2}\n",
      "Best Parameters using grid search: \n",
      " {'max_depth': 15, 'max_features': None, 'min_samples_leaf': 4, 'min_samples_split': 2}\n",
      "Best Parameters using grid search: \n",
      " {'max_depth': 15, 'max_features': None, 'min_samples_leaf': 1, 'min_samples_split': 2}\n",
      "Best Parameters using grid search: \n",
      " {'max_depth': 10, 'max_features': None, 'min_samples_leaf': 1, 'min_samples_split': 2}\n",
      "Best Parameters using grid search: \n",
      " {'max_depth': 100, 'max_features': 'log2', 'min_samples_leaf': 2, 'min_samples_split': 2}\n",
      "Best Parameters using grid search: \n",
      " {'max_depth': 10, 'max_features': 'sqrt', 'min_samples_leaf': 2, 'min_samples_split': 5}\n",
      "Best Parameters using grid search: \n",
      " {'max_depth': 50, 'max_features': None, 'min_samples_leaf': 2, 'min_samples_split': 2}\n",
      "Best Parameters using grid search: \n",
      " {'max_depth': 50, 'max_features': None, 'min_samples_leaf': 1, 'min_samples_split': 5}\n",
      "Best Parameters using grid search: \n",
      " {'max_depth': 5, 'max_features': 'sqrt', 'min_samples_leaf': 2, 'min_samples_split': 2}\n",
      "Best Parameters using grid search: \n",
      " {'max_depth': 30, 'max_features': 'log2', 'min_samples_leaf': 1, 'min_samples_split': 5}\n",
      "Best Parameters using grid search: \n",
      " {'max_depth': 30, 'max_features': 'log2', 'min_samples_leaf': 2, 'min_samples_split': 5}\n",
      "Best Parameters using grid search: \n",
      " {'max_depth': 10, 'max_features': None, 'min_samples_leaf': 1, 'min_samples_split': 2}\n",
      "Best Parameters using grid search: \n",
      " {'max_depth': 20, 'max_features': None, 'min_samples_leaf': 1, 'min_samples_split': 2}\n",
      "Best Parameters using grid search: \n",
      " {'max_depth': 10, 'max_features': 'auto', 'min_samples_leaf': 2, 'min_samples_split': 2}\n",
      "Best Parameters using grid search: \n",
      " {'max_depth': 50, 'max_features': 'log2', 'min_samples_leaf': 2, 'min_samples_split': 5}\n",
      "Best Parameters using grid search: \n",
      " {'max_depth': 30, 'max_features': None, 'min_samples_leaf': 2, 'min_samples_split': 10}\n",
      "Best Parameters using grid search: \n",
      " {'max_depth': 5, 'max_features': None, 'min_samples_leaf': 2, 'min_samples_split': 10}\n",
      "Best Parameters using grid search: \n",
      " {'max_depth': 30, 'max_features': None, 'min_samples_leaf': 4, 'min_samples_split': 2}\n",
      "Best Parameters using grid search: \n",
      " {'max_depth': 10, 'max_features': 'auto', 'min_samples_leaf': 2, 'min_samples_split': 5}\n",
      "Best Parameters using grid search: \n",
      " {'max_depth': 100, 'max_features': None, 'min_samples_leaf': 1, 'min_samples_split': 5}\n",
      "Best Parameters using grid search: \n",
      " {'max_depth': 30, 'max_features': None, 'min_samples_leaf': 1, 'min_samples_split': 10}\n",
      "Best Parameters using grid search: \n",
      " {'max_depth': 15, 'max_features': 'auto', 'min_samples_leaf': 2, 'min_samples_split': 2}\n",
      "Best Parameters using grid search: \n",
      " {'max_depth': 10, 'max_features': 'auto', 'min_samples_leaf': 2, 'min_samples_split': 5}\n",
      "Best Parameters using grid search: \n",
      " {'max_depth': 100, 'max_features': None, 'min_samples_leaf': 1, 'min_samples_split': 2}\n",
      "Best Parameters using grid search: \n",
      " {'max_depth': 50, 'max_features': None, 'min_samples_leaf': 2, 'min_samples_split': 5}\n",
      "Best Parameters using grid search: \n",
      " {'max_depth': 20, 'max_features': 'auto', 'min_samples_leaf': 1, 'min_samples_split': 5}\n",
      "Best Parameters using grid search: \n",
      " {'max_depth': 5, 'max_features': None, 'min_samples_leaf': 4, 'min_samples_split': 5}\n",
      "Best Parameters using grid search: \n",
      " {'max_depth': 100, 'max_features': 'auto', 'min_samples_leaf': 2, 'min_samples_split': 5}\n",
      "Best Parameters using grid search: \n",
      " {'max_depth': 50, 'max_features': 'auto', 'min_samples_leaf': 2, 'min_samples_split': 5}\n",
      "Best Parameters using grid search: \n",
      " {'max_depth': 5, 'max_features': None, 'min_samples_leaf': 2, 'min_samples_split': 2}\n",
      "Best Parameters using grid search: \n",
      " {'max_depth': 100, 'max_features': 'sqrt', 'min_samples_leaf': 1, 'min_samples_split': 10}\n",
      "Best Parameters using grid search: \n",
      " {'max_depth': 50, 'max_features': None, 'min_samples_leaf': 2, 'min_samples_split': 2}\n",
      "Best Parameters using grid search: \n",
      " {'max_depth': 10, 'max_features': None, 'min_samples_leaf': 1, 'min_samples_split': 10}\n",
      "Best Parameters using grid search: \n",
      " {'max_depth': 20, 'max_features': None, 'min_samples_leaf': 1, 'min_samples_split': 5}\n",
      "Best Parameters using grid search: \n",
      " {'max_depth': 10, 'max_features': None, 'min_samples_leaf': 2, 'min_samples_split': 2}\n",
      "Best Parameters using grid search: \n",
      " {'max_depth': 10, 'max_features': 'log2', 'min_samples_leaf': 1, 'min_samples_split': 10}\n",
      "Best Parameters using grid search: \n",
      " {'max_depth': 50, 'max_features': 'auto', 'min_samples_leaf': 1, 'min_samples_split': 10}\n",
      "Best Parameters using grid search: \n",
      " {'max_depth': 5, 'max_features': 'auto', 'min_samples_leaf': 1, 'min_samples_split': 2}\n",
      "Best Parameters using grid search: \n",
      " {'max_depth': 50, 'max_features': 'log2', 'min_samples_leaf': 1, 'min_samples_split': 5}\n",
      "Best Parameters using grid search: \n",
      " {'max_depth': 100, 'max_features': None, 'min_samples_leaf': 1, 'min_samples_split': 10}\n",
      "Best Parameters using grid search: \n",
      " {'max_depth': 30, 'max_features': None, 'min_samples_leaf': 2, 'min_samples_split': 5}\n",
      "Best Parameters using grid search: \n",
      " {'max_depth': 15, 'max_features': 'auto', 'min_samples_leaf': 2, 'min_samples_split': 2}\n",
      "Best Parameters using grid search: \n",
      " {'max_depth': 20, 'max_features': 'auto', 'min_samples_leaf': 1, 'min_samples_split': 2}\n",
      "Best Parameters using grid search: \n",
      " {'max_depth': 5, 'max_features': None, 'min_samples_leaf': 1, 'min_samples_split': 5}\n",
      "Best Parameters using grid search: \n",
      " {'max_depth': 20, 'max_features': 'log2', 'min_samples_leaf': 1, 'min_samples_split': 5}\n",
      "Best Parameters using grid search: \n",
      " {'max_depth': 15, 'max_features': 'log2', 'min_samples_leaf': 2, 'min_samples_split': 5}\n",
      "Best Parameters using grid search: \n",
      " {'max_depth': 30, 'max_features': None, 'min_samples_leaf': 2, 'min_samples_split': 5}\n",
      "Best Parameters using grid search: \n",
      " {'max_depth': 20, 'max_features': 'sqrt', 'min_samples_leaf': 2, 'min_samples_split': 2}\n",
      "Best Parameters using grid search: \n",
      " {'max_depth': 20, 'max_features': None, 'min_samples_leaf': 1, 'min_samples_split': 5}\n",
      "Best Parameters using grid search: \n",
      " {'max_depth': 15, 'max_features': None, 'min_samples_leaf': 2, 'min_samples_split': 5}\n",
      "Best Parameters using grid search: \n",
      " {'max_depth': 100, 'max_features': 'auto', 'min_samples_leaf': 1, 'min_samples_split': 2}\n",
      "Best Parameters using grid search: \n",
      " {'max_depth': 15, 'max_features': 'auto', 'min_samples_leaf': 2, 'min_samples_split': 2}\n",
      "Best Parameters using grid search: \n",
      " {'max_depth': 10, 'max_features': None, 'min_samples_leaf': 2, 'min_samples_split': 5}\n",
      "Model \"rf\" - Done!\n",
      "Best Parameters using grid search: \n",
      " {'max_depth': 10, 'min_samples_leaf': 3, 'min_samples_split': 4}\n",
      "Best Parameters using grid search: \n",
      " {'max_depth': 30, 'min_samples_leaf': 4, 'min_samples_split': 3}\n",
      "Best Parameters using grid search: \n",
      " {'max_depth': 30, 'min_samples_leaf': 1, 'min_samples_split': 4}\n",
      "Best Parameters using grid search: \n",
      " {'max_depth': 100, 'min_samples_leaf': 3, 'min_samples_split': 5}\n",
      "Best Parameters using grid search: \n",
      " {'max_depth': 100, 'min_samples_leaf': 3, 'min_samples_split': 2}\n",
      "Best Parameters using grid search: \n",
      " {'max_depth': 5, 'min_samples_leaf': 2, 'min_samples_split': 3}\n",
      "Best Parameters using grid search: \n",
      " {'max_depth': 10, 'min_samples_leaf': 3, 'min_samples_split': 3}\n",
      "Best Parameters using grid search: \n",
      " {'max_depth': 10, 'min_samples_leaf': 4, 'min_samples_split': 2}\n",
      "Best Parameters using grid search: \n",
      " {'max_depth': 50, 'min_samples_leaf': 2, 'min_samples_split': 2}\n",
      "Best Parameters using grid search: \n",
      " {'max_depth': 5, 'min_samples_leaf': 1, 'min_samples_split': 4}\n",
      "Best Parameters using grid search: \n",
      " {'max_depth': 5, 'min_samples_leaf': 1, 'min_samples_split': 2}\n",
      "Best Parameters using grid search: \n",
      " {'max_depth': 50, 'min_samples_leaf': 4, 'min_samples_split': 3}\n",
      "Best Parameters using grid search: \n",
      " {'max_depth': 100, 'min_samples_leaf': 2, 'min_samples_split': 3}\n",
      "Best Parameters using grid search: \n",
      " {'max_depth': 10, 'min_samples_leaf': 1, 'min_samples_split': 4}\n",
      "Best Parameters using grid search: \n",
      " {'max_depth': 10, 'min_samples_leaf': 1, 'min_samples_split': 5}\n",
      "Best Parameters using grid search: \n",
      " {'max_depth': 5, 'min_samples_leaf': 1, 'min_samples_split': 3}\n",
      "Best Parameters using grid search: \n",
      " {'max_depth': 30, 'min_samples_leaf': 1, 'min_samples_split': 3}\n",
      "Best Parameters using grid search: \n",
      " {'max_depth': 100, 'min_samples_leaf': 1, 'min_samples_split': 3}\n",
      "Best Parameters using grid search: \n",
      " {'max_depth': 5, 'min_samples_leaf': 1, 'min_samples_split': 3}\n",
      "Best Parameters using grid search: \n",
      " {'max_depth': 30, 'min_samples_leaf': 1, 'min_samples_split': 3}\n",
      "Best Parameters using grid search: \n",
      " {'max_depth': 50, 'min_samples_leaf': 1, 'min_samples_split': 2}\n",
      "Best Parameters using grid search: \n",
      " {'max_depth': 5, 'min_samples_leaf': 3, 'min_samples_split': 5}\n",
      "Best Parameters using grid search: \n",
      " {'max_depth': 30, 'min_samples_leaf': 4, 'min_samples_split': 4}\n",
      "Best Parameters using grid search: \n",
      " {'max_depth': 15, 'min_samples_leaf': 2, 'min_samples_split': 3}\n",
      "Best Parameters using grid search: \n",
      " {'max_depth': 50, 'min_samples_leaf': 1, 'min_samples_split': 2}\n",
      "Best Parameters using grid search: \n",
      " {'max_depth': 5, 'min_samples_leaf': 1, 'min_samples_split': 4}\n",
      "Best Parameters using grid search: \n",
      " {'max_depth': 15, 'min_samples_leaf': 1, 'min_samples_split': 3}\n",
      "Best Parameters using grid search: \n",
      " {'max_depth': 15, 'min_samples_leaf': 1, 'min_samples_split': 3}\n",
      "Best Parameters using grid search: \n",
      " {'max_depth': 5, 'min_samples_leaf': 4, 'min_samples_split': 2}\n",
      "Best Parameters using grid search: \n",
      " {'max_depth': 50, 'min_samples_leaf': 3, 'min_samples_split': 2}\n",
      "Best Parameters using grid search: \n",
      " {'max_depth': 5, 'min_samples_leaf': 1, 'min_samples_split': 3}\n",
      "Best Parameters using grid search: \n",
      " {'max_depth': 10, 'min_samples_leaf': 3, 'min_samples_split': 4}\n",
      "Best Parameters using grid search: \n",
      " {'max_depth': 30, 'min_samples_leaf': 3, 'min_samples_split': 5}\n",
      "Best Parameters using grid search: \n",
      " {'max_depth': 100, 'min_samples_leaf': 2, 'min_samples_split': 3}\n",
      "Best Parameters using grid search: \n",
      " {'max_depth': 5, 'min_samples_leaf': 1, 'min_samples_split': 4}\n",
      "Best Parameters using grid search: \n",
      " {'max_depth': 30, 'min_samples_leaf': 1, 'min_samples_split': 5}\n",
      "Best Parameters using grid search: \n",
      " {'max_depth': 15, 'min_samples_leaf': 2, 'min_samples_split': 5}\n",
      "Best Parameters using grid search: \n",
      " {'max_depth': 100, 'min_samples_leaf': 2, 'min_samples_split': 3}\n",
      "Best Parameters using grid search: \n",
      " {'max_depth': 5, 'min_samples_leaf': 2, 'min_samples_split': 2}\n",
      "Best Parameters using grid search: \n",
      " {'max_depth': 5, 'min_samples_leaf': 1, 'min_samples_split': 4}\n",
      "Best Parameters using grid search: \n",
      " {'max_depth': 10, 'min_samples_leaf': 3, 'min_samples_split': 2}\n",
      "Best Parameters using grid search: \n",
      " {'max_depth': 5, 'min_samples_leaf': 2, 'min_samples_split': 2}\n",
      "Best Parameters using grid search: \n",
      " {'max_depth': 50, 'min_samples_leaf': 3, 'min_samples_split': 3}\n",
      "Best Parameters using grid search: \n",
      " {'max_depth': 100, 'min_samples_leaf': 1, 'min_samples_split': 2}\n",
      "Best Parameters using grid search: \n",
      " {'max_depth': 5, 'min_samples_leaf': 2, 'min_samples_split': 2}\n",
      "Best Parameters using grid search: \n",
      " {'max_depth': 5, 'min_samples_leaf': 2, 'min_samples_split': 2}\n",
      "Best Parameters using grid search: \n",
      " {'max_depth': 30, 'min_samples_leaf': 1, 'min_samples_split': 5}\n",
      "Best Parameters using grid search: \n",
      " {'max_depth': 15, 'min_samples_leaf': 4, 'min_samples_split': 2}\n",
      "Best Parameters using grid search: \n",
      " {'max_depth': 10, 'min_samples_leaf': 2, 'min_samples_split': 3}\n",
      "Best Parameters using grid search: \n",
      " {'max_depth': 15, 'min_samples_leaf': 1, 'min_samples_split': 4}\n",
      "Best Parameters using grid search: \n",
      " {'max_depth': 50, 'min_samples_leaf': 2, 'min_samples_split': 2}\n",
      "Best Parameters using grid search: \n",
      " {'max_depth': 5, 'min_samples_leaf': 1, 'min_samples_split': 4}\n",
      "Best Parameters using grid search: \n",
      " {'max_depth': 5, 'min_samples_leaf': 2, 'min_samples_split': 4}\n",
      "Best Parameters using grid search: \n",
      " {'max_depth': 30, 'min_samples_leaf': 1, 'min_samples_split': 5}\n",
      "Best Parameters using grid search: \n",
      " {'max_depth': 50, 'min_samples_leaf': 2, 'min_samples_split': 3}\n",
      "Best Parameters using grid search: \n",
      " {'max_depth': 10, 'min_samples_leaf': 1, 'min_samples_split': 2}\n",
      "Best Parameters using grid search: \n",
      " {'max_depth': 5, 'min_samples_leaf': 1, 'min_samples_split': 2}\n",
      "Best Parameters using grid search: \n",
      " {'max_depth': 15, 'min_samples_leaf': 1, 'min_samples_split': 5}\n",
      "Best Parameters using grid search: \n",
      " {'max_depth': 100, 'min_samples_leaf': 4, 'min_samples_split': 3}\n",
      "Best Parameters using grid search: \n",
      " {'max_depth': 5, 'min_samples_leaf': 4, 'min_samples_split': 2}\n",
      "Best Parameters using grid search: \n",
      " {'max_depth': 50, 'min_samples_leaf': 4, 'min_samples_split': 5}\n",
      "Best Parameters using grid search: \n",
      " {'max_depth': 10, 'min_samples_leaf': 3, 'min_samples_split': 2}\n",
      "Best Parameters using grid search: \n",
      " {'max_depth': 10, 'min_samples_leaf': 2, 'min_samples_split': 4}\n",
      "Best Parameters using grid search: \n",
      " {'max_depth': 5, 'min_samples_leaf': 2, 'min_samples_split': 3}\n",
      "Best Parameters using grid search: \n",
      " {'max_depth': 30, 'min_samples_leaf': 4, 'min_samples_split': 4}\n",
      "Best Parameters using grid search: \n",
      " {'max_depth': 30, 'min_samples_leaf': 2, 'min_samples_split': 2}\n",
      "Best Parameters using grid search: \n",
      " {'max_depth': 10, 'min_samples_leaf': 1, 'min_samples_split': 2}\n",
      "Best Parameters using grid search: \n",
      " {'max_depth': 30, 'min_samples_leaf': 3, 'min_samples_split': 3}\n",
      "Best Parameters using grid search: \n",
      " {'max_depth': 100, 'min_samples_leaf': 2, 'min_samples_split': 4}\n",
      "Best Parameters using grid search: \n",
      " {'max_depth': 15, 'min_samples_leaf': 2, 'min_samples_split': 4}\n",
      "Best Parameters using grid search: \n",
      " {'max_depth': 5, 'min_samples_leaf': 1, 'min_samples_split': 4}\n",
      "Best Parameters using grid search: \n",
      " {'max_depth': 10, 'min_samples_leaf': 1, 'min_samples_split': 2}\n",
      "Best Parameters using grid search: \n",
      " {'max_depth': 10, 'min_samples_leaf': 3, 'min_samples_split': 2}\n",
      "Best Parameters using grid search: \n",
      " {'max_depth': 50, 'min_samples_leaf': 2, 'min_samples_split': 4}\n",
      "Best Parameters using grid search: \n",
      " {'max_depth': 10, 'min_samples_leaf': 3, 'min_samples_split': 4}\n",
      "Best Parameters using grid search: \n",
      " {'max_depth': 30, 'min_samples_leaf': 1, 'min_samples_split': 5}\n",
      "Best Parameters using grid search: \n",
      " {'max_depth': 15, 'min_samples_leaf': 2, 'min_samples_split': 4}\n",
      "Best Parameters using grid search: \n",
      " {'max_depth': 100, 'min_samples_leaf': 2, 'min_samples_split': 5}\n",
      "Best Parameters using grid search: \n",
      " {'max_depth': 15, 'min_samples_leaf': 2, 'min_samples_split': 5}\n",
      "Best Parameters using grid search: \n",
      " {'max_depth': 5, 'min_samples_leaf': 4, 'min_samples_split': 5}\n",
      "Best Parameters using grid search: \n",
      " {'max_depth': 50, 'min_samples_leaf': 1, 'min_samples_split': 3}\n",
      "Best Parameters using grid search: \n",
      " {'max_depth': 10, 'min_samples_leaf': 1, 'min_samples_split': 3}\n",
      "Best Parameters using grid search: \n",
      " {'max_depth': 10, 'min_samples_leaf': 2, 'min_samples_split': 4}\n",
      "Best Parameters using grid search: \n",
      " {'max_depth': 5, 'min_samples_leaf': 1, 'min_samples_split': 4}\n",
      "Best Parameters using grid search: \n",
      " {'max_depth': 5, 'min_samples_leaf': 1, 'min_samples_split': 4}\n",
      "Best Parameters using grid search: \n",
      " {'max_depth': 15, 'min_samples_leaf': 2, 'min_samples_split': 5}\n",
      "Best Parameters using grid search: \n",
      " {'max_depth': 5, 'min_samples_leaf': 3, 'min_samples_split': 2}\n",
      "Best Parameters using grid search: \n",
      " {'max_depth': 15, 'min_samples_leaf': 1, 'min_samples_split': 2}\n",
      "Best Parameters using grid search: \n",
      " {'max_depth': 30, 'min_samples_leaf': 3, 'min_samples_split': 3}\n",
      "Best Parameters using grid search: \n",
      " {'max_depth': 10, 'min_samples_leaf': 2, 'min_samples_split': 4}\n",
      "Best Parameters using grid search: \n",
      " {'max_depth': 50, 'min_samples_leaf': 2, 'min_samples_split': 4}\n",
      "Best Parameters using grid search: \n",
      " {'max_depth': 30, 'min_samples_leaf': 4, 'min_samples_split': 2}\n",
      "Best Parameters using grid search: \n",
      " {'max_depth': 100, 'min_samples_leaf': 1, 'min_samples_split': 2}\n",
      "Best Parameters using grid search: \n",
      " {'max_depth': 5, 'min_samples_leaf': 3, 'min_samples_split': 4}\n",
      "Best Parameters using grid search: \n",
      " {'max_depth': 100, 'min_samples_leaf': 2, 'min_samples_split': 2}\n",
      "Best Parameters using grid search: \n",
      " {'max_depth': 100, 'min_samples_leaf': 4, 'min_samples_split': 3}\n",
      "Best Parameters using grid search: \n",
      " {'max_depth': 30, 'min_samples_leaf': 2, 'min_samples_split': 2}\n",
      "Best Parameters using grid search: \n",
      " {'max_depth': 15, 'min_samples_leaf': 1, 'min_samples_split': 2}\n",
      "Best Parameters using grid search: \n",
      " {'max_depth': 30, 'min_samples_leaf': 3, 'min_samples_split': 2}\n",
      "Best Parameters using grid search: \n",
      " {'max_depth': 100, 'min_samples_leaf': 1, 'min_samples_split': 4}\n",
      "Model \"dt\" - Done!\n"
     ]
    }
   ],
   "source": [
    "from sklearn.svm import SVC\n",
    "from sklearn.linear_model import LogisticRegression\n",
    "from sklearn.tree import DecisionTreeClassifier\n",
    "from sklearn.ensemble import RandomForestClassifier\n",
    "\n",
    "models = ['lr', 'svc', 'rf', 'dt'] # , 'LR':lr, 'XGB':xgb, 'SVC':svc\n",
    "\n",
    "plot_dfs = {'rf_results':0,\n",
    "            'svc_results':0,\n",
    "            'lr_results':0,\n",
    "            'dt_results':0}\n",
    "\n",
    "for model in models:\n",
    "    predicted_y = final_output(x, y, model)['Average_prob']\n",
    "    plot_dfs[f'{model}_results'] = pd.DataFrame({\"true_y\":y,\n",
    "                                               \"predicted_y\":predicted_y})"
   ]
  },
  {
   "cell_type": "code",
   "execution_count": 34,
   "metadata": {},
   "outputs": [],
   "source": [
    "plot_dfs = mean_model_prob(plot_dfs)"
   ]
  },
  {
   "cell_type": "code",
   "execution_count": 67,
   "metadata": {},
   "outputs": [],
   "source": [
    "# import math\n",
    "# plot_dfs['mean_results']\n",
    "# plot_dfs['mean_results'][plot_dfs['mean_results']['predicted_y'].map(lambda x: math.isnan(x))] = 1.0"
   ]
  },
  {
   "cell_type": "code",
   "execution_count": 68,
   "metadata": {},
   "outputs": [
    {
     "data": {
      "text/html": [
       "<div>\n",
       "<style scoped>\n",
       "    .dataframe tbody tr th:only-of-type {\n",
       "        vertical-align: middle;\n",
       "    }\n",
       "\n",
       "    .dataframe tbody tr th {\n",
       "        vertical-align: top;\n",
       "    }\n",
       "\n",
       "    .dataframe thead th {\n",
       "        text-align: right;\n",
       "    }\n",
       "</style>\n",
       "<table border=\"1\" class=\"dataframe\">\n",
       "  <thead>\n",
       "    <tr style=\"text-align: right;\">\n",
       "      <th></th>\n",
       "      <th>predicted_y</th>\n",
       "    </tr>\n",
       "  </thead>\n",
       "  <tbody>\n",
       "  </tbody>\n",
       "</table>\n",
       "</div>"
      ],
      "text/plain": [
       "Empty DataFrame\n",
       "Columns: [predicted_y]\n",
       "Index: []"
      ]
     },
     "execution_count": 68,
     "metadata": {},
     "output_type": "execute_result"
    }
   ],
   "source": [
    "# plot_dfs['mean_results'][plot_dfs['mean_results']['predicted_y'].map(lambda x: math.isnan(x))]"
   ]
  },
  {
   "cell_type": "code",
   "execution_count": null,
   "metadata": {},
   "outputs": [],
   "source": [
    "# gtex_frames['mean_results'] = plot_dfs['mean_results']"
   ]
  },
  {
   "cell_type": "code",
   "execution_count": 47,
   "metadata": {},
   "outputs": [],
   "source": [
    "for key, value in plot_dfs.items():\n",
    "    ind = x.index\n",
    "    pd.DataFrame({'gene_symbol': ind, 'Mean':value['predicted_y']}).to_csv(f'/home/nikita/Desktop/triple_phe/BD/{key}.tsv', sep='\\t', index=False)"
   ]
  },
  {
   "cell_type": "code",
   "execution_count": 113,
   "metadata": {},
   "outputs": [],
   "source": [
    "true_genes = pd.read_csv('/home/nikita/Documents/work/git_projects/GWASPriors/SCZ/SCZ/true_genes.csv')\n",
    "scz_genes = set(true_genes[true_genes['Gene(s)'].map(lambda x: ',' not in str(x))]['Gene(s)']) & set(gtex_frames['gene_symbol'])"
   ]
  },
  {
   "cell_type": "code",
   "execution_count": 115,
   "metadata": {},
   "outputs": [],
   "source": [
    "gsea = scz_genes"
   ]
  },
  {
   "cell_type": "code",
   "execution_count": 116,
   "metadata": {},
   "outputs": [],
   "source": [
    "gsea = pd.read_csv('/home/nikita/Downloads/efotraits_EFO_0000289-associations-2019-10-9(1).csv', sep=',')['Mapped gene'].values"
   ]
  },
  {
   "cell_type": "code",
   "execution_count": 117,
   "metadata": {},
   "outputs": [
    {
     "data": {
      "text/plain": [
       "array(['HLA-V, AL645939.3', 'CACNA1C', 'IPO8', 'LINC02033, HSPD1P6',\n",
       "       'TRIM26', 'ITIH3', 'LINC02033, HSPD1P6', 'IPO8', 'PCDH12',\n",
       "       'AC069288.1, MAD1L1', 'DNM1P41, EFL1P1', 'MIR137HG',\n",
       "       'GPR89P, RSL24D1P1', 'HLA-V, AL645939.3', 'U95743.1, U91319.1',\n",
       "       'ANK3', 'ITIH1', 'LINC02033, HSPD1P6', 'FADS2', 'GRIN2A', 'LMAN2L',\n",
       "       'LINC02033, HSPD1P6', 'AC006252.1, PPM1M', 'LMAN2L',\n",
       "       'CCDC68, LINC01929', 'ANK3', 'CACNA1C, CACNA1C-IT3', 'LINC01592',\n",
       "       'LINC02033, HSPD1P6', 'MAD1L1, AC069288.1', 'NFIX', \"'-\", \"'-\",\n",
       "       'ITIH3', 'ANK3', 'TENM4', 'FADS2, FADS1', 'PUS7, SRPK2', 'NCAN',\n",
       "       'GPR89P, RSL24D1P1', 'MAD1L1, AC069288.1', 'LINC02033, HSPD1P6',\n",
       "       'AC069288.1, MAD1L1', 'NCAN', 'SCN2A', 'CNNM2', 'TENM4', 'ITIH1',\n",
       "       'CACNA1C', 'AL157359.1', 'AL157359.1', 'THSD7A', 'ANK3', 'SDCCAG8',\n",
       "       \"'-\", 'AL589740.1', 'SYNE1', 'CACNA1C', 'PGAP3, ERBB2',\n",
       "       'AC018754.1, LINC02488', 'GULOP', 'CACNA1C', 'LMO7',\n",
       "       'FADS2, FADS1', 'PIK3C2A', 'AL391117.1', 'AC048346.1, TRIM42',\n",
       "       'ANK3', 'ANK3', 'ADGRL4, AC104837.1', 'ADGRL4, AC104837.1',\n",
       "       'SHANK2', 'ZNRD1', 'PALB2, AC008870.4', 'WHRN, AL160275.2', 'ANK3',\n",
       "       'ANK3', 'STARD9', 'AL671883.2, DHFRP2', 'AC096669.1', 'GIGYF1',\n",
       "       'GIGYF1, POP7', 'PTS', 'ADCY2', 'AL589740.1', 'ANK3',\n",
       "       'DDN, AC011603.3', 'AL157359.1, AL157359.2', 'ZNF804A', \"'-\", \"'-\",\n",
       "       \"'-\", 'AS3MT, BORCS7-ASMT', 'NT5C2', 'PDE10A', 'FBLN1', 'INTS7',\n",
       "       'DGKH', 'HSPD1P6, LINC02033', 'ADCY2', 'TAF9BP2',\n",
       "       'LINC01774, LINC01717', 'RPN2', 'STX2', 'ZNF740', 'C11orf21',\n",
       "       'RHEBL1, AC011603.4', 'AC105749.1, LINC02033', 'HLA-DMA',\n",
       "       'FAM177A1', 'LINC00461', 'CACNA1C', 'PACS1', 'CD47',\n",
       "       'RPS14P7, AC104793.1', 'HDAC5', 'RPL21P17, RPL23AP39', 'ITIH1',\n",
       "       'TCF7L2', 'TRIM42', 'ARHGAP8, PRR5-ARHGAP8', 'SESTD1', 'ADD3',\n",
       "       'AL589740.1', 'ADCY1', 'CMAHP', 'AC007570.1, MYO1H', 'CACNA1C',\n",
       "       \"'-\", 'SSBP2', 'WFDC12, WFDC5', \"'-\", 'AC090578.1', 'AMPD3',\n",
       "       'LINC02384', 'TRAF3IP2-AS1', 'CEP85L', 'LMO7', 'SYNE1',\n",
       "       'MAIP1, SPATS2L', 'TENM4', 'ZCCHC2', 'PC', 'RPS6KA2', 'CACNB2',\n",
       "       'TENM4', 'CSMD1', 'CSMD1', 'AC079779.1, FAM110C', 'FAM178B',\n",
       "       'GRAMD1B', 'PLEKHO1, AC242988.2', 'BCL11B', 'PCGEM1, AC092638.1',\n",
       "       'AC096644.1, PRELID3BP1', 'LINC01985, RF01848', 'NRG1', 'RPRD2',\n",
       "       'AL589993.1, SLC35F1', 'ADAMTS16', 'KMT2D', 'PALB2, AC008870.4',\n",
       "       'MACROD1', 'SYNE1', 'CABLES1', 'CACNA1C', 'CACNA1C', 'CACNA1C',\n",
       "       'LTN1', 'ZCCHC7', 'RPS17P5, TFAP2B', 'SOX2-OT',\n",
       "       'AL359715.1, AL359715.4', 'PLCB4', 'RNA5SP173, RF00571', 'MAU2',\n",
       "       'GSDME', 'PRSS35', 'LINC02033, HSPD1P6', 'RPL7P6, CAPZA3',\n",
       "       'AL391832.4', 'RNLS', 'CUBN', 'NLGN1', 'ADCY2', 'SLC8A1-AS1',\n",
       "       'POP7, EPO', 'MCTP1', 'C11orf80', 'MIR4697HG, IGSF9B', 'TCF3',\n",
       "       'TTLL6', 'RBKS, MRPL33', 'SYNE1', 'LINC01378', 'IQCH',\n",
       "       'NFIA; NFIA', 'RPL23AP68, AC079598.4', 'SOX2-OT', 'AC000403.1',\n",
       "       'RFESD', 'MIR876, LINGO2', 'ZNF93', 'NFIA; NFIA; NFIA', 'RXRG',\n",
       "       'AC122134.1, AC097713.2', 'MIR572, LINC02498', 'NUFIP1P, ADH5P4',\n",
       "       'KSR2', 'AC024589.1, RF00425', 'ATP6V1E2', 'AC003975.1, POT1-AS1',\n",
       "       'LINC01748', 'ITIH1', 'RASGRF2', 'LINC00698, UBL5P3', 'ARHGEF15',\n",
       "       'RARRES2, AC005586.2', 'GFRA2', 'C11orf80', 'SLC25A17', 'CDAN1',\n",
       "       'JADE2', 'HLF', 'CADM2', 'RIMS1', 'ANKS1B, AC117377.1',\n",
       "       'MTCO3P1, AL662789.1', 'TCF4', 'SFTA2, MUCL3', 'NFIA', 'DOCK4',\n",
       "       'AC005008.2, AC004866.1', 'AC021193.1, AC020551.1', 'TCF7L2',\n",
       "       'ATP6V1G1P7, RPL7P45', 'SLC25A26', 'LINC02626, ATRNL1',\n",
       "       'ARHGEF10L', 'RF00019, AC093813.1', 'HNF4GP1, AL354821.1',\n",
       "       'CCDC102B', 'AL353753.1, AL442639.1', 'UXS1',\n",
       "       'AC021193.1, AC020551.1', 'AC021193.1, AC020551.1',\n",
       "       'AC104417.2, AC104417.1', 'RBM24, STMND1', 'ANK3', 'AC090365.1',\n",
       "       'BABAM2', 'C15orf53', 'KIF15', 'NFIA; NFIA', 'NFIA; NFIA',\n",
       "       'AC022166.1', 'ABCG1', 'MTERF4, SNED1', 'AC104837.1, ADGRL4',\n",
       "       'AL021918.3', 'AC016152.1', 'CCDC175, RTN1', 'NUFIP1P, ADH5P4',\n",
       "       'TMPRSS5', 'ACTL7A', 'AC069288.1, MAD1L1', 'MRPS21P6, RPS27P18',\n",
       "       'CPNE8', 'AL450469.2, BX640514.2', 'ARL2BPP1, CCND3P2',\n",
       "       'AC053481.1, AC053481.2', 'LINC02033, HSPD1P6', 'C15orf53',\n",
       "       'C15orf53', 'LHFPL3, LHFPL3-AS1', 'WDR12, CARF', 'WDR12, CARF',\n",
       "       'PDE3B', 'HLF, STXBP4', \"'-\", 'TENM4, AP001978.1', 'SP4',\n",
       "       'AC002375.1, AC144522.1', 'ZFPM2', 'AC015845.2',\n",
       "       'AC122688.1, AACS', 'WHRN, AL160275.2', 'CEP85L',\n",
       "       'CCER1, AC084365.2', 'HLA-K, HLA-U', 'SP8, RPL23P8',\n",
       "       'ZNF204P, ZNF391', 'AC096582.1, RNU6-326P', 'CSMD2', 'HDAC9',\n",
       "       'FER1L6-AS2, FER1L6', \"'-\", 'FER1L6-AS2, FER1L6', \"'-\", 'ANK3',\n",
       "       'AC120024.2, NPTX1', \"'-\", 'RERE', 'MKLN1', 'ALOX12-AS1, ALOX12P2',\n",
       "       'NFYC', 'ASCC2', 'SPTLC1', 'SEC11A', 'LINC01358, AC093425.1',\n",
       "       'GRTP1', 'CCDC170', 'GRTP1', 'CCDC170', 'AC090844.3, PSMD3',\n",
       "       'TMEM56-RWDD3, TMEM56', 'AC092047.1, VIPR1', 'MAPK1, AP000553.8',\n",
       "       'MPP6', 'RNA5SP459, TCF4', 'AL645941.2', 'ZNF615', 'LAMP3', 'NUMB',\n",
       "       'AC104339.1, AC022695.1', 'CACYBPP2, LIN28AP1', 'RASAL2', 'SLIT1',\n",
       "       'ODAPH, CDKL2', 'SYNE1', 'RN7SL322P, AC010519.1',\n",
       "       'TSBP1, TSBP1-AS1', 'STARP1, LGMNP1', 'AC008033.1, AC008033.2',\n",
       "       'LINC01121', 'ZBTB20', 'BCAS1, SUMO1P1', 'PTPRG', 'ZBED9, GPX5',\n",
       "       'LINC02033, HSPD1P6', 'PROM1', \"'-\", 'OTUD7A', 'KLHL23', 'OTUD7A',\n",
       "       'KLHL23', 'ASAP2', 'RN7SL361P, AC012498.2', 'AP002380.1',\n",
       "       'AL365214.2, AL365214.3', 'KDM3B', 'EEF1A2, AL121829.1',\n",
       "       'AC020551.1, AC021193.1', 'AC007423.1, AC005181.1',\n",
       "       'PRR5-ARHGAP8, ARHGAP8', 'LINC01498, CMKLR1', 'DEPTOR',\n",
       "       'RN7SL592P, VLDLR-AS1', 'SLC4A10', 'LINC01790, AC010983.1',\n",
       "       'LINC00243', 'LINC01643', 'LAMP3', 'TENM3-AS1, RN7SKP13', \"'-\",\n",
       "       'ATP2B2', 'ZNF804A, AC080125.1', 'DCBLD1, AL132671.2',\n",
       "       'FEZ1, STT3A', 'CDC25B', 'TLE4', 'SLC35F4', 'DEPTOR', 'SMIM8',\n",
       "       'AC012361.1, AC115619.1', 'AC091078.1', 'AC087857.1, AC026202.1',\n",
       "       'FXR1', 'CFAP57, EBNA1BP2', 'ZNF577', 'AC012625.1, LINC02058',\n",
       "       'AC007364.1', 'AL158090.1, GAPDHP53', 'PSMC1P8, AC092110.1',\n",
       "       'FOXQ1, AL033381.1', 'AL358972.1, Z97205.1',\n",
       "       'KCNMB2-AS1, AC117457.1, KCNMB2', 'CGNL1', 'TMEM132C', 'CTSF',\n",
       "       'GRIP1', 'EGFR, AC006971.1', 'MGAT4A', 'PCDH15', 'PCDH15',\n",
       "       'COMMD10', 'C15orf53', 'SYNE1', 'DMTF1', 'CACNB3', 'CUL4A',\n",
       "       'SLC10A4, SLAIN2', 'AC006007.1, AC073308.1', 'KCNN3, PMVK',\n",
       "       'RF00592, ACTG1P22', 'AL049781.1, NPAS3', \"'-\",\n",
       "       'AL355862.1, RF00012', 'PARP10', 'AC003982.1, RPS27P25',\n",
       "       'HUWE1, BX323845.1', 'PPIAP48, AC092131.1', 'AC007389.1',\n",
       "       'LINC01470', \"'-\", 'AKAP6', 'AC007221.2', 'AL645944.1, LINC01648',\n",
       "       'AC010538.1', 'LIG4, AL136964.1', 'CWC22, AC012669.1',\n",
       "       'ADGRL4, AC104837.1', 'TTC39B, RPL7P33', 'LINC01748', 'DPP10',\n",
       "       'CMTM8', 'AC090159.1', 'TDRD9', 'AC026462.1, PHBP21',\n",
       "       'ZNF490, AC010422.6', 'TRAF3IP2-AS1', 'GRIK5', 'MYO18B', 'WWOX',\n",
       "       'LINC00620', 'AC103778.1, MAPK6P1', 'PBRM1, GNL3',\n",
       "       'SGO1-AS1, SGO1', 'GPM6A', 'AL445604.1, MTND4P1',\n",
       "       'AC106894.1, LINC02493', 'CCDC7', 'AC100756.2, GOLGA8S', 'CLHC1',\n",
       "       'AL358942.1, AL360085.1', 'AC114689.3', 'AC114689.3', 'AC114689.3',\n",
       "       'AC008696.2, RN7SL87P', 'FBXL17', 'ARSG', 'PSMC1, KCNK13',\n",
       "       'AC046136.1', 'AC034232.1, TARS', 'KRT8P37, CHCHD3P1',\n",
       "       'AC104837.1, ADGRL4', 'PRKAG2', 'ATP8B3', 'ROBO2', 'NOTCH4',\n",
       "       'HNRNPC', 'NCAM1', 'DPY19L3', 'SEPHS1, C8orf59P1',\n",
       "       'BBOX1-AS1, CCDC34', 'TCL1B, AL133467.3', 'FYCO1', 'PHF2P2',\n",
       "       'MYO7B, IWS1', \"'-\", 'LINC00992', 'SMYD3', 'SEPHS1, C8orf59P1',\n",
       "       'BBOX1-AS1, CCDC34', 'TCL1B, AL133467.3', 'FYCO1', 'PHF2P2',\n",
       "       'MYO7B, IWS1', \"'-\", 'LINC00992', 'SMYD3', 'ESCO2, PBK', 'CCDC7',\n",
       "       'SCUBE2', 'AC007389.1', 'CNNM4, LMAN2L', 'ITIH3', 'CFAP221',\n",
       "       'AL807742.1, AL807740.1', 'CERS6', 'KRT8P2, HNRNPUP1', 'PPP1R13B',\n",
       "       'LINC02149', 'RNU6-239P, RF00273', 'KCNN2', 'PEX5L, RNA5SP149',\n",
       "       'TMEM131', 'OFCC1', 'RPS6KA2', 'ANKS1B', 'AL591424.1', 'MVB12B',\n",
       "       'AC079896.1, LYARP1', 'LINC01748', 'SLC8A3', 'AL583722.3, TMEM179',\n",
       "       'AC022188.1', 'FSTL5', 'AL392086.1', 'PALB2', 'ANKS1B, AC117377.1',\n",
       "       'AC113367.2, HINT1', 'PPP2R2B', 'KIF21B', 'AC090993.1',\n",
       "       'LINC02033, HSPD1P6', 'MIR3681HG', 'AHCYP3, AC096554.1',\n",
       "       'AP003532.1, AP001000.1', 'PARD6B, BCAS4', 'IFT88',\n",
       "       'ANXA1, ALDH1A1', 'AC138646.1, AC083837.1', 'CDH23',\n",
       "       'RNU6-1264P, AC104770.1', 'AL137076.1, LINC01648', 'KCNS3',\n",
       "       'AC104458.1, TPI1P1', 'NRG3', 'RN7SL87P, AC008696.2',\n",
       "       'RPSAP12, RF00017', 'RF00017, RPSAP12', 'ADAM19', 'NAALADL2',\n",
       "       'TSHZ2', 'RIN2', 'FBXL17', 'PDZD2', 'FGGY', 'GSTM4, RPL7P8',\n",
       "       'NLRC5', 'MSRA, AC023385.1', 'TSBP1-AS1', 'AC092957.1',\n",
       "       'AL592295.3, FCGR2A', 'ST3GAL1', 'CTNNA2', 'KIAA1211L',\n",
       "       'AL441989.1, MIR147A', 'LINC01748', 'CNNM4, LMAN2L', 'GARNL3',\n",
       "       'CNNM4, LMAN2L', 'GARNL3', 'AL589923.1', 'AC105411.1', 'LINC01787',\n",
       "       'AL589923.1', 'AC105411.1', 'LINC01787', 'FLT1',\n",
       "       'RNU6-695P, AC092783.1', 'CSMD1', 'CDH11', 'AC093459.1', 'FOXO6',\n",
       "       'LINC02611', 'RASIP1', 'C15orf53', 'PABPC1L2A, PABPC1L2B',\n",
       "       'DLGAP2', \"'-\", \"'-\", 'SEMG2, SEMG1', 'LINC01203',\n",
       "       'AC007546.3, IFT81', 'LAYN', 'LINC00599, TNKS', 'NGEF', \"'-\",\n",
       "       'SLAMF9, LINC01133', 'HIVEP2', 'FYN', 'LINC01288, AC090993.1',\n",
       "       'IL1R1, IL1R2', 'AC073114.1, AC092167.1', 'AC092818.1, SMARCE1P4',\n",
       "       'LINC01146', 'NPAS3', 'AC067819.1, TMX3', 'AC009500.1, AC004852.2',\n",
       "       'TMEM132B', 'FBXL17', 'MYOM3', 'BRWD1', 'AC068305.2',\n",
       "       'AL031767.1, CDKAL1', 'AL445623.2', 'AC022166.1', 'FXR1',\n",
       "       'SLC25A36', 'SLC25A36', 'AC003975.1, AC000372.1',\n",
       "       'AL138826.1, AL360175.1', 'IGKV3D-7, AC233263.2',\n",
       "       'RPSAP12, RF00017', 'RNU6-1163P, AL360085.1', 'ANTXR2', 'SORCS2',\n",
       "       'AC096531.2', 'ZBTB20', 'HLCS', 'TRUB1, LINC02626', 'KIAA1549L',\n",
       "       'KIT, LINC02260', 'CNTN5', 'FXNP1, NRXN3', 'TENM4', 'SYNE1',\n",
       "       'AC087473.1', 'CMTM8', 'UBE2R2-AS1', 'SYNE1', 'TENM4',\n",
       "       'UBE2R2-AS1', 'AC087473.1', 'PCED1B', 'LINC01446, AC009468.1',\n",
       "       'AP000845.1, AP000915.1', 'AC068135.2, AC068135.1', 'BICRAL',\n",
       "       'VAV3-AS1', 'NRF1', 'KPNA4', 'LINC00970, AL135926.1', 'SRPK2',\n",
       "       'WNK2', \"'-\", 'AC090578.1', 'KCNG1, AL050404.1', 'SLC4A10',\n",
       "       'ATP5PD, KCTD2, RN7SL573P', 'ADGRL4, AC104837.1', 'BANK1',\n",
       "       'SLC35F2', 'SEMA3A', 'AUTS2', 'FAM189A2', 'AC007375.1, TMEM63C',\n",
       "       'ADAMTS14', 'AC098588.1, AC098588.2, AC107223.1',\n",
       "       'AC083867.1, RF00019', 'KIF5B', 'BASP1-AS1, BASP1',\n",
       "       'RNU6-408P, AC023932.1', 'ANKRD6, LYRM2', 'RPL37P6, AC009597.1',\n",
       "       'AC034195.1', 'TARBP1, LINC01354', 'DLC1', 'EFCAB10',\n",
       "       'AC073073.1, PUS7', 'CDH4', 'JPH3', 'FAM19A5', 'CAMKMT',\n",
       "       'PDZD8, AC005871.2', 'ZZEF1', 'MIR1263, AC084017.1',\n",
       "       'RPSAP44, KRASP1', 'ROBO2', 'AC007389.1', 'ZNF385D', 'NPAS3',\n",
       "       'LINC00596, AL136419.2', 'AC099753.1', 'LINC00596, AL136419.2',\n",
       "       'UBAP2', 'ZNF385D', 'AC006277.1, TLE6', 'BBS5, LRP2',\n",
       "       'AC104837.1, ADGRL4', 'LAMP3', 'AC016816.1, MIR378C', 'MSRA',\n",
       "       'AC099506.1, CDH13', 'IMMP2L, AC092167.1', 'LINC02611, RNU4-84P',\n",
       "       'SLC44A2', 'IL12A-AS1', 'AC096570.1, AC096570.2', \"'-\",\n",
       "       'AC005772.1', 'BRINP1', 'AC104837.1, ADGRL4', 'AIFM1', 'RF00019',\n",
       "       'IL2, IL21', 'AC069288.1, MAD1L1', 'GLT8D1', 'AC083867.1, RF00019',\n",
       "       'AC122138.1, AC093909.4', 'MRM2, AC069288.1', 'GRIK1', 'SNORC',\n",
       "       'ZMIZ1', 'AP001267.5, KMT2A', 'CAPN10-DT', 'AC068481.1',\n",
       "       'AC021820.1, AC021749.1', 'NALCN', 'AL138828.1', 'AC114689.3',\n",
       "       'AC114689.3', 'ADAM19', 'AC099785.1, PLD5', 'CLTA',\n",
       "       'RANP7, AC114477.1', 'RN7SKP190, AC009117.1', 'DGKB',\n",
       "       'PSAP, AC073370.1', 'C15orf32', 'AC090993.1', 'GFI1B',\n",
       "       'AC025554.1, AC093831.1', 'OSBP2', 'AC009414.1, MRPL50P1',\n",
       "       'AC122138.1, AC093909.4', 'AP000943.3', 'SHLD1', 'AL357507.1',\n",
       "       'LINC01307, LINC01709', 'SVEP1', 'SIAE', 'AC016705.2',\n",
       "       'AC016705.2', 'LINC01709, LINC01307', 'SVEP1', 'SIAE',\n",
       "       'AVEN, CHRM5', 'RIMS1', \"'-\", 'LINC00641', 'AL807742.1', 'WSCD2',\n",
       "       'RPTOR', 'LINC02264, LINC01378', 'CAMK1D', \"'-\", 'GNAQ, GNA14',\n",
       "       'NTRK3', 'AC104009.1', 'PPM1K-DT', 'TMEM63C, AC007375.1',\n",
       "       'LINC01288, AC090993.1', 'SERTAD4-AS1, SYT14',\n",
       "       'AL358942.1, AL360085.1', 'AC007389.1', 'PIM1, TMEM217', 'INPP4A',\n",
       "       'LINC02441, LINC00507', 'HLA-DMB, HLA-Z', 'RYR2',\n",
       "       'AP003532.1, AP001000.1', 'AL589993.1, SLC35F1', 'RXRG',\n",
       "       'LINC01470', 'RNU6-745P, TLE3', 'MAB21L3, LINC01779', 'TOGARAM2',\n",
       "       'AP000845.1, AP000915.1', 'AC034195.1', 'AP000845.1, AP000915.1',\n",
       "       'PDE5A, AC093752.1', 'AC034195.1', 'BMS1P17, DUXAP10',\n",
       "       'SCGB2B2, SCGB1B2P', 'HCRTR2', 'AC069288.1, MAD1L1', 'RNPEPL1',\n",
       "       'CDC25B', 'SLC35F4', 'AC073172.2, RF00324', 'SLC12A9-AS1, SLC12A9',\n",
       "       'PRKCA', 'AL807742.1', \"'-\", 'LINC01221', 'RRS1-AS1, LINC00967',\n",
       "       'AC023245.2, RF00004', 'LETM2', 'HDAC7', \"'-\", 'GRIN2A', 'CLEC17A',\n",
       "       'NEURL1', 'SMARCA2, RN7SL592P', 'AL139350.1, ADRA1D',\n",
       "       'AC093635.1, FOXN2', 'PRPF3', 'AMD1P1, AL590032.1',\n",
       "       'FFAR2, KRTDAP', 'LINC00351, LINC00375', 'FAM126A', 'WSCD2',\n",
       "       'LINC00440, TRIM60P13', 'ROR2, AL353764.1', 'CASP3P1, LINC01788',\n",
       "       'BCAS1, SUMO1P1', 'COMMD10', 'ROBO2', 'ZMIZ1', 'ZMIZ1',\n",
       "       'AP003028.1, AP002791.1', 'IDE, MARK2P9', 'MIR100HG', \"'-\", \"'-\",\n",
       "       'FAT4', 'DLEU1', 'TDRD9', 'RTN4RL1, RPA1', 'PRSS36', 'SMYD3',\n",
       "       'MCTP1', 'TRANK1', 'MEAF6P1, AC016743.1', 'AC097375.4', 'HDAC4',\n",
       "       'ZNF804A', 'KIF5C', 'AL391117.1, LINC01239',\n",
       "       'AC078845.1, AC009541.1', 'CNTN1', 'KCNS1', 'WHRN',\n",
       "       'EIF4E, BTF3P13', 'CTSH', 'AL008721.2, CRYBB2P1', 'CADM3',\n",
       "       'GPR1-AS', 'AC015656.1, AC091180.5', 'AL357137.1, LINC01649',\n",
       "       'FITM2, GDAP1L1', 'LINC00923', 'SYNE1', 'HMGA1P6, AL157931.2',\n",
       "       'AC022188.1, CD276', 'COMT', 'AC104619.1, AC104619.3', \"'-\",\n",
       "       'AC107973.1', 'RF00425, AL356094.1', 'AL591848.2, SCCPDH',\n",
       "       'AC073114.1, AC092167.1', 'OR5AU1, AL161668.1', 'DPF1',\n",
       "       'SLC45A4, AC011676.3', 'AC105749.1, LINC02033',\n",
       "       'ANKHD1-EIF4EBP3, ANKHD1', \"'-\", \"'-\", 'LINC01505, SLC25A6P5',\n",
       "       'FGF12', 'TCF15, SRXN1', 'HSPD1P6, LINC02033'], dtype=object)"
      ]
     },
     "execution_count": 117,
     "metadata": {},
     "output_type": "execute_result"
    }
   ],
   "source": [
    "gsea"
   ]
  },
  {
   "cell_type": "code",
   "execution_count": 145,
   "metadata": {},
   "outputs": [],
   "source": [
    "gsea = set(bd['gene_symbol']) & set(scz['gene_symbol'])"
   ]
  },
  {
   "cell_type": "code",
   "execution_count": 118,
   "metadata": {},
   "outputs": [
    {
     "name": "stdout",
     "output_type": "stream",
     "text": [
      "69\n"
     ]
    },
    {
     "name": "stderr",
     "output_type": "stream",
     "text": [
      "/usr/local/lib/python3.6/dist-packages/plotnine/ggplot.py:848: PlotnineWarning: Filename: plotnine-save-8777132366270.pdf\n",
      "  warn('Filename: {}'.format(filename), PlotnineWarning)\n"
     ]
    },
    {
     "name": "stdout",
     "output_type": "stream",
     "text": [
      "47\n"
     ]
    },
    {
     "name": "stderr",
     "output_type": "stream",
     "text": [
      "/usr/local/lib/python3.6/dist-packages/plotnine/ggplot.py:848: PlotnineWarning: Filename: plotnine-save-8777132367031.pdf\n",
      "  warn('Filename: {}'.format(filename), PlotnineWarning)\n"
     ]
    }
   ],
   "source": [
    "import glob\n",
    "import os\n",
    "\n",
    "path = r'/home/nikita/Desktop/pathways/data/' # use your path\n",
    "all_files = glob.glob(os.path.join(path, \"*.tsv\"))\n",
    "\n",
    "\n",
    "\n",
    "for filename in all_files:\n",
    "    df = pd.read_csv(filename, sep='\\t')\n",
    "    from plotnine import *\n",
    "    df['y'] = df['gene_symbol'].map(lambda x: x in gsea)\n",
    "    print(sum(df['y'].values))\n",
    "    df['gene_symbol'] = [i for i in range(len(df))]\n",
    "    fig = (\n",
    "        ggplot(df[df['y'] == True], aes(x='gene_symbol', col='y')) +\n",
    "              geom_density(fill=\"#56B4E9\", alpha = 0.3, colour = None, show_legend = True) +\n",
    "              geom_rug(color='black', show_legend = True) +\n",
    "              theme_bw() +\n",
    "              theme(plot_title = element_text(hjust = 0.5, size=12), figure_size = (10, 6)) +\n",
    "              theme(legend_background = element_rect(fill=\"gray90\", size=.5, linetype=\"dotted\")) +\n",
    "              theme(legend_title = element_text(colour=\"black\", size=12)) +\n",
    "              ggtitle('Distribution of gene names from extended list') +\n",
    "              xlab(f'Sorted in descending order gene names {filename}') +\n",
    "              ylab('Density')\n",
    "            )\n",
    "    save_as_pdf_pages([fig], )\n"
   ]
  },
  {
   "cell_type": "code",
   "execution_count": 24,
   "metadata": {},
   "outputs": [],
   "source": [
    "from sklearn.decomposition import PCA\n",
    "import itertools\n",
    "from sklearn import preprocessing\n",
    "scaler = preprocessing.RobustScaler()\n",
    "plot_x = pd.DataFrame(scaler.fit_transform(x))\n",
    "\n",
    "pca = PCA(9)  # project from 64 to 2 dimensions\n",
    "projected = pca.fit_transform(plot_x)"
   ]
  },
  {
   "cell_type": "code",
   "execution_count": 35,
   "metadata": {},
   "outputs": [
    {
     "data": {
      "text/plain": [
       "Text(0.5, 0, 'component 1')"
      ]
     },
     "execution_count": 35,
     "metadata": {},
     "output_type": "execute_result"
    },
    {
     "data": {
      "text/plain": [
       "Text(0, 0.5, 'component 2')"
      ]
     },
     "execution_count": 35,
     "metadata": {},
     "output_type": "execute_result"
    },
    {
     "data": {
      "text/plain": [
       "<matplotlib.colorbar.Colorbar at 0x7fb97238c5f8>"
      ]
     },
     "execution_count": 35,
     "metadata": {},
     "output_type": "execute_result"
    },
    {
     "data": {
      "text/plain": [
       "Text(0.5, -0.15, '1) lr')"
      ]
     },
     "execution_count": 35,
     "metadata": {},
     "output_type": "execute_result"
    },
    {
     "data": {
      "text/plain": [
       "Text(0.5, 0, 'component 1')"
      ]
     },
     "execution_count": 35,
     "metadata": {},
     "output_type": "execute_result"
    },
    {
     "data": {
      "text/plain": [
       "Text(0, 0.5, 'component 2')"
      ]
     },
     "execution_count": 35,
     "metadata": {},
     "output_type": "execute_result"
    },
    {
     "data": {
      "text/plain": [
       "<matplotlib.colorbar.Colorbar at 0x7fb972258320>"
      ]
     },
     "execution_count": 35,
     "metadata": {},
     "output_type": "execute_result"
    },
    {
     "data": {
      "text/plain": [
       "Text(0.5, -0.15, '2) svc')"
      ]
     },
     "execution_count": 35,
     "metadata": {},
     "output_type": "execute_result"
    },
    {
     "data": {
      "text/plain": [
       "Text(0.5, 0, 'component 1')"
      ]
     },
     "execution_count": 35,
     "metadata": {},
     "output_type": "execute_result"
    },
    {
     "data": {
      "text/plain": [
       "Text(0, 0.5, 'component 2')"
      ]
     },
     "execution_count": 35,
     "metadata": {},
     "output_type": "execute_result"
    },
    {
     "data": {
      "text/plain": [
       "<matplotlib.colorbar.Colorbar at 0x7fb9721a5a90>"
      ]
     },
     "execution_count": 35,
     "metadata": {},
     "output_type": "execute_result"
    },
    {
     "data": {
      "text/plain": [
       "Text(0.5, -0.15, '3) rf')"
      ]
     },
     "execution_count": 35,
     "metadata": {},
     "output_type": "execute_result"
    },
    {
     "data": {
      "text/plain": [
       "Text(0.5, 0, 'component 1')"
      ]
     },
     "execution_count": 35,
     "metadata": {},
     "output_type": "execute_result"
    },
    {
     "data": {
      "text/plain": [
       "Text(0, 0.5, 'component 2')"
      ]
     },
     "execution_count": 35,
     "metadata": {},
     "output_type": "execute_result"
    },
    {
     "data": {
      "text/plain": [
       "<matplotlib.colorbar.Colorbar at 0x7fb9721d1710>"
      ]
     },
     "execution_count": 35,
     "metadata": {},
     "output_type": "execute_result"
    },
    {
     "data": {
      "text/plain": [
       "Text(0.5, -0.15, '4) mean')"
      ]
     },
     "execution_count": 35,
     "metadata": {},
     "output_type": "execute_result"
    },
    {
     "data": {
      "text/plain": [
       "Text(0.5, 0, 'component 1')"
      ]
     },
     "execution_count": 35,
     "metadata": {},
     "output_type": "execute_result"
    },
    {
     "data": {
      "text/plain": [
       "Text(0, 0.5, 'component 2')"
      ]
     },
     "execution_count": 35,
     "metadata": {},
     "output_type": "execute_result"
    },
    {
     "data": {
      "text/plain": [
       "<matplotlib.colorbar.Colorbar at 0x7fb972145b70>"
      ]
     },
     "execution_count": 35,
     "metadata": {},
     "output_type": "execute_result"
    },
    {
     "data": {
      "text/plain": [
       "Text(0.5, -0.15, '5) dt')"
      ]
     },
     "execution_count": 35,
     "metadata": {},
     "output_type": "execute_result"
    },
    {
     "data": {
      "image/png": "[encoded data removed]",
      "text/plain": [
       "<Figure size 1080x936 with 10 Axes>"
      ]
     },
     "metadata": {
      "needs_background": "light"
     },
     "output_type": "display_data"
    }
   ],
   "source": [
    "fig = plt.figure(figsize=(15, 13))\n",
    "models = ['lr', 'svc', 'rf', 'mean', 'dt']\n",
    "\n",
    "for i, name in zip(range(5), models):\n",
    "    ax1 = fig.add_subplot(231 + i)\n",
    "    sp= ax1.scatter(projected[:,0], projected[:, 1], c=plot_dfs[f'{name}_results']['predicted_y'], \n",
    "                linewidth=1, s=12, alpha=1, cmap=plt.cm.get_cmap('coolwarm'), label='unlabeled')\n",
    "    plt.grid()\n",
    "    plt.xlabel(f'component {1}')\n",
    "    plt.ylabel(f'component {2}')\n",
    "    plt.colorbar(sp, label='Class probability on Unlabeled set')\n",
    "    ax1.text(0.5,-0.15, f\"{i+1}) {name}\", size=14, ha=\"center\", \n",
    "         transform=ax1.transAxes)\n",
    "fig.savefig('scz_comparison.pdf')\n"
   ]
  },
  {
   "cell_type": "code",
   "execution_count": 118,
   "metadata": {},
   "outputs": [
    {
     "data": {
      "text/html": [
       "<div>\n",
       "<style scoped>\n",
       "    .dataframe tbody tr th:only-of-type {\n",
       "        vertical-align: middle;\n",
       "    }\n",
       "\n",
       "    .dataframe tbody tr th {\n",
       "        vertical-align: top;\n",
       "    }\n",
       "\n",
       "    .dataframe thead th {\n",
       "        text-align: right;\n",
       "    }\n",
       "</style>\n",
       "<table border=\"1\" class=\"dataframe\">\n",
       "  <thead>\n",
       "    <tr style=\"text-align: right;\">\n",
       "      <th></th>\n",
       "      <th>predicted_y</th>\n",
       "    </tr>\n",
       "  </thead>\n",
       "  <tbody>\n",
       "    <tr>\n",
       "      <td>0</td>\n",
       "      <td>0.370272</td>\n",
       "    </tr>\n",
       "    <tr>\n",
       "      <td>1</td>\n",
       "      <td>0.338661</td>\n",
       "    </tr>\n",
       "    <tr>\n",
       "      <td>2</td>\n",
       "      <td>0.251404</td>\n",
       "    </tr>\n",
       "    <tr>\n",
       "      <td>3</td>\n",
       "      <td>0.491017</td>\n",
       "    </tr>\n",
       "    <tr>\n",
       "      <td>4</td>\n",
       "      <td>0.364129</td>\n",
       "    </tr>\n",
       "    <tr>\n",
       "      <td>...</td>\n",
       "      <td>...</td>\n",
       "    </tr>\n",
       "    <tr>\n",
       "      <td>1161</td>\n",
       "      <td>0.526277</td>\n",
       "    </tr>\n",
       "    <tr>\n",
       "      <td>1162</td>\n",
       "      <td>0.487038</td>\n",
       "    </tr>\n",
       "    <tr>\n",
       "      <td>1163</td>\n",
       "      <td>0.399776</td>\n",
       "    </tr>\n",
       "    <tr>\n",
       "      <td>1164</td>\n",
       "      <td>0.657104</td>\n",
       "    </tr>\n",
       "    <tr>\n",
       "      <td>1165</td>\n",
       "      <td>0.791868</td>\n",
       "    </tr>\n",
       "  </tbody>\n",
       "</table>\n",
       "<p>1166 rows × 1 columns</p>\n",
       "</div>"
      ],
      "text/plain": [
       "      predicted_y\n",
       "0        0.370272\n",
       "1        0.338661\n",
       "2        0.251404\n",
       "3        0.491017\n",
       "4        0.364129\n",
       "...           ...\n",
       "1161     0.526277\n",
       "1162     0.487038\n",
       "1163     0.399776\n",
       "1164     0.657104\n",
       "1165     0.791868\n",
       "\n",
       "[1166 rows x 1 columns]"
      ]
     },
     "execution_count": 118,
     "metadata": {},
     "output_type": "execute_result"
    }
   ],
   "source": []
  },
  {
   "cell_type": "code",
   "execution_count": 46,
   "metadata": {},
   "outputs": [
    {
     "data": {
      "text/plain": [
       "<matplotlib.collections.PathCollection at 0x7fb97039a9e8>"
      ]
     },
     "execution_count": 46,
     "metadata": {},
     "output_type": "execute_result"
    },
    {
     "data": {
      "text/plain": [
       "<matplotlib.collections.PathCollection at 0x7fb97044a668>"
      ]
     },
     "execution_count": 46,
     "metadata": {},
     "output_type": "execute_result"
    },
    {
     "data": {
      "text/plain": [
       "<matplotlib.legend.Legend at 0x7fb97039ad68>"
      ]
     },
     "execution_count": 46,
     "metadata": {},
     "output_type": "execute_result"
    },
    {
     "data": {
      "text/plain": [
       "(-50, 60)"
      ]
     },
     "execution_count": 46,
     "metadata": {},
     "output_type": "execute_result"
    },
    {
     "data": {
      "text/plain": [
       "(-10, 40)"
      ]
     },
     "execution_count": 46,
     "metadata": {},
     "output_type": "execute_result"
    },
    {
     "data": {
      "image/png": "[encoded data removed]",
      "text/plain": [
       "<Figure size 720x720 with 1 Axes>"
      ]
     },
     "metadata": {
      "needs_background": "light"
     },
     "output_type": "display_data"
    }
   ],
   "source": [
    "i = 0\n",
    "j = 1\n",
    "# data_P = X[y==1]\n",
    "# data_U = np.concatenate((X[y==1][rp[int(len(rp)*known_labels_ratio):]], X[y==0]), axis=0)\n",
    "fig = plt.figure(figsize=(10, 10))\n",
    "plt.scatter(projected[:,i], projected[:, j], c=plot_dfs[f'mean_results']['predicted_y'], \n",
    "                linewidth=1, s=30, alpha=1, cmap=plt.cm.get_cmap('coolwarm'), label='unlabeled')\n",
    "#plt.scatter(projected[y==0, i], projected[y==0, j], c='', marker='.', linewidth=0, s=30, alpha=0.5, label='Unlabelled')\n",
    "plt.scatter(projected[y==1, i], projected[y==1, j], c='black', marker='^', linewidth=1, s=50, alpha=1, label='Positive')\n",
    "plt.grid()\n",
    "plt.legend()\n",
    "axes = plt.gca()\n",
    "axes.set_xlim([-50,60])\n",
    "axes.set_ylim([-10,40])\n",
    "fig.savefig('scz_real_data.pdf')"
   ]
  },
  {
   "cell_type": "code",
   "execution_count": 42,
   "metadata": {},
   "outputs": [],
   "source": [
    "d = {'lr':[], 'rf':[], 'dt':[], 'svc':[]}\n",
    "for name in models:\n",
    "    new_df = plot_dfs[f'{name}_results']\n",
    "    new_df['gene_symbol'] = x.index\n",
    "    result = new_df.sort_values(by=['predicted_y'], ascending=False).dropna()\n",
    "    d[name] = result['gene_symbol'][1:21]\n",
    "    #result.to_csv(f'/home/nikita/Desktop/project_output/experiments/{name}_results.tsv', sep='\\t', index=False)"
   ]
  },
  {
   "cell_type": "code",
   "execution_count": 100,
   "metadata": {},
   "outputs": [
    {
     "data": {
      "text/plain": [
       "{'BRINP3', 'NEGR1', 'RGS5'}"
      ]
     },
     "execution_count": 100,
     "metadata": {},
     "output_type": "execute_result"
    }
   ],
   "source": [
    "set(d['dt']) & set(d['svc']) & set(d['lr']) & set(d['rf'])"
   ]
  },
  {
   "cell_type": "code",
   "execution_count": null,
   "metadata": {},
   "outputs": [],
   "source": [
    "# http://benalexkeen.com/feature-scaling-with-scikit-learn/"
   ]
  },
  {
   "cell_type": "code",
   "execution_count": 109,
   "metadata": {},
   "outputs": [],
   "source": [
    "mean_df = pd.DataFrame({'Mean':0}, index=x.index)\n",
    "\n",
    "for name in models:\n",
    "    new_df = plot_dfs[f'{name}_results']\n",
    "    mean_df['Mean'] = mean_df['Mean'].values + new_df['predicted_y'].values\n",
    "#     result = new_df.sort_values(by=['predicted_y'], ascending=False).dropna()\n",
    "#     d[name] = result['gene_symbol'][1:21]"
   ]
  },
  {
   "cell_type": "code",
   "execution_count": 149,
   "metadata": {},
   "outputs": [],
   "source": [
    "#new_final = new_final.sort_values(by=['Average_prob'], ascending=False).dropna()"
   ]
  },
  {
   "cell_type": "code",
   "execution_count": 111,
   "metadata": {},
   "outputs": [],
   "source": [
    "mean_df['Mean'] =  mean_df['Mean']/4"
   ]
  },
  {
   "cell_type": "code",
   "execution_count": 113,
   "metadata": {},
   "outputs": [],
   "source": [
    "mean_df = mean_df.sort_values(by=['Mean'], ascending=False).dropna()"
   ]
  },
  {
   "cell_type": "code",
   "execution_count": 114,
   "metadata": {},
   "outputs": [
    {
     "data": {
      "text/html": [
       "<div>\n",
       "<style scoped>\n",
       "    .dataframe tbody tr th:only-of-type {\n",
       "        vertical-align: middle;\n",
       "    }\n",
       "\n",
       "    .dataframe tbody tr th {\n",
       "        vertical-align: top;\n",
       "    }\n",
       "\n",
       "    .dataframe thead th {\n",
       "        text-align: right;\n",
       "    }\n",
       "</style>\n",
       "<table border=\"1\" class=\"dataframe\">\n",
       "  <thead>\n",
       "    <tr style=\"text-align: right;\">\n",
       "      <th></th>\n",
       "      <th>Mean</th>\n",
       "    </tr>\n",
       "    <tr>\n",
       "      <th>gene_symbol</th>\n",
       "      <th></th>\n",
       "    </tr>\n",
       "  </thead>\n",
       "  <tbody>\n",
       "    <tr>\n",
       "      <td>NLGN1</td>\n",
       "      <td>0.972648</td>\n",
       "    </tr>\n",
       "    <tr>\n",
       "      <td>RGS5</td>\n",
       "      <td>0.964226</td>\n",
       "    </tr>\n",
       "    <tr>\n",
       "      <td>BRINP3</td>\n",
       "      <td>0.963059</td>\n",
       "    </tr>\n",
       "    <tr>\n",
       "      <td>NEGR1</td>\n",
       "      <td>0.961132</td>\n",
       "    </tr>\n",
       "    <tr>\n",
       "      <td>GRIN2B</td>\n",
       "      <td>0.958495</td>\n",
       "    </tr>\n",
       "    <tr>\n",
       "      <td>...</td>\n",
       "      <td>...</td>\n",
       "    </tr>\n",
       "    <tr>\n",
       "      <td>ETAA1</td>\n",
       "      <td>0.009536</td>\n",
       "    </tr>\n",
       "    <tr>\n",
       "      <td>INTS4</td>\n",
       "      <td>0.009494</td>\n",
       "    </tr>\n",
       "    <tr>\n",
       "      <td>RPLP0</td>\n",
       "      <td>0.009188</td>\n",
       "    </tr>\n",
       "    <tr>\n",
       "      <td>MCEE</td>\n",
       "      <td>0.008851</td>\n",
       "    </tr>\n",
       "    <tr>\n",
       "      <td>UGGT1</td>\n",
       "      <td>0.008179</td>\n",
       "    </tr>\n",
       "  </tbody>\n",
       "</table>\n",
       "<p>2971 rows × 1 columns</p>\n",
       "</div>"
      ],
      "text/plain": [
       "                 Mean\n",
       "gene_symbol          \n",
       "NLGN1        0.972648\n",
       "RGS5         0.964226\n",
       "BRINP3       0.963059\n",
       "NEGR1        0.961132\n",
       "GRIN2B       0.958495\n",
       "...               ...\n",
       "ETAA1        0.009536\n",
       "INTS4        0.009494\n",
       "RPLP0        0.009188\n",
       "MCEE         0.008851\n",
       "UGGT1        0.008179\n",
       "\n",
       "[2971 rows x 1 columns]"
      ]
     },
     "execution_count": 114,
     "metadata": {},
     "output_type": "execute_result"
    }
   ],
   "source": [
    "mean_df"
   ]
  },
  {
   "cell_type": "code",
   "execution_count": null,
   "metadata": {},
   "outputs": [],
   "source": []
  },
  {
   "cell_type": "code",
   "execution_count": 116,
   "metadata": {},
   "outputs": [],
   "source": [
    "mean_df.to_csv('/home/nikita/Desktop/project_output/experiments/stacking.tsv',index=True, sep='\\t')"
   ]
  },
  {
   "cell_type": "code",
   "execution_count": 57,
   "metadata": {},
   "outputs": [],
   "source": [
    "models = [lr, rf, svc, xgb]"
   ]
  },
  {
   "cell_type": "code",
   "execution_count": 61,
   "metadata": {},
   "outputs": [
    {
     "name": "stdout",
     "output_type": "stream",
     "text": [
      "[[1022   19]\n",
      " [   6   10]]\n"
     ]
    }
   ],
   "source": [
    "model = rf\n",
    "model.fit(new_X_train, new_y_train)\n",
    "y_pred = model.predict(X_test)\n",
    "print(confusion_matrix(y_test, y_pred))"
   ]
  },
  {
   "cell_type": "code",
   "execution_count": 109,
   "metadata": {},
   "outputs": [
    {
     "name": "stdout",
     "output_type": "stream",
     "text": [
      "[[1094   10]\n",
      " [  14    9]]\n"
     ]
    }
   ],
   "source": [
    "xgb_X_test =np.array(X_test)\n",
    "xgb.fit(new_X_train, new_y_train)\n",
    "y_pred = xgb.predict(xgb_X_test)\n",
    "print(confusion_matrix(y_test, y_pred))"
   ]
  },
  {
   "cell_type": "code",
   "execution_count": 62,
   "metadata": {},
   "outputs": [
    {
     "name": "stdout",
     "output_type": "stream",
     "text": [
      "[[1021   20]\n",
      " [   4   12]]\n"
     ]
    }
   ],
   "source": [
    "rf.fit(new_X_train, new_y_train)\n",
    "y_pred = rf.predict(X_test)\n",
    "print(confusion_matrix(y_test, y_pred))"
   ]
  },
  {
   "cell_type": "markdown",
   "metadata": {},
   "source": [
    "# After feature selection"
   ]
  },
  {
   "cell_type": "code",
   "execution_count": 63,
   "metadata": {},
   "outputs": [
    {
     "data": {
      "text/plain": [
       "RandomForestClassifier(bootstrap=True, class_weight={1: 1, 0: 100},\n",
       "            criterion='gini', max_depth=15, max_features='auto',\n",
       "            max_leaf_nodes=None, min_impurity_decrease=0.0,\n",
       "            min_impurity_split=None, min_samples_leaf=1,\n",
       "            min_samples_split=2, min_weight_fraction_leaf=0.0,\n",
       "            n_estimators=700, n_jobs=None, oob_score=False,\n",
       "            random_state=None, verbose=0, warm_start=False)"
      ]
     },
     "execution_count": 63,
     "metadata": {},
     "output_type": "execute_result"
    }
   ],
   "source": [
    "rf.fit(new_X_train, new_y_train)"
   ]
  },
  {
   "cell_type": "code",
   "execution_count": 64,
   "metadata": {},
   "outputs": [
    {
     "name": "stdout",
     "output_type": "stream",
     "text": [
      "Feature ranking:\n",
      "1. The feature 'vep_sum' has a Mean Decrease in Impurity of 0.07006\n",
      "2. The feature 'score' has a Mean Decrease in Impurity of 0.06910\n",
      "3. The feature 'VEP' has a Mean Decrease in Impurity of 0.04393\n",
      "4. The feature 'rank' has a Mean Decrease in Impurity of 0.04185\n",
      "5. The feature 'gene_interactions' has a Mean Decrease in Impurity of 0.04129\n",
      "6. The feature 'Nearest' has a Mean Decrease in Impurity of 0.04101\n",
      "7. The feature 'vep_mean' has a Mean Decrease in Impurity of 0.03040\n",
      "8. The feature 'Brain - Amygdala' has a Mean Decrease in Impurity of 0.01596\n",
      "9. The feature 'DHS' has a Mean Decrease in Impurity of 0.01347\n",
      "10. The feature 'gtex_similarity' has a Mean Decrease in Impurity of 0.01273\n",
      "11. The feature 'Brain - Anterior cingulate cortex (BA24)' has a Mean Decrease in Impurity of 0.01266\n",
      "12. The feature 'VEP_reg' has a Mean Decrease in Impurity of 0.01205\n",
      "13. The feature 'Regulome' has a Mean Decrease in Impurity of 0.01171\n",
      "14. The feature 'Brain - Putamen (basal ganglia)' has a Mean Decrease in Impurity of 0.01153\n",
      "15. The feature 'GTEx_Adrenal_Gland' has a Mean Decrease in Impurity of 0.01073\n",
      "16. The feature 'Colon - Sigmoid' has a Mean Decrease in Impurity of 0.00964\n",
      "17. The feature 'Brain - Hippocampus' has a Mean Decrease in Impurity of 0.00945\n",
      "18. The feature 'GTEx_Small_Intestine_Terminal_Ileum' has a Mean Decrease in Impurity of 0.00940\n",
      "19. The feature 'Brain - Frontal Cortex (BA9)' has a Mean Decrease in Impurity of 0.00880\n",
      "20. The feature 'Brain - Nucleus accumbens (basal ganglia)' has a Mean Decrease in Impurity of 0.00878\n",
      "21. The feature 'Artery - Aorta' has a Mean Decrease in Impurity of 0.00865\n",
      "22. The feature 'Nerve - Tibial' has a Mean Decrease in Impurity of 0.00844\n",
      "23. The feature 'Brain - Hypothalamus' has a Mean Decrease in Impurity of 0.00835\n",
      "24. The feature 'Minor Salivary Gland' has a Mean Decrease in Impurity of 0.00831\n",
      "25. The feature 'Brain - Caudate (basal ganglia)' has a Mean Decrease in Impurity of 0.00828\n",
      "26. The feature 'Esophagus - Muscularis' has a Mean Decrease in Impurity of 0.00806\n",
      "27. The feature 'Brain - Cortex' has a Mean Decrease in Impurity of 0.00789\n",
      "28. The feature 'GTEx_Brain_Cerebellar_Hemisphere' has a Mean Decrease in Impurity of 0.00781\n",
      "29. The feature 'GTEx_Stomach' has a Mean Decrease in Impurity of 0.00781\n",
      "30. The feature 'GTEx_Prostate' has a Mean Decrease in Impurity of 0.00759\n",
      "31. The feature 'Esophagus - Gastroesophageal Junction' has a Mean Decrease in Impurity of 0.00742\n",
      "32. The feature 'GTEx_Spleen' has a Mean Decrease in Impurity of 0.00740\n",
      "33. The feature 'GTEx' has a Mean Decrease in Impurity of 0.00732\n",
      "34. The feature 'Fallopian Tube' has a Mean Decrease in Impurity of 0.00726\n",
      "35. The feature 'GTEx_Brain_Hypothalamus' has a Mean Decrease in Impurity of 0.00721\n",
      "36. The feature 'Stomach' has a Mean Decrease in Impurity of 0.00717\n",
      "37. The feature 'GERP' has a Mean Decrease in Impurity of 0.00698\n",
      "38. The feature 'Kidney - Cortex' has a Mean Decrease in Impurity of 0.00694\n",
      "39. The feature 'Artery - Coronary' has a Mean Decrease in Impurity of 0.00690\n",
      "40. The feature 'Cervix - Ectocervix' has a Mean Decrease in Impurity of 0.00689\n",
      "41. The feature 'Liver' has a Mean Decrease in Impurity of 0.00686\n",
      "42. The feature 'Uterus' has a Mean Decrease in Impurity of 0.00666\n",
      "43. The feature 'Esophagus - Mucosa' has a Mean Decrease in Impurity of 0.00659\n",
      "44. The feature 'GTEx_Vagina' has a Mean Decrease in Impurity of 0.00659\n",
      "45. The feature 'blastp_similarity' has a Mean Decrease in Impurity of 0.00653\n",
      "46. The feature 'Brain - Spinal cord (cervical c-1)' has a Mean Decrease in Impurity of 0.00640\n",
      "47. The feature 'Cells - EBV-transformed lymphocytes' has a Mean Decrease in Impurity of 0.00634\n",
      "48. The feature 'Vagina' has a Mean Decrease in Impurity of 0.00623\n",
      "49. The feature 'GTEx_Skin_Sun_Exposed_Lower_leg' has a Mean Decrease in Impurity of 0.00619\n",
      "50. The feature 'Thyroid' has a Mean Decrease in Impurity of 0.00612\n",
      "51. The feature 'Breast - Mammary Tissue' has a Mean Decrease in Impurity of 0.00607\n",
      "52. The feature 'Adipose - Visceral (Omentum)' has a Mean Decrease in Impurity of 0.00594\n",
      "53. The feature 'Small Intestine - Terminal Ileum' has a Mean Decrease in Impurity of 0.00594\n",
      "54. The feature 'Spleen' has a Mean Decrease in Impurity of 0.00593\n",
      "55. The feature 'Pituitary' has a Mean Decrease in Impurity of 0.00578\n",
      "56. The feature 'Lung' has a Mean Decrease in Impurity of 0.00568\n",
      "57. The feature 'GTEx_Pituitary' has a Mean Decrease in Impurity of 0.00564\n",
      "58. The feature 'Pancreas' has a Mean Decrease in Impurity of 0.00562\n",
      "59. The feature 'Heart - Atrial Appendage' has a Mean Decrease in Impurity of 0.00551\n",
      "60. The feature 'Adipose - Subcutaneous' has a Mean Decrease in Impurity of 0.00548\n",
      "61. The feature 'Cells - Transformed fibroblasts' has a Mean Decrease in Impurity of 0.00548\n",
      "62. The feature 'Adrenal Gland' has a Mean Decrease in Impurity of 0.00546\n",
      "63. The feature 'Brain - Substantia nigra' has a Mean Decrease in Impurity of 0.00542\n",
      "64. The feature 'Bladder' has a Mean Decrease in Impurity of 0.00541\n",
      "65. The feature 'Testis' has a Mean Decrease in Impurity of 0.00541\n",
      "66. The feature 'Artery - Tibial' has a Mean Decrease in Impurity of 0.00539\n",
      "67. The feature 'GTEx_Breast_Mammary_Tissue' has a Mean Decrease in Impurity of 0.00535\n",
      "68. The feature 'Skin - Sun Exposed (Lower leg)' has a Mean Decrease in Impurity of 0.00531\n",
      "69. The feature 'GTEx_Brain_Cerebellum' has a Mean Decrease in Impurity of 0.00526\n",
      "70. The feature 'GTEx_Skin_Not_Sun_Exposed_Suprapubic' has a Mean Decrease in Impurity of 0.00512\n",
      "71. The feature 'Skin - Not Sun Exposed (Suprapubic)' has a Mean Decrease in Impurity of 0.00512\n",
      "72. The feature 'GTEx_Lung' has a Mean Decrease in Impurity of 0.00504\n",
      "73. The feature 'Whole Blood' has a Mean Decrease in Impurity of 0.00502\n",
      "74. The feature 'Fantom5' has a Mean Decrease in Impurity of 0.00500\n",
      "75. The feature 'GTEx_Esophagus_Gastroesophageal_Junction' has a Mean Decrease in Impurity of 0.00500\n",
      "76. The feature 'GTEx_Thyroid' has a Mean Decrease in Impurity of 0.00499\n",
      "77. The feature 'GTEx_Brain_Anterior_cingulate_cortex_BA24' has a Mean Decrease in Impurity of 0.00496\n",
      "78. The feature 'GTEx_Uterus' has a Mean Decrease in Impurity of 0.00492\n",
      "79. The feature 'GTEx_Brain_Caudate_basal_ganglia' has a Mean Decrease in Impurity of 0.00489\n",
      "80. The feature 'GTEx_Nerve_Tibial' has a Mean Decrease in Impurity of 0.00480\n",
      "81. The feature 'GTEx_Adipose_Subcutaneous' has a Mean Decrease in Impurity of 0.00477\n",
      "82. The feature 'GTEx_Heart_Atrial_Appendage' has a Mean Decrease in Impurity of 0.00474\n",
      "83. The feature 'GTEx_Testis' has a Mean Decrease in Impurity of 0.00472\n",
      "84. The feature 'GTEx_Artery_Coronary' has a Mean Decrease in Impurity of 0.00472\n",
      "85. The feature 'GTEx_Pancreas' has a Mean Decrease in Impurity of 0.00469\n",
      "86. The feature 'GTEx_Heart_Left_Ventricle' has a Mean Decrease in Impurity of 0.00467\n",
      "87. The feature 'Prostate' has a Mean Decrease in Impurity of 0.00466\n",
      "88. The feature 'GTEx_Brain_Putamen_basal_ganglia' has a Mean Decrease in Impurity of 0.00461\n",
      "89. The feature 'GTEx_Brain_Frontal_Cortex_BA9' has a Mean Decrease in Impurity of 0.00459\n",
      "90. The feature 'Colon - Transverse' has a Mean Decrease in Impurity of 0.00455\n",
      "91. The feature 'GTEx_Colon_Sigmoid' has a Mean Decrease in Impurity of 0.00455\n",
      "92. The feature 'GTEx_Adipose_Visceral_Omentum' has a Mean Decrease in Impurity of 0.00454\n",
      "93. The feature 'GTEx_Artery_Aorta' has a Mean Decrease in Impurity of 0.00451\n",
      "94. The feature 'GTEx_Brain_Hippocampus' has a Mean Decrease in Impurity of 0.00449\n",
      "95. The feature 'GTEx_Ovary' has a Mean Decrease in Impurity of 0.00435\n",
      "96. The feature 'GTEx_Cells_EBV-transformed_lymphocytes' has a Mean Decrease in Impurity of 0.00430\n",
      "97. The feature 'Cervix - Endocervix' has a Mean Decrease in Impurity of 0.00425\n",
      "98. The feature 'GTEx_Esophagus_Muscularis' has a Mean Decrease in Impurity of 0.00411\n",
      "99. The feature 'GTEx_Brain_Nucleus_accumbens_basal_ganglia' has a Mean Decrease in Impurity of 0.00406\n",
      "100. The feature 'GTEx_Artery_Tibial' has a Mean Decrease in Impurity of 0.00403\n",
      "101. The feature 'PCHiC' has a Mean Decrease in Impurity of 0.00395\n",
      "102. The feature 'GTEx_Esophagus_Mucosa' has a Mean Decrease in Impurity of 0.00393\n",
      "103. The feature 'Heart - Left Ventricle' has a Mean Decrease in Impurity of 0.00391\n",
      "104. The feature 'GTEx_Liver' has a Mean Decrease in Impurity of 0.00391\n",
      "105. The feature 'Brain - Cerebellar Hemisphere' has a Mean Decrease in Impurity of 0.00388\n",
      "106. The feature 'GTEx_Muscle_Skeletal' has a Mean Decrease in Impurity of 0.00387\n",
      "107. The feature 'GTEx_Brain_Cortex' has a Mean Decrease in Impurity of 0.00385\n",
      "108. The feature 'Ovary' has a Mean Decrease in Impurity of 0.00370\n",
      "109. The feature 'Muscle - Skeletal' has a Mean Decrease in Impurity of 0.00350\n",
      "110. The feature 'Brain - Cerebellum' has a Mean Decrease in Impurity of 0.00339\n",
      "111. The feature 'GTEx_Colon_Transverse' has a Mean Decrease in Impurity of 0.00333\n",
      "112. The feature 'GTEx_Whole_Blood' has a Mean Decrease in Impurity of 0.00329\n",
      "113. The feature 'GTEx_Cells_Transformed_fibroblasts' has a Mean Decrease in Impurity of 0.00288\n"
     ]
    }
   ],
   "source": [
    "import numpy as np\n",
    "\n",
    "names_index = list(x)\n",
    "\n",
    "def variable_importance(fit):\n",
    "    \"\"\"\n",
    "    Purpose\n",
    "    ----------\n",
    "    Checks if model is fitted CART model then produces variable importance\n",
    "    and respective indices in dictionary.\n",
    "\n",
    "    Parameters\n",
    "    ----------\n",
    "    * fit:  Fitted model containing the attribute feature_importances_\n",
    "\n",
    "    Returns\n",
    "    ----------\n",
    "    Dictionary containing arrays with importance score and index of columns\n",
    "    ordered in descending order of importance.\n",
    "    \"\"\"\n",
    "    try:\n",
    "        if not hasattr(fit, 'fit'):\n",
    "            return print(\"'{0}' is not an instantiated model from scikit-learn\".format(fit)) \n",
    "\n",
    "        # Captures whether the model has been trained\n",
    "        if not vars(fit)[\"estimators_\"]:\n",
    "            return print(\"Model does not appear to be trained.\")\n",
    "    except KeyError:\n",
    "        print(\"Model entered does not contain 'estimators_' attribute.\")\n",
    "\n",
    "    importances = fit.feature_importances_\n",
    "    indices = np.argsort(importances)[::-1]\n",
    "    return {'importance': importances,\n",
    "            'index': indices}\n",
    "\n",
    "var_imp_rf = variable_importance(rf)\n",
    "\n",
    "importances_rf = var_imp_rf['importance']\n",
    "\n",
    "indices_rf = var_imp_rf['index']\n",
    "\n",
    "def print_var_importance(importance, indices, name_index):\n",
    "    \"\"\"\n",
    "    Purpose\n",
    "    ----------\n",
    "    Prints dependent variable names ordered from largest to smallest\n",
    "    based on information gain for CART model.\n",
    "    Parameters\n",
    "    ----------\n",
    "    * importance: Array returned from feature_importances_ for CART\n",
    "                models organized by dataframe index\n",
    "    * indices: Organized index of dataframe from largest to smallest\n",
    "                based on feature_importances_\n",
    "    * name_index: Name of columns included in model\n",
    "\n",
    "    Returns\n",
    "    ----------\n",
    "    Prints feature importance in descending order\n",
    "    \"\"\"\n",
    "    print(\"Feature ranking:\")\n",
    "\n",
    "    for f in range(0, indices.shape[0]):\n",
    "        i = f\n",
    "        print(\"{0}. The feature '{1}' has a Mean Decrease in Impurity of {2:.5f}\"\n",
    "              .format(f + 1,\n",
    "                      names_index[indices[i]],\n",
    "                      importance[indices[f]]))\n",
    "\n",
    "print_var_importance(importances_rf, indices_rf, names_index)"
   ]
  },
  {
   "cell_type": "code",
   "execution_count": 34,
   "metadata": {},
   "outputs": [
    {
     "data": {
      "image/png": "[encoded data removed]",
      "text/plain": [
       "<Figure size 720x720 with 1 Axes>"
      ]
     },
     "metadata": {
      "needs_background": "light"
     },
     "output_type": "display_data"
    }
   ],
   "source": [
    "def variable_importance_plot(importance, indices, name_index):\n",
    "    \"\"\"\n",
    "    Purpose\n",
    "    ----------\n",
    "    Prints bar chart detailing variable importance for CART model\n",
    "    NOTE: feature_space list was created because the bar chart\n",
    "    was transposed and index would be in incorrect order.\n",
    "\n",
    "    Parameters\n",
    "    ----------\n",
    "    * importance: Array returned from feature_importances_ for CART\n",
    "                models organized by dataframe index\n",
    "    * indices: Organized index of dataframe from largest to smallest\n",
    "                based on feature_importances_\n",
    "    * name_index: Name of columns included in model\n",
    "\n",
    "    Returns:\n",
    "    ----------\n",
    "    Returns variable importance plot in descending order\n",
    "    \"\"\"\n",
    "    index = np.arange(len(names_index))\n",
    "\n",
    "    importance_desc = sorted(importance)\n",
    "    feature_space = []\n",
    "    for i in range(indices.shape[0] - 1, -1, -1):\n",
    "        feature_space.append(names_index[indices[i]])\n",
    "\n",
    "    fig, ax = plt.subplots(figsize=(10, 10))\n",
    "\n",
    "    plt.title('Feature importances for Random Forest Model\\\n",
    "    \\nBreast Cancer (Diagnostic)')\n",
    "    plt.barh(index,\n",
    "             importance_desc,\n",
    "             align=\"center\",\n",
    "             color = '#875FDB')\n",
    "    plt.yticks(index,\n",
    "               feature_space)\n",
    "\n",
    "    plt.ylim(-1, 115)\n",
    "    plt.xlim(0, max(importance_desc) + 0.01)\n",
    "    plt.xlabel('Mean Decrease in Impurity')\n",
    "    plt.ylabel('Feature')\n",
    "\n",
    "    plt.show()\n",
    "    plt.close()\n",
    "\n",
    "variable_importance_plot(importances_rf, indices_rf, names_index)"
   ]
  },
  {
   "cell_type": "code",
   "execution_count": 81,
   "metadata": {},
   "outputs": [],
   "source": [
    "X_train_reduced = X_train.iloc[:,var_imp_rf['index'][:25]]\n",
    "X_test_reduced = X_test.iloc[:,var_imp_rf['index'][:25]]"
   ]
  },
  {
   "cell_type": "code",
   "execution_count": 82,
   "metadata": {},
   "outputs": [],
   "source": [
    "next_X_train, next_y_train = return_SMOTE(X_train_reduced, y_train)"
   ]
  },
  {
   "cell_type": "code",
   "execution_count": 83,
   "metadata": {},
   "outputs": [],
   "source": [
    "rf = RandomForestClassifier(random_state=42)"
   ]
  },
  {
   "cell_type": "code",
   "execution_count": 84,
   "metadata": {},
   "outputs": [
    {
     "name": "stdout",
     "output_type": "stream",
     "text": [
      "Best Parameters using grid search: \n",
      " {'criterion': 'gini', 'max_depth': 20, 'max_features': 'auto'}\n"
     ]
    }
   ],
   "source": [
    "new_parameters = best_parameters(rf, next_X_train, next_y_train, PARAM_DIST)"
   ]
  },
  {
   "cell_type": "code",
   "execution_count": 40,
   "metadata": {},
   "outputs": [
    {
     "data": {
      "text/plain": [
       "RandomForestClassifier(bootstrap=True, class_weight={1: 1, 0: 100},\n",
       "            criterion='gini', max_depth=20, max_features='auto',\n",
       "            max_leaf_nodes=None, min_impurity_decrease=0.0,\n",
       "            min_impurity_split=None, min_samples_leaf=1,\n",
       "            min_samples_split=2, min_weight_fraction_leaf=0.0,\n",
       "            n_estimators=750, n_jobs=None, oob_score=False,\n",
       "            random_state=42, verbose=0, warm_start=False)"
      ]
     },
     "execution_count": 40,
     "metadata": {},
     "output_type": "execute_result"
    }
   ],
   "source": [
    "rf.set_params(criterion = new_parameters['criterion'], \n",
    "              max_depth = new_parameters['max_depth'], \n",
    "              max_features = new_parameters['max_features'],\n",
    "              n_estimators=750,\n",
    "              bootstrap=True,\n",
    "              warm_start=False, \n",
    "              oob_score=False,\n",
    "              min_samples_leaf = 1,\n",
    "              min_samples_split = 2,\n",
    "              class_weight = {1:1, 0:100})"
   ]
  },
  {
   "cell_type": "code",
   "execution_count": 85,
   "metadata": {},
   "outputs": [
    {
     "data": {
      "text/plain": [
       "RandomForestClassifier(bootstrap=True, class_weight=None, criterion='gini',\n",
       "            max_depth=None, max_features='auto', max_leaf_nodes=None,\n",
       "            min_impurity_decrease=0.0, min_impurity_split=None,\n",
       "            min_samples_leaf=1, min_samples_split=2,\n",
       "            min_weight_fraction_leaf=0.0, n_estimators=10, n_jobs=None,\n",
       "            oob_score=False, random_state=42, verbose=0, warm_start=False)"
      ]
     },
     "execution_count": 85,
     "metadata": {},
     "output_type": "execute_result"
    }
   ],
   "source": [
    "rf.fit(next_X_train, next_y_train)"
   ]
  },
  {
   "cell_type": "code",
   "execution_count": 86,
   "metadata": {},
   "outputs": [
    {
     "data": {
      "text/plain": [
       "CalibratedClassifierCV(base_estimator=RandomForestClassifier(bootstrap=True, class_weight=None, criterion='gini',\n",
       "            max_depth=None, max_features='auto', max_leaf_nodes=None,\n",
       "            min_impurity_decrease=0.0, min_impurity_split=None,\n",
       "            min_samples_leaf=1, min_samples_split=2,\n",
       "            min_weight_fraction_leaf=0.0, n_estimators=10, n_jobs=None,\n",
       "            oob_score=False, random_state=42, verbose=0, warm_start=False),\n",
       "            cv='prefit', method='sigmoid')"
      ]
     },
     "execution_count": 86,
     "metadata": {},
     "output_type": "execute_result"
    }
   ],
   "source": [
    "from sklearn.calibration import CalibratedClassifierCV\n",
    "calib_model = CalibratedClassifierCV(rf, cv='prefit', method='sigmoid')\n",
    "calib_model.fit(next_X_train, next_y_train)"
   ]
  },
  {
   "cell_type": "code",
   "execution_count": 87,
   "metadata": {},
   "outputs": [
    {
     "data": {
      "text/plain": [
       "array([[1094,   10],\n",
       "       [  16,    7]])"
      ]
     },
     "execution_count": 87,
     "metadata": {},
     "output_type": "execute_result"
    }
   ],
   "source": [
    "y_pred = calib_model.predict(X_test_reduced)\n",
    "confusion_matrix(y_test, y_pred)"
   ]
  },
  {
   "cell_type": "markdown",
   "metadata": {},
   "source": [
    "# PU learning"
   ]
  },
  {
   "cell_type": "code",
   "execution_count": 73,
   "metadata": {},
   "outputs": [],
   "source": [
    "new_x = x #.iloc[:,var_imp_rf['index'][:25]]"
   ]
  },
  {
   "cell_type": "code",
   "execution_count": 74,
   "metadata": {},
   "outputs": [
    {
     "data": {
      "text/plain": [
       "CalibratedClassifierCV(base_estimator=RandomForestClassifier(bootstrap=True, class_weight={1: 1, 0: 100},\n",
       "            criterion='gini', max_depth=20, max_features='auto',\n",
       "            max_leaf_nodes=None, min_impurity_decrease=0.0,\n",
       "            min_impurity_split=None, min_samples_leaf=1,\n",
       "            min_samples_split=2, min_weight_fraction_leaf=0.0,\n",
       "            n_estimators=750, n_jobs=None, oob_score=False,\n",
       "            random_state=None, verbose=0, warm_start=False),\n",
       "            cv=5, method='sigmoid')"
      ]
     },
     "execution_count": 74,
     "metadata": {},
     "output_type": "execute_result"
    }
   ],
   "source": [
    "n_estimators = 100\n",
    "model = rf\n",
    "model.set_params(criterion = new_parameters['criterion'], \n",
    "              max_depth = new_parameters['max_depth'], \n",
    "              max_features = new_parameters['max_features'],\n",
    "              n_estimators=750,\n",
    "              bootstrap=True,\n",
    "              warm_start=False, \n",
    "              oob_score=False,\n",
    "              min_samples_leaf = 1,\n",
    "              min_samples_split = 2,\n",
    "              class_weight = {1:1, 0:100})\n",
    "estimator = CalibratedClassifierCV(model, cv=5, method='sigmoid')\n",
    "estimator.fit(new_x, y)"
   ]
  },
  {
   "cell_type": "code",
   "execution_count": 75,
   "metadata": {},
   "outputs": [],
   "source": [
    "ml_list = [estimator, new_x, y]"
   ]
  },
  {
   "cell_type": "code",
   "execution_count": 76,
   "metadata": {},
   "outputs": [],
   "source": [
    "def final_output(ml_list, n_estimators=100):\n",
    "    \n",
    "    estimator = ml_list[0]\n",
    "    new_x = ml_list[1]\n",
    "    y = ml_list[2]\n",
    "    iP = y[y > 0].index\n",
    "    iU = y[y <= 0].index\n",
    "    num_oob = pd.DataFrame(np.zeros(shape = y.shape), index = y.index)\n",
    "    sum_oob = pd.DataFrame(np.zeros(shape = y.shape), index = y.index)\n",
    "    \n",
    "    for _ in range(n_estimators):\n",
    "        # Get a bootstrap sample of unlabeled points for this round\n",
    "        ib = np.random.choice(iU, replace = True, size = 3 * len(iP))\n",
    "    \n",
    "        # Find the OOB data points for this round\n",
    "        i_oob = list(set(iU) - set(ib))\n",
    "    \n",
    "        # Get the training data (ALL positives and the bootstrap\n",
    "        # sample of unlabeled points) and build the tree\n",
    "        Xb = new_x[list(y>0)].append(new_x.iloc[ib])\n",
    "        yb = y[y > 0].append(y.iloc[ib])\n",
    "        calib_model = estimator\n",
    "        calib_model.fit(Xb, yb)\n",
    "        # Record the OOB scores from this round\n",
    "        sum_oob.loc[i_oob, 0] += calib_model.predict_proba(new_x.iloc[i_oob])[:,1]\n",
    "        num_oob.loc[i_oob, 0] += 1\n",
    "    results = pd.DataFrame(new_x.index)\n",
    "    results['Average_prob'] = sum_oob / num_oob\n",
    "    return results"
   ]
  },
  {
   "cell_type": "code",
   "execution_count": 77,
   "metadata": {},
   "outputs": [],
   "source": [
    "results = final_output(ml_list)"
   ]
  },
  {
   "cell_type": "code",
   "execution_count": 78,
   "metadata": {},
   "outputs": [],
   "source": [
    "results = results.sort_values(by=['Average_prob'], ascending=False)"
   ]
  },
  {
   "cell_type": "code",
   "execution_count": 79,
   "metadata": {},
   "outputs": [
    {
     "data": {
      "text/html": [
       "<div>\n",
       "<style scoped>\n",
       "    .dataframe tbody tr th:only-of-type {\n",
       "        vertical-align: middle;\n",
       "    }\n",
       "\n",
       "    .dataframe tbody tr th {\n",
       "        vertical-align: top;\n",
       "    }\n",
       "\n",
       "    .dataframe thead th {\n",
       "        text-align: right;\n",
       "    }\n",
       "</style>\n",
       "<table border=\"1\" class=\"dataframe\">\n",
       "  <thead>\n",
       "    <tr style=\"text-align: right;\">\n",
       "      <th></th>\n",
       "      <th>gene_symbol</th>\n",
       "      <th>Average_prob</th>\n",
       "    </tr>\n",
       "  </thead>\n",
       "  <tbody>\n",
       "    <tr>\n",
       "      <td>174</td>\n",
       "      <td>RBFOX1</td>\n",
       "      <td>0.913146</td>\n",
       "    </tr>\n",
       "    <tr>\n",
       "      <td>947</td>\n",
       "      <td>NLGN1</td>\n",
       "      <td>0.907415</td>\n",
       "    </tr>\n",
       "    <tr>\n",
       "      <td>1456</td>\n",
       "      <td>CALN1</td>\n",
       "      <td>0.904363</td>\n",
       "    </tr>\n",
       "    <tr>\n",
       "      <td>2147</td>\n",
       "      <td>NOL4</td>\n",
       "      <td>0.903255</td>\n",
       "    </tr>\n",
       "    <tr>\n",
       "      <td>2834</td>\n",
       "      <td>NTRK3</td>\n",
       "      <td>0.903099</td>\n",
       "    </tr>\n",
       "    <tr>\n",
       "      <td>...</td>\n",
       "      <td>...</td>\n",
       "      <td>...</td>\n",
       "    </tr>\n",
       "    <tr>\n",
       "      <td>2655</td>\n",
       "      <td>BCL11B</td>\n",
       "      <td>NaN</td>\n",
       "    </tr>\n",
       "    <tr>\n",
       "      <td>2761</td>\n",
       "      <td>IGSF9B</td>\n",
       "      <td>NaN</td>\n",
       "    </tr>\n",
       "    <tr>\n",
       "      <td>2864</td>\n",
       "      <td>PRKD1</td>\n",
       "      <td>NaN</td>\n",
       "    </tr>\n",
       "    <tr>\n",
       "      <td>2943</td>\n",
       "      <td>KCNV1</td>\n",
       "      <td>NaN</td>\n",
       "    </tr>\n",
       "    <tr>\n",
       "      <td>2964</td>\n",
       "      <td>TSNARE1</td>\n",
       "      <td>NaN</td>\n",
       "    </tr>\n",
       "  </tbody>\n",
       "</table>\n",
       "<p>3219 rows × 2 columns</p>\n",
       "</div>"
      ],
      "text/plain": [
       "     gene_symbol  Average_prob\n",
       "174       RBFOX1      0.913146\n",
       "947        NLGN1      0.907415\n",
       "1456       CALN1      0.904363\n",
       "2147        NOL4      0.903255\n",
       "2834       NTRK3      0.903099\n",
       "...          ...           ...\n",
       "2655      BCL11B           NaN\n",
       "2761      IGSF9B           NaN\n",
       "2864       PRKD1           NaN\n",
       "2943       KCNV1           NaN\n",
       "2964     TSNARE1           NaN\n",
       "\n",
       "[3219 rows x 2 columns]"
      ]
     },
     "execution_count": 79,
     "metadata": {},
     "output_type": "execute_result"
    }
   ],
   "source": [
    "results"
   ]
  },
  {
   "cell_type": "code",
   "execution_count": null,
   "metadata": {},
   "outputs": [],
   "source": []
  },
  {
   "cell_type": "code",
   "execution_count": 80,
   "metadata": {},
   "outputs": [],
   "source": [
    "results.to_csv('/home/nikita/Desktop/scz.tsv', sep='\\t')"
   ]
  },
  {
   "cell_type": "code",
   "execution_count": 153,
   "metadata": {},
   "outputs": [
    {
     "data": {
      "text/plain": [
       "{0, 1, 2, 3, 4, 5, 7}"
      ]
     },
     "execution_count": 153,
     "metadata": {},
     "output_type": "execute_result"
    }
   ],
   "source": [
    "# 'gtex_similarity',\n",
    "#  'blastp_similarity',\n",
    "#  'gene_interactions',\n",
    "#  'gene_interactions_within_data'\n",
    "set(x['gtex_similarity'])"
   ]
  },
  {
   "cell_type": "code",
   "execution_count": 236,
   "metadata": {},
   "outputs": [],
   "source": [
    "results = results.sort_values(by=['Average_prob'], ascending=False).dropna()"
   ]
  },
  {
   "cell_type": "code",
   "execution_count": 237,
   "metadata": {},
   "outputs": [],
   "source": [
    "results.to_csv('/home/nikita/Desktop/rf_100_just_rf_calib.tsv', sep='\\t')"
   ]
  },
  {
   "cell_type": "code",
   "execution_count": 65,
   "metadata": {},
   "outputs": [],
   "source": [
    "up_list = results[results['Average_prob'] >= 0.03].index"
   ]
  },
  {
   "cell_type": "code",
   "execution_count": 66,
   "metadata": {},
   "outputs": [],
   "source": [
    "estimator = ml_list[0]\n",
    "new_x = ml_list[1]\n",
    "y = ml_list[2]\n",
    "iP = y[y > 0].index\n",
    "iU = y[y <= 0].index\n",
    "num_oob = pd.DataFrame(np.zeros(shape = y.shape), index = y.index)\n",
    "sum_oob = pd.DataFrame(np.zeros(shape = y.shape), index = y.index)\n",
    "    \n",
    "for _ in range(n_estimators):\n",
    "    # Get a bootstrap sample of unlabeled points for this round\n",
    "    ib = np.random.choice(iU, replace = True, size = 3 * len(iP))\n",
    "    \n",
    "    ib = list(filter(lambda gene: gene not in up_list, ib))\n",
    "    \n",
    "    # Find the OOB data points for this round\n",
    "    i_oob = list(set(iU) - set(ib))\n",
    "    \n",
    "    # Get the training data (ALL positives and the bootstrap\n",
    "    # sample of unlabeled points) and build the tree\n",
    "    Xb = new_x[list(y>0)].append(new_x.iloc[ib])\n",
    "    yb = y[y > 0].append(y.iloc[ib])\n",
    "    estimator.fit(Xb, yb)\n",
    "    \n",
    "        # Record the OOB scores from this round\n",
    "    sum_oob.loc[i_oob, 0] += estimator.predict_proba(new_x.iloc[i_oob])[:,1]\n",
    "    num_oob.loc[i_oob, 0] += 1\n",
    "    \n",
    "results = pd.DataFrame(new_x.index)\n",
    "results['Average_prob'] = sum_oob / num_oob"
   ]
  },
  {
   "cell_type": "code",
   "execution_count": 67,
   "metadata": {},
   "outputs": [
    {
     "data": {
      "text/html": [
       "<div>\n",
       "<style scoped>\n",
       "    .dataframe tbody tr th:only-of-type {\n",
       "        vertical-align: middle;\n",
       "    }\n",
       "\n",
       "    .dataframe tbody tr th {\n",
       "        vertical-align: top;\n",
       "    }\n",
       "\n",
       "    .dataframe thead th {\n",
       "        text-align: right;\n",
       "    }\n",
       "</style>\n",
       "<table border=\"1\" class=\"dataframe\">\n",
       "  <thead>\n",
       "    <tr style=\"text-align: right;\">\n",
       "      <th></th>\n",
       "      <th>gene_symbol</th>\n",
       "      <th>Average_prob</th>\n",
       "    </tr>\n",
       "  </thead>\n",
       "  <tbody>\n",
       "    <tr>\n",
       "      <td>0</td>\n",
       "      <td>KCNB1</td>\n",
       "      <td>0.753997</td>\n",
       "    </tr>\n",
       "    <tr>\n",
       "      <td>1</td>\n",
       "      <td>PTPRZ1</td>\n",
       "      <td>0.100385</td>\n",
       "    </tr>\n",
       "    <tr>\n",
       "      <td>2</td>\n",
       "      <td>KXD1</td>\n",
       "      <td>0.025165</td>\n",
       "    </tr>\n",
       "    <tr>\n",
       "      <td>3</td>\n",
       "      <td>PMM1</td>\n",
       "      <td>0.025233</td>\n",
       "    </tr>\n",
       "    <tr>\n",
       "      <td>4</td>\n",
       "      <td>TGDS</td>\n",
       "      <td>0.025190</td>\n",
       "    </tr>\n",
       "    <tr>\n",
       "      <td>...</td>\n",
       "      <td>...</td>\n",
       "      <td>...</td>\n",
       "    </tr>\n",
       "    <tr>\n",
       "      <td>2155</td>\n",
       "      <td>TMX2</td>\n",
       "      <td>0.027307</td>\n",
       "    </tr>\n",
       "    <tr>\n",
       "      <td>2156</td>\n",
       "      <td>ANKRD11</td>\n",
       "      <td>0.036138</td>\n",
       "    </tr>\n",
       "    <tr>\n",
       "      <td>2157</td>\n",
       "      <td>DEFB106A</td>\n",
       "      <td>0.025728</td>\n",
       "    </tr>\n",
       "    <tr>\n",
       "      <td>2158</td>\n",
       "      <td>INSM1</td>\n",
       "      <td>0.025447</td>\n",
       "    </tr>\n",
       "    <tr>\n",
       "      <td>2159</td>\n",
       "      <td>PLCG1</td>\n",
       "      <td>0.025450</td>\n",
       "    </tr>\n",
       "  </tbody>\n",
       "</table>\n",
       "<p>2160 rows × 2 columns</p>\n",
       "</div>"
      ],
      "text/plain": [
       "     gene_symbol  Average_prob\n",
       "0          KCNB1      0.753997\n",
       "1         PTPRZ1      0.100385\n",
       "2           KXD1      0.025165\n",
       "3           PMM1      0.025233\n",
       "4           TGDS      0.025190\n",
       "...          ...           ...\n",
       "2155        TMX2      0.027307\n",
       "2156     ANKRD11      0.036138\n",
       "2157    DEFB106A      0.025728\n",
       "2158       INSM1      0.025447\n",
       "2159       PLCG1      0.025450\n",
       "\n",
       "[2160 rows x 2 columns]"
      ]
     },
     "execution_count": 67,
     "metadata": {},
     "output_type": "execute_result"
    }
   ],
   "source": [
    "results"
   ]
  },
  {
   "cell_type": "code",
   "execution_count": 301,
   "metadata": {},
   "outputs": [],
   "source": [
    "results = results.sort_values(by=['Average_prob'], ascending=False).dropna()"
   ]
  },
  {
   "cell_type": "code",
   "execution_count": null,
   "metadata": {},
   "outputs": [],
   "source": []
  },
  {
   "cell_type": "code",
   "execution_count": null,
   "metadata": {},
   "outputs": [],
   "source": []
  },
  {
   "cell_type": "code",
   "execution_count": null,
   "metadata": {},
   "outputs": [],
   "source": []
  },
  {
   "cell_type": "code",
   "execution_count": 302,
   "metadata": {},
   "outputs": [],
   "source": [
    "results.to_csv('/home/nikita/Desktop/xb_100_with_pu_and_new_f.tsv', sep='\\t')"
   ]
  },
  {
   "cell_type": "code",
   "execution_count": 91,
   "metadata": {},
   "outputs": [
    {
     "data": {
      "text/plain": [
       "2160"
      ]
     },
     "execution_count": 91,
     "metadata": {},
     "output_type": "execute_result"
    }
   ],
   "source": [
    "len(x.index)"
   ]
  },
  {
   "cell_type": "markdown",
   "metadata": {},
   "source": [
    "#  xgboost"
   ]
  },
  {
   "cell_type": "code",
   "execution_count": 285,
   "metadata": {},
   "outputs": [],
   "source": [
    "def xgb_model(train_data, train_label, test_data, test_label):\n",
    "    clf = xgb.XGBClassifier(max_depth=10,\n",
    "                           min_child_weight=1,\n",
    "                           learning_rate=0.1,\n",
    "                           n_estimators=800,\n",
    "                           silent=True,\n",
    "                           objective='binary:logistic',\n",
    "                           gamma=0,\n",
    "                           max_delta_step=0,\n",
    "                           subsample=1,\n",
    "                           colsample_bytree=1,\n",
    "                           colsample_bylevel=1,\n",
    "                           reg_alpha=0,\n",
    "                           reg_lambda=0,\n",
    "                           scale_pos_weight=1,\n",
    "                           seed=1,\n",
    "                           missing=None,\n",
    "                           class_weight = {1:.9, 0:.1})\n",
    "    clf.fit(train_data, train_label, eval_metric='auc', verbose=True,\n",
    "            eval_set=[(test_data, test_label)], early_stopping_rounds=100)\n",
    "    y_pre = clf.predict(test_data)\n",
    "    y_pro = clf.predict_proba(test_data)[:, 1]\n",
    "    #print \"AUC Score : %f\" % metrics.roc_auc_score(test_label, y_pro)\n",
    "    #print\"Accuracy : %.4g\" % metrics.accuracy_score(test_label, y_pre)\n",
    "    return clf"
   ]
  },
  {
   "cell_type": "code",
   "execution_count": 286,
   "metadata": {},
   "outputs": [],
   "source": [
    "next_X_train = pd.DataFrame(next_X_train, columns=list(X_train_reduced))\n",
    "X_test_reduced = pd.DataFrame(X_test_reduced, columns=list(X_train_reduced))"
   ]
  },
  {
   "cell_type": "code",
   "execution_count": 62,
   "metadata": {},
   "outputs": [],
   "source": [
    "xgb_model = xgb_model(next_X_train, next_y_train, X_test_reduced, y_test)"
   ]
  },
  {
   "cell_type": "code",
   "execution_count": 288,
   "metadata": {},
   "outputs": [
    {
     "data": {
      "text/plain": [
       "array([[741,   0],\n",
       "       [  1,  14]])"
      ]
     },
     "execution_count": 288,
     "metadata": {},
     "output_type": "execute_result"
    }
   ],
   "source": [
    "y_pred = xgb_model.predict(X_test_reduced)\n",
    "confusion_matrix(y_test, y_pred)"
   ]
  },
  {
   "cell_type": "code",
   "execution_count": 206,
   "metadata": {},
   "outputs": [],
   "source": [
    "calib_model = CalibratedClassifierCV(xgb_model, cv='prefit', method='sigmoid')"
   ]
  },
  {
   "cell_type": "code",
   "execution_count": null,
   "metadata": {},
   "outputs": [],
   "source": [
    "# References:\n",
    "\n",
    "#1) https://www.inertia7.com/projects/95\n",
    "#1*) https://www.datascience.com/resources/notebooks/random-forest-intro"
   ]
  },
  {
   "cell_type": "code",
   "execution_count": 1,
   "metadata": {},
   "outputs": [],
   "source": [
    "from var import *"
   ]
  },
  {
   "cell_type": "code",
   "execution_count": 2,
   "metadata": {},
   "outputs": [],
   "source": [
    "def add_gene_similarity_feature(df, db, causal_genes):\n",
    "    \"\"\"\n",
    "    For each gene in df counts how many similar genes are in true_genes.\n",
    "    Use in order to add two new features: gtex_similarity, blastp_similarity.\n",
    "    \"\"\"\n",
    "    feature = list()\n",
    "    for gene in df['gene_symbol']:\n",
    "        if gene in db.index:\n",
    "            gene_list = db.loc[gene, 'similar_genes']\n",
    "            if type(gene_list) != float:\n",
    "                gene_list = gene_list.split(\",\")\n",
    "                print(gene_list)\n",
    "                s = sum(\n",
    "                    list(map(lambda x: x in causal_genes['gene_symbol'].values, gene_list)))\n",
    "                feature.append(s)\n",
    "            else:\n",
    "                feature.append(0)\n",
    "        else:\n",
    "            feature.append(0)\n",
    "    print('One of the UCSC gene similarity feature is added')\n",
    "    return feature"
   ]
  },
  {
   "cell_type": "code",
   "execution_count": 45,
   "metadata": {},
   "outputs": [],
   "source": [
    "causal_genes = pd.read_csv('true_genes.tsv', sep='\\t')"
   ]
  },
  {
   "cell_type": "code",
   "execution_count": 79,
   "metadata": {},
   "outputs": [],
   "source": [
    "blastp_db = pd.read_csv('blastp_db.tsv', sep='\\t', index_col=0)"
   ]
  },
  {
   "cell_type": "code",
   "execution_count": 61,
   "metadata": {},
   "outputs": [],
   "source": [
    "sum(add_gene_similarity_feature(gtex_frames, blastp_db, causal_genes))"
   ]
  },
  {
   "cell_type": "code",
   "execution_count": 69,
   "metadata": {},
   "outputs": [],
   "source": [
    "new = GTEX_SIMILARITY_DB['similar_genes'].map(lambda x: x.replace(\"'\", '').replace(\"]\", '').replace(\"[\", '').replace(\" \", '') if type(x) != float else None)"
   ]
  },
  {
   "cell_type": "code",
   "execution_count": 70,
   "metadata": {},
   "outputs": [
    {
     "data": {
      "text/plain": [
       "A1BG        <class 'NoneType'>\n",
       "A1BG-AS1         <class 'str'>\n",
       "A1CF             <class 'str'>\n",
       "A2M         <class 'NoneType'>\n",
       "A2M-AS1          <class 'str'>\n",
       "                   ...        \n",
       "ZYG11A           <class 'str'>\n",
       "ZYG11B      <class 'NoneType'>\n",
       "ZYX         <class 'NoneType'>\n",
       "ZZEF1            <class 'str'>\n",
       "ZZZ3             <class 'str'>\n",
       "Name: similar_genes, Length: 28252, dtype: object"
      ]
     },
     "execution_count": 70,
     "metadata": {},
     "output_type": "execute_result"
    }
   ],
   "source": [
    "new.map(lambda x: type(x))"
   ]
  },
  {
   "cell_type": "code",
   "execution_count": 71,
   "metadata": {},
   "outputs": [
    {
     "name": "stderr",
     "output_type": "stream",
     "text": [
      "/usr/local/lib/python3.6/dist-packages/ipykernel_launcher.py:1: FutureWarning: The signature of `Series.to_csv` was aligned to that of `DataFrame.to_csv`, and argument 'header' will change its default value from False to True: please pass an explicit value to suppress this warning.\n",
      "  \"\"\"Entry point for launching an IPython kernel.\n"
     ]
    }
   ],
   "source": [
    "new.to_csv('gtex_db.tsv', sep='\\t')"
   ]
  },
  {
   "cell_type": "markdown",
   "metadata": {},
   "source": [
    "## UKBB"
   ]
  },
  {
   "cell_type": "code",
   "execution_count": 87,
   "metadata": {},
   "outputs": [],
   "source": [
    "ukbb_1 = pd.read_csv('/home/nikita/Downloads/1001.assoc.tsv', sep='\\t')"
   ]
  },
  {
   "cell_type": "code",
   "execution_count": 82,
   "metadata": {},
   "outputs": [
    {
     "data": {
      "text/html": [
       "<div>\n",
       "<style scoped>\n",
       "    .dataframe tbody tr th:only-of-type {\n",
       "        vertical-align: middle;\n",
       "    }\n",
       "\n",
       "    .dataframe tbody tr th {\n",
       "        vertical-align: top;\n",
       "    }\n",
       "\n",
       "    .dataframe thead th {\n",
       "        text-align: right;\n",
       "    }\n",
       "</style>\n",
       "<table border=\"1\" class=\"dataframe\">\n",
       "  <thead>\n",
       "    <tr style=\"text-align: right;\">\n",
       "      <th></th>\n",
       "      <th>variant</th>\n",
       "      <th>rsid</th>\n",
       "      <th>nCompleteSamples</th>\n",
       "      <th>AC</th>\n",
       "      <th>ytx</th>\n",
       "      <th>beta</th>\n",
       "      <th>se</th>\n",
       "      <th>tstat</th>\n",
       "      <th>pval</th>\n",
       "    </tr>\n",
       "  </thead>\n",
       "  <tbody>\n",
       "    <tr>\n",
       "      <td>0</td>\n",
       "      <td>5:43888254:C:T</td>\n",
       "      <td>rs13184706</td>\n",
       "      <td>34342</td>\n",
       "      <td>1247.770</td>\n",
       "      <td>4709.35</td>\n",
       "      <td>0.001507</td>\n",
       "      <td>0.034122</td>\n",
       "      <td>0.044164</td>\n",
       "      <td>0.964774</td>\n",
       "    </tr>\n",
       "    <tr>\n",
       "      <td>1</td>\n",
       "      <td>5:43888493:C:T</td>\n",
       "      <td>rs58824264</td>\n",
       "      <td>34342</td>\n",
       "      <td>269.278</td>\n",
       "      <td>1002.72</td>\n",
       "      <td>-0.043666</td>\n",
       "      <td>0.072722</td>\n",
       "      <td>-0.600456</td>\n",
       "      <td>0.548206</td>\n",
       "    </tr>\n",
       "    <tr>\n",
       "      <td>2</td>\n",
       "      <td>5:43888556:T:C</td>\n",
       "      <td>rs72762387</td>\n",
       "      <td>34342</td>\n",
       "      <td>1663.980</td>\n",
       "      <td>6287.12</td>\n",
       "      <td>0.010876</td>\n",
       "      <td>0.029734</td>\n",
       "      <td>0.365764</td>\n",
       "      <td>0.714543</td>\n",
       "    </tr>\n",
       "    <tr>\n",
       "      <td>3</td>\n",
       "      <td>5:43888648:C:T</td>\n",
       "      <td>rs115032754</td>\n",
       "      <td>34342</td>\n",
       "      <td>1411.950</td>\n",
       "      <td>5253.19</td>\n",
       "      <td>-0.050457</td>\n",
       "      <td>0.032417</td>\n",
       "      <td>-1.556510</td>\n",
       "      <td>0.119596</td>\n",
       "    </tr>\n",
       "    <tr>\n",
       "      <td>4</td>\n",
       "      <td>5:43888690:C:G</td>\n",
       "      <td>rs147555725</td>\n",
       "      <td>34342</td>\n",
       "      <td>112.996</td>\n",
       "      <td>415.78</td>\n",
       "      <td>-0.093960</td>\n",
       "      <td>0.114559</td>\n",
       "      <td>-0.820186</td>\n",
       "      <td>0.412116</td>\n",
       "    </tr>\n",
       "  </tbody>\n",
       "</table>\n",
       "</div>"
      ],
      "text/plain": [
       "          variant         rsid  nCompleteSamples        AC      ytx      beta  \\\n",
       "0  5:43888254:C:T   rs13184706             34342  1247.770  4709.35  0.001507   \n",
       "1  5:43888493:C:T   rs58824264             34342   269.278  1002.72 -0.043666   \n",
       "2  5:43888556:T:C   rs72762387             34342  1663.980  6287.12  0.010876   \n",
       "3  5:43888648:C:T  rs115032754             34342  1411.950  5253.19 -0.050457   \n",
       "4  5:43888690:C:G  rs147555725             34342   112.996   415.78 -0.093960   \n",
       "\n",
       "         se     tstat      pval  \n",
       "0  0.034122  0.044164  0.964774  \n",
       "1  0.072722 -0.600456  0.548206  \n",
       "2  0.029734  0.365764  0.714543  \n",
       "3  0.032417 -1.556510  0.119596  \n",
       "4  0.114559 -0.820186  0.412116  "
      ]
     },
     "execution_count": 82,
     "metadata": {},
     "output_type": "execute_result"
    }
   ],
   "source": [
    "ukbb_1.head()"
   ]
  },
  {
   "cell_type": "code",
   "execution_count": 83,
   "metadata": {},
   "outputs": [
    {
     "data": {
      "text/plain": [
       "10894596"
      ]
     },
     "execution_count": 83,
     "metadata": {},
     "output_type": "execute_result"
    }
   ],
   "source": [
    "len(ukbb_1)"
   ]
  },
  {
   "cell_type": "code",
   "execution_count": 89,
   "metadata": {},
   "outputs": [],
   "source": [
    "ukbb_1 = ukbb_1.query('pval <= 10**-6')"
   ]
  },
  {
   "cell_type": "code",
   "execution_count": 90,
   "metadata": {},
   "outputs": [
    {
     "data": {
      "text/html": [
       "<div>\n",
       "<style scoped>\n",
       "    .dataframe tbody tr th:only-of-type {\n",
       "        vertical-align: middle;\n",
       "    }\n",
       "\n",
       "    .dataframe tbody tr th {\n",
       "        vertical-align: top;\n",
       "    }\n",
       "\n",
       "    .dataframe thead th {\n",
       "        text-align: right;\n",
       "    }\n",
       "</style>\n",
       "<table border=\"1\" class=\"dataframe\">\n",
       "  <thead>\n",
       "    <tr style=\"text-align: right;\">\n",
       "      <th></th>\n",
       "      <th>variant</th>\n",
       "      <th>rsid</th>\n",
       "      <th>nCompleteSamples</th>\n",
       "      <th>AC</th>\n",
       "      <th>ytx</th>\n",
       "      <th>beta</th>\n",
       "      <th>se</th>\n",
       "      <th>tstat</th>\n",
       "      <th>pval</th>\n",
       "    </tr>\n",
       "  </thead>\n",
       "  <tbody>\n",
       "    <tr>\n",
       "      <td>141088</td>\n",
       "      <td>10:96525779:C:T</td>\n",
       "      <td>rs572110881</td>\n",
       "      <td>34342</td>\n",
       "      <td>238.784</td>\n",
       "      <td>989.588</td>\n",
       "      <td>0.393107</td>\n",
       "      <td>0.078779</td>\n",
       "      <td>4.99003</td>\n",
       "      <td>6.066430e-07</td>\n",
       "    </tr>\n",
       "    <tr>\n",
       "      <td>141272</td>\n",
       "      <td>10:96560284:C:T</td>\n",
       "      <td>rs191705666</td>\n",
       "      <td>34342</td>\n",
       "      <td>233.769</td>\n",
       "      <td>969.325</td>\n",
       "      <td>0.399404</td>\n",
       "      <td>0.080078</td>\n",
       "      <td>4.98767</td>\n",
       "      <td>6.140920e-07</td>\n",
       "    </tr>\n",
       "    <tr>\n",
       "      <td>164644</td>\n",
       "      <td>7:52903807:A:C</td>\n",
       "      <td>rs11238232</td>\n",
       "      <td>34342</td>\n",
       "      <td>7592.620</td>\n",
       "      <td>28120.400</td>\n",
       "      <td>-0.071991</td>\n",
       "      <td>0.014356</td>\n",
       "      <td>-5.01485</td>\n",
       "      <td>5.333860e-07</td>\n",
       "    </tr>\n",
       "    <tr>\n",
       "      <td>164651</td>\n",
       "      <td>7:52904446:C:G</td>\n",
       "      <td>rs62444552</td>\n",
       "      <td>34342</td>\n",
       "      <td>7537.090</td>\n",
       "      <td>27918.700</td>\n",
       "      <td>-0.071153</td>\n",
       "      <td>0.014404</td>\n",
       "      <td>-4.93996</td>\n",
       "      <td>7.850750e-07</td>\n",
       "    </tr>\n",
       "    <tr>\n",
       "      <td>164861</td>\n",
       "      <td>7:52931493:G:A</td>\n",
       "      <td>rs725867</td>\n",
       "      <td>34342</td>\n",
       "      <td>7473.950</td>\n",
       "      <td>27681.800</td>\n",
       "      <td>-0.071180</td>\n",
       "      <td>0.014427</td>\n",
       "      <td>-4.93387</td>\n",
       "      <td>8.099470e-07</td>\n",
       "    </tr>\n",
       "    <tr>\n",
       "      <td>164865</td>\n",
       "      <td>7:52932283:G:A</td>\n",
       "      <td>rs6974952</td>\n",
       "      <td>34342</td>\n",
       "      <td>7474.060</td>\n",
       "      <td>27682.300</td>\n",
       "      <td>-0.071164</td>\n",
       "      <td>0.014427</td>\n",
       "      <td>-4.93274</td>\n",
       "      <td>8.146280e-07</td>\n",
       "    </tr>\n",
       "    <tr>\n",
       "      <td>266572</td>\n",
       "      <td>6:5043326:G:A</td>\n",
       "      <td>rs12200195</td>\n",
       "      <td>34342</td>\n",
       "      <td>6275.740</td>\n",
       "      <td>23199.200</td>\n",
       "      <td>-0.078193</td>\n",
       "      <td>0.015650</td>\n",
       "      <td>-4.99624</td>\n",
       "      <td>5.874490e-07</td>\n",
       "    </tr>\n",
       "    <tr>\n",
       "      <td>266573</td>\n",
       "      <td>6:5043336:A:G</td>\n",
       "      <td>rs12194104</td>\n",
       "      <td>34342</td>\n",
       "      <td>6276.640</td>\n",
       "      <td>23202.100</td>\n",
       "      <td>-0.078289</td>\n",
       "      <td>0.015649</td>\n",
       "      <td>-5.00271</td>\n",
       "      <td>5.680750e-07</td>\n",
       "    </tr>\n",
       "    <tr>\n",
       "      <td>266577</td>\n",
       "      <td>6:5043828:A:T</td>\n",
       "      <td>rs57919800</td>\n",
       "      <td>34342</td>\n",
       "      <td>6284.400</td>\n",
       "      <td>23226.100</td>\n",
       "      <td>-0.079148</td>\n",
       "      <td>0.015652</td>\n",
       "      <td>-5.05688</td>\n",
       "      <td>4.283700e-07</td>\n",
       "    </tr>\n",
       "    <tr>\n",
       "      <td>1046401</td>\n",
       "      <td>10:95988132:G:A</td>\n",
       "      <td>rs181317052</td>\n",
       "      <td>34342</td>\n",
       "      <td>212.020</td>\n",
       "      <td>883.702</td>\n",
       "      <td>0.415534</td>\n",
       "      <td>0.083540</td>\n",
       "      <td>4.97409</td>\n",
       "      <td>6.587020e-07</td>\n",
       "    </tr>\n",
       "    <tr>\n",
       "      <td>1435100</td>\n",
       "      <td>10:96214504:T:G</td>\n",
       "      <td>rs187081931</td>\n",
       "      <td>34342</td>\n",
       "      <td>214.624</td>\n",
       "      <td>900.204</td>\n",
       "      <td>0.464189</td>\n",
       "      <td>0.084787</td>\n",
       "      <td>5.47477</td>\n",
       "      <td>4.411460e-08</td>\n",
       "    </tr>\n",
       "    <tr>\n",
       "      <td>4397420</td>\n",
       "      <td>4:155849872:G:A</td>\n",
       "      <td>rs186469844</td>\n",
       "      <td>34342</td>\n",
       "      <td>543.706</td>\n",
       "      <td>2180.180</td>\n",
       "      <td>0.266627</td>\n",
       "      <td>0.053415</td>\n",
       "      <td>4.99159</td>\n",
       "      <td>6.017690e-07</td>\n",
       "    </tr>\n",
       "    <tr>\n",
       "      <td>4397518</td>\n",
       "      <td>4:155877246:T:C</td>\n",
       "      <td>rs143047507</td>\n",
       "      <td>34342</td>\n",
       "      <td>497.737</td>\n",
       "      <td>2001.420</td>\n",
       "      <td>0.273577</td>\n",
       "      <td>0.055692</td>\n",
       "      <td>4.91234</td>\n",
       "      <td>9.040800e-07</td>\n",
       "    </tr>\n",
       "    <tr>\n",
       "      <td>4446276</td>\n",
       "      <td>20:51549188:C:T</td>\n",
       "      <td>rs185961463</td>\n",
       "      <td>34342</td>\n",
       "      <td>124.361</td>\n",
       "      <td>529.125</td>\n",
       "      <td>0.564028</td>\n",
       "      <td>0.113470</td>\n",
       "      <td>4.97073</td>\n",
       "      <td>6.702290e-07</td>\n",
       "    </tr>\n",
       "    <tr>\n",
       "      <td>4762222</td>\n",
       "      <td>1:47407175:A:G</td>\n",
       "      <td>rs141586057</td>\n",
       "      <td>34342</td>\n",
       "      <td>279.584</td>\n",
       "      <td>1144.010</td>\n",
       "      <td>0.392002</td>\n",
       "      <td>0.076827</td>\n",
       "      <td>5.10237</td>\n",
       "      <td>3.372080e-07</td>\n",
       "    </tr>\n",
       "    <tr>\n",
       "      <td>4983304</td>\n",
       "      <td>10:96255904:C:T</td>\n",
       "      <td>rs191046213</td>\n",
       "      <td>34342</td>\n",
       "      <td>225.631</td>\n",
       "      <td>941.224</td>\n",
       "      <td>0.431436</td>\n",
       "      <td>0.082063</td>\n",
       "      <td>5.25736</td>\n",
       "      <td>1.470140e-07</td>\n",
       "    </tr>\n",
       "    <tr>\n",
       "      <td>7904915</td>\n",
       "      <td>20:45181007:C:T</td>\n",
       "      <td>rs543258365</td>\n",
       "      <td>34342</td>\n",
       "      <td>114.737</td>\n",
       "      <td>492.973</td>\n",
       "      <td>0.663630</td>\n",
       "      <td>0.123943</td>\n",
       "      <td>5.35431</td>\n",
       "      <td>8.643220e-08</td>\n",
       "    </tr>\n",
       "  </tbody>\n",
       "</table>\n",
       "</div>"
      ],
      "text/plain": [
       "                 variant         rsid  nCompleteSamples        AC        ytx  \\\n",
       "141088   10:96525779:C:T  rs572110881             34342   238.784    989.588   \n",
       "141272   10:96560284:C:T  rs191705666             34342   233.769    969.325   \n",
       "164644    7:52903807:A:C   rs11238232             34342  7592.620  28120.400   \n",
       "164651    7:52904446:C:G   rs62444552             34342  7537.090  27918.700   \n",
       "164861    7:52931493:G:A     rs725867             34342  7473.950  27681.800   \n",
       "164865    7:52932283:G:A    rs6974952             34342  7474.060  27682.300   \n",
       "266572     6:5043326:G:A   rs12200195             34342  6275.740  23199.200   \n",
       "266573     6:5043336:A:G   rs12194104             34342  6276.640  23202.100   \n",
       "266577     6:5043828:A:T   rs57919800             34342  6284.400  23226.100   \n",
       "1046401  10:95988132:G:A  rs181317052             34342   212.020    883.702   \n",
       "1435100  10:96214504:T:G  rs187081931             34342   214.624    900.204   \n",
       "4397420  4:155849872:G:A  rs186469844             34342   543.706   2180.180   \n",
       "4397518  4:155877246:T:C  rs143047507             34342   497.737   2001.420   \n",
       "4446276  20:51549188:C:T  rs185961463             34342   124.361    529.125   \n",
       "4762222   1:47407175:A:G  rs141586057             34342   279.584   1144.010   \n",
       "4983304  10:96255904:C:T  rs191046213             34342   225.631    941.224   \n",
       "7904915  20:45181007:C:T  rs543258365             34342   114.737    492.973   \n",
       "\n",
       "             beta        se    tstat          pval  \n",
       "141088   0.393107  0.078779  4.99003  6.066430e-07  \n",
       "141272   0.399404  0.080078  4.98767  6.140920e-07  \n",
       "164644  -0.071991  0.014356 -5.01485  5.333860e-07  \n",
       "164651  -0.071153  0.014404 -4.93996  7.850750e-07  \n",
       "164861  -0.071180  0.014427 -4.93387  8.099470e-07  \n",
       "164865  -0.071164  0.014427 -4.93274  8.146280e-07  \n",
       "266572  -0.078193  0.015650 -4.99624  5.874490e-07  \n",
       "266573  -0.078289  0.015649 -5.00271  5.680750e-07  \n",
       "266577  -0.079148  0.015652 -5.05688  4.283700e-07  \n",
       "1046401  0.415534  0.083540  4.97409  6.587020e-07  \n",
       "1435100  0.464189  0.084787  5.47477  4.411460e-08  \n",
       "4397420  0.266627  0.053415  4.99159  6.017690e-07  \n",
       "4397518  0.273577  0.055692  4.91234  9.040800e-07  \n",
       "4446276  0.564028  0.113470  4.97073  6.702290e-07  \n",
       "4762222  0.392002  0.076827  5.10237  3.372080e-07  \n",
       "4983304  0.431436  0.082063  5.25736  1.470140e-07  \n",
       "7904915  0.663630  0.123943  5.35431  8.643220e-08  "
      ]
     },
     "execution_count": 90,
     "metadata": {},
     "output_type": "execute_result"
    }
   ],
   "source": [
    "ukbb_1"
   ]
  },
  {
   "cell_type": "markdown",
   "metadata": {},
   "source": [
    "## Interactions and gene types"
   ]
  },
  {
   "cell_type": "code",
   "execution_count": 4,
   "metadata": {},
   "outputs": [],
   "source": [
    "import pandas as pd"
   ]
  },
  {
   "cell_type": "code",
   "execution_count": 15,
   "metadata": {},
   "outputs": [
    {
     "data": {
      "text/html": [
       "<div>\n",
       "<style scoped>\n",
       "    .dataframe tbody tr th:only-of-type {\n",
       "        vertical-align: middle;\n",
       "    }\n",
       "\n",
       "    .dataframe tbody tr th {\n",
       "        vertical-align: top;\n",
       "    }\n",
       "\n",
       "    .dataframe thead th {\n",
       "        text-align: right;\n",
       "    }\n",
       "</style>\n",
       "<table border=\"1\" class=\"dataframe\">\n",
       "  <thead>\n",
       "    <tr style=\"text-align: right;\">\n",
       "      <th></th>\n",
       "      <th>0</th>\n",
       "      <th>1</th>\n",
       "      <th>2</th>\n",
       "      <th>3</th>\n",
       "      <th>4</th>\n",
       "      <th>5</th>\n",
       "      <th>6</th>\n",
       "      <th>7</th>\n",
       "      <th>8</th>\n",
       "      <th>9</th>\n",
       "    </tr>\n",
       "  </thead>\n",
       "  <tbody>\n",
       "    <tr>\n",
       "      <td>0</td>\n",
       "      <td>2</td>\n",
       "      <td>C2</td>\n",
       "      <td>ppi</td>\n",
       "      <td>0</td>\n",
       "      <td>0</td>\n",
       "      <td>0</td>\n",
       "      <td>ophid|hprd</td>\n",
       "      <td>3</td>\n",
       "      <td>NaN</td>\n",
       "      <td>NaN</td>\n",
       "    </tr>\n",
       "    <tr>\n",
       "      <td>1</td>\n",
       "      <td>2</td>\n",
       "      <td>C3</td>\n",
       "      <td>ppi</td>\n",
       "      <td>0</td>\n",
       "      <td>0</td>\n",
       "      <td>0</td>\n",
       "      <td>hprd</td>\n",
       "      <td>8</td>\n",
       "      <td>NaN</td>\n",
       "      <td>NaN</td>\n",
       "    </tr>\n",
       "    <tr>\n",
       "      <td>2</td>\n",
       "      <td>2</td>\n",
       "      <td>C4B</td>\n",
       "      <td>ppi</td>\n",
       "      <td>0</td>\n",
       "      <td>0</td>\n",
       "      <td>0</td>\n",
       "      <td>hprd</td>\n",
       "      <td>8</td>\n",
       "      <td>NaN</td>\n",
       "      <td>NaN</td>\n",
       "    </tr>\n",
       "    <tr>\n",
       "      <td>3</td>\n",
       "      <td>2</td>\n",
       "      <td>C4BPA</td>\n",
       "      <td>ppi</td>\n",
       "      <td>0</td>\n",
       "      <td>0</td>\n",
       "      <td>0</td>\n",
       "      <td>ophid|hprd</td>\n",
       "      <td>2</td>\n",
       "      <td>NaN</td>\n",
       "      <td>NaN</td>\n",
       "    </tr>\n",
       "    <tr>\n",
       "      <td>4</td>\n",
       "      <td>2</td>\n",
       "      <td>C5</td>\n",
       "      <td>ppi</td>\n",
       "      <td>0</td>\n",
       "      <td>0</td>\n",
       "      <td>0</td>\n",
       "      <td>hprd</td>\n",
       "      <td>8</td>\n",
       "      <td>NaN</td>\n",
       "      <td>NaN</td>\n",
       "    </tr>\n",
       "    <tr>\n",
       "      <td>5</td>\n",
       "      <td>2</td>\n",
       "      <td>CD46</td>\n",
       "      <td>ppi</td>\n",
       "      <td>0</td>\n",
       "      <td>0</td>\n",
       "      <td>0</td>\n",
       "      <td>ophid|hprd</td>\n",
       "      <td>3</td>\n",
       "      <td>NaN</td>\n",
       "      <td>NaN</td>\n",
       "    </tr>\n",
       "    <tr>\n",
       "      <td>6</td>\n",
       "      <td>2</td>\n",
       "      <td>CFB</td>\n",
       "      <td>ppi</td>\n",
       "      <td>0</td>\n",
       "      <td>0</td>\n",
       "      <td>0</td>\n",
       "      <td>ophid|hprd</td>\n",
       "      <td>3</td>\n",
       "      <td>NaN</td>\n",
       "      <td>NaN</td>\n",
       "    </tr>\n",
       "    <tr>\n",
       "      <td>7</td>\n",
       "      <td>2</td>\n",
       "      <td>CR1</td>\n",
       "      <td>ppi</td>\n",
       "      <td>0</td>\n",
       "      <td>0</td>\n",
       "      <td>0</td>\n",
       "      <td>ophid|hprd</td>\n",
       "      <td>3</td>\n",
       "      <td>NaN</td>\n",
       "      <td>NaN</td>\n",
       "    </tr>\n",
       "    <tr>\n",
       "      <td>8</td>\n",
       "      <td>2</td>\n",
       "      <td>EEF1A1</td>\n",
       "      <td>ppi</td>\n",
       "      <td>0</td>\n",
       "      <td>0</td>\n",
       "      <td>0</td>\n",
       "      <td>ophid|hprd</td>\n",
       "      <td>2</td>\n",
       "      <td>NaN</td>\n",
       "      <td>NaN</td>\n",
       "    </tr>\n",
       "    <tr>\n",
       "      <td>9</td>\n",
       "      <td>2</td>\n",
       "      <td>MASP1</td>\n",
       "      <td>ppi</td>\n",
       "      <td>0</td>\n",
       "      <td>0</td>\n",
       "      <td>0</td>\n",
       "      <td>hprd</td>\n",
       "      <td>5</td>\n",
       "      <td>NaN</td>\n",
       "      <td>NaN</td>\n",
       "    </tr>\n",
       "    <tr>\n",
       "      <td>10</td>\n",
       "      <td>25653</td>\n",
       "      <td>AR</td>\n",
       "      <td>ppi</td>\n",
       "      <td>0</td>\n",
       "      <td>0</td>\n",
       "      <td>0</td>\n",
       "      <td>argdb</td>\n",
       "      <td>2</td>\n",
       "      <td>NaN</td>\n",
       "      <td>Prostatic Neoplasms (2), Breast Neoplasms (1),...</td>\n",
       "    </tr>\n",
       "    <tr>\n",
       "      <td>11</td>\n",
       "      <td>A1BG</td>\n",
       "      <td>ABCC6</td>\n",
       "      <td>ppi</td>\n",
       "      <td>0</td>\n",
       "      <td>0</td>\n",
       "      <td>0</td>\n",
       "      <td>intact|biogrid</td>\n",
       "      <td>3507</td>\n",
       "      <td>NaN</td>\n",
       "      <td>NaN</td>\n",
       "    </tr>\n",
       "    <tr>\n",
       "      <td>12</td>\n",
       "      <td>A1BG</td>\n",
       "      <td>ANXA7</td>\n",
       "      <td>ppi</td>\n",
       "      <td>0</td>\n",
       "      <td>0</td>\n",
       "      <td>0</td>\n",
       "      <td>intact|biogrid</td>\n",
       "      <td>2745</td>\n",
       "      <td>NaN</td>\n",
       "      <td>NaN</td>\n",
       "    </tr>\n",
       "    <tr>\n",
       "      <td>13</td>\n",
       "      <td>A1BG</td>\n",
       "      <td>CDKN1A</td>\n",
       "      <td>ppi</td>\n",
       "      <td>0</td>\n",
       "      <td>0</td>\n",
       "      <td>0</td>\n",
       "      <td>intact|biogrid</td>\n",
       "      <td>2745</td>\n",
       "      <td>NaN</td>\n",
       "      <td>NaN</td>\n",
       "    </tr>\n",
       "    <tr>\n",
       "      <td>14</td>\n",
       "      <td>A1BG</td>\n",
       "      <td>CRISP3</td>\n",
       "      <td>ppi</td>\n",
       "      <td>0</td>\n",
       "      <td>0</td>\n",
       "      <td>0</td>\n",
       "      <td>biogrid|hprd</td>\n",
       "      <td>1</td>\n",
       "      <td>NaN</td>\n",
       "      <td>NaN</td>\n",
       "    </tr>\n",
       "    <tr>\n",
       "      <td>15</td>\n",
       "      <td>A1BG</td>\n",
       "      <td>ERVK-6</td>\n",
       "      <td>text</td>\n",
       "      <td>0</td>\n",
       "      <td>1</td>\n",
       "      <td>1</td>\n",
       "      <td>NaN</td>\n",
       "      <td>0</td>\n",
       "      <td>AHF1 and AHF2 were of the same amino acid sequ...</td>\n",
       "      <td>Hemorrhage (1)</td>\n",
       "    </tr>\n",
       "    <tr>\n",
       "      <td>16</td>\n",
       "      <td>A1BG</td>\n",
       "      <td>GRB7</td>\n",
       "      <td>ppi</td>\n",
       "      <td>0</td>\n",
       "      <td>0</td>\n",
       "      <td>0</td>\n",
       "      <td>intact|biogrid</td>\n",
       "      <td>2745</td>\n",
       "      <td>NaN</td>\n",
       "      <td>NaN</td>\n",
       "    </tr>\n",
       "    <tr>\n",
       "      <td>17</td>\n",
       "      <td>A1BG</td>\n",
       "      <td>LGALS3</td>\n",
       "      <td>ppi</td>\n",
       "      <td>0</td>\n",
       "      <td>0</td>\n",
       "      <td>0</td>\n",
       "      <td>innatedb</td>\n",
       "      <td>19</td>\n",
       "      <td>NaN</td>\n",
       "      <td>NaN</td>\n",
       "    </tr>\n",
       "    <tr>\n",
       "      <td>18</td>\n",
       "      <td>A1BG</td>\n",
       "      <td>PRDX4</td>\n",
       "      <td>ppi</td>\n",
       "      <td>0</td>\n",
       "      <td>0</td>\n",
       "      <td>0</td>\n",
       "      <td>intact|biogrid</td>\n",
       "      <td>3507</td>\n",
       "      <td>NaN</td>\n",
       "      <td>NaN</td>\n",
       "    </tr>\n",
       "    <tr>\n",
       "      <td>19</td>\n",
       "      <td>A1BG</td>\n",
       "      <td>SETD7</td>\n",
       "      <td>ppi</td>\n",
       "      <td>0</td>\n",
       "      <td>0</td>\n",
       "      <td>0</td>\n",
       "      <td>intact|biogrid</td>\n",
       "      <td>3507</td>\n",
       "      <td>NaN</td>\n",
       "      <td>NaN</td>\n",
       "    </tr>\n",
       "  </tbody>\n",
       "</table>\n",
       "</div>"
      ],
      "text/plain": [
       "        0       1     2  3  4  5               6     7  \\\n",
       "0       2      C2   ppi  0  0  0      ophid|hprd     3   \n",
       "1       2      C3   ppi  0  0  0            hprd     8   \n",
       "2       2     C4B   ppi  0  0  0            hprd     8   \n",
       "3       2   C4BPA   ppi  0  0  0      ophid|hprd     2   \n",
       "4       2      C5   ppi  0  0  0            hprd     8   \n",
       "5       2    CD46   ppi  0  0  0      ophid|hprd     3   \n",
       "6       2     CFB   ppi  0  0  0      ophid|hprd     3   \n",
       "7       2     CR1   ppi  0  0  0      ophid|hprd     3   \n",
       "8       2  EEF1A1   ppi  0  0  0      ophid|hprd     2   \n",
       "9       2   MASP1   ppi  0  0  0            hprd     5   \n",
       "10  25653      AR   ppi  0  0  0           argdb     2   \n",
       "11   A1BG   ABCC6   ppi  0  0  0  intact|biogrid  3507   \n",
       "12   A1BG   ANXA7   ppi  0  0  0  intact|biogrid  2745   \n",
       "13   A1BG  CDKN1A   ppi  0  0  0  intact|biogrid  2745   \n",
       "14   A1BG  CRISP3   ppi  0  0  0    biogrid|hprd     1   \n",
       "15   A1BG  ERVK-6  text  0  1  1             NaN     0   \n",
       "16   A1BG    GRB7   ppi  0  0  0  intact|biogrid  2745   \n",
       "17   A1BG  LGALS3   ppi  0  0  0        innatedb    19   \n",
       "18   A1BG   PRDX4   ppi  0  0  0  intact|biogrid  3507   \n",
       "19   A1BG   SETD7   ppi  0  0  0  intact|biogrid  3507   \n",
       "\n",
       "                                                    8  \\\n",
       "0                                                 NaN   \n",
       "1                                                 NaN   \n",
       "2                                                 NaN   \n",
       "3                                                 NaN   \n",
       "4                                                 NaN   \n",
       "5                                                 NaN   \n",
       "6                                                 NaN   \n",
       "7                                                 NaN   \n",
       "8                                                 NaN   \n",
       "9                                                 NaN   \n",
       "10                                                NaN   \n",
       "11                                                NaN   \n",
       "12                                                NaN   \n",
       "13                                                NaN   \n",
       "14                                                NaN   \n",
       "15  AHF1 and AHF2 were of the same amino acid sequ...   \n",
       "16                                                NaN   \n",
       "17                                                NaN   \n",
       "18                                                NaN   \n",
       "19                                                NaN   \n",
       "\n",
       "                                                    9  \n",
       "0                                                 NaN  \n",
       "1                                                 NaN  \n",
       "2                                                 NaN  \n",
       "3                                                 NaN  \n",
       "4                                                 NaN  \n",
       "5                                                 NaN  \n",
       "6                                                 NaN  \n",
       "7                                                 NaN  \n",
       "8                                                 NaN  \n",
       "9                                                 NaN  \n",
       "10  Prostatic Neoplasms (2), Breast Neoplasms (1),...  \n",
       "11                                                NaN  \n",
       "12                                                NaN  \n",
       "13                                                NaN  \n",
       "14                                                NaN  \n",
       "15                                     Hemorrhage (1)  \n",
       "16                                                NaN  \n",
       "17                                                NaN  \n",
       "18                                                NaN  \n",
       "19                                                NaN  "
      ]
     },
     "execution_count": 15,
     "metadata": {},
     "output_type": "execute_result"
    }
   ],
   "source": [
    "event = pd.read_csv('databases/ggLink.txt', sep='\\t', header=None)\n",
    "event.head(20)"
   ]
  },
  {
   "cell_type": "code",
   "execution_count": 16,
   "metadata": {},
   "outputs": [],
   "source": [
    "event.columns = [f'column_{i}' for i in range(1,11)]"
   ]
  },
  {
   "cell_type": "code",
   "execution_count": 34,
   "metadata": {},
   "outputs": [
    {
     "data": {
      "text/html": [
       "<div>\n",
       "<style scoped>\n",
       "    .dataframe tbody tr th:only-of-type {\n",
       "        vertical-align: middle;\n",
       "    }\n",
       "\n",
       "    .dataframe tbody tr th {\n",
       "        vertical-align: top;\n",
       "    }\n",
       "\n",
       "    .dataframe thead th {\n",
       "        text-align: right;\n",
       "    }\n",
       "</style>\n",
       "<table border=\"1\" class=\"dataframe\">\n",
       "  <thead>\n",
       "    <tr style=\"text-align: right;\">\n",
       "      <th></th>\n",
       "      <th>gene_symbol</th>\n",
       "      <th>gene_interactions</th>\n",
       "    </tr>\n",
       "  </thead>\n",
       "  <tbody>\n",
       "    <tr>\n",
       "      <td>2</td>\n",
       "      <td>NaN</td>\n",
       "      <td>NaN</td>\n",
       "    </tr>\n",
       "    <tr>\n",
       "      <td>25653</td>\n",
       "      <td>NaN</td>\n",
       "      <td>NaN</td>\n",
       "    </tr>\n",
       "    <tr>\n",
       "      <td>A1BG</td>\n",
       "      <td>NaN</td>\n",
       "      <td>NaN</td>\n",
       "    </tr>\n",
       "    <tr>\n",
       "      <td>A1CF</td>\n",
       "      <td>NaN</td>\n",
       "      <td>NaN</td>\n",
       "    </tr>\n",
       "    <tr>\n",
       "      <td>A2M</td>\n",
       "      <td>NaN</td>\n",
       "      <td>NaN</td>\n",
       "    </tr>\n",
       "    <tr>\n",
       "      <td>...</td>\n",
       "      <td>...</td>\n",
       "      <td>...</td>\n",
       "    </tr>\n",
       "    <tr>\n",
       "      <td>ZWILCH</td>\n",
       "      <td>NaN</td>\n",
       "      <td>NaN</td>\n",
       "    </tr>\n",
       "    <tr>\n",
       "      <td>ZWINT</td>\n",
       "      <td>NaN</td>\n",
       "      <td>NaN</td>\n",
       "    </tr>\n",
       "    <tr>\n",
       "      <td>ZXDA</td>\n",
       "      <td>NaN</td>\n",
       "      <td>NaN</td>\n",
       "    </tr>\n",
       "    <tr>\n",
       "      <td>ZXDC</td>\n",
       "      <td>NaN</td>\n",
       "      <td>NaN</td>\n",
       "    </tr>\n",
       "    <tr>\n",
       "      <td>ZYX</td>\n",
       "      <td>NaN</td>\n",
       "      <td>NaN</td>\n",
       "    </tr>\n",
       "  </tbody>\n",
       "</table>\n",
       "<p>17092 rows × 2 columns</p>\n",
       "</div>"
      ],
      "text/plain": [
       "       gene_symbol gene_interactions\n",
       "2              NaN               NaN\n",
       "25653          NaN               NaN\n",
       "A1BG           NaN               NaN\n",
       "A1CF           NaN               NaN\n",
       "A2M            NaN               NaN\n",
       "...            ...               ...\n",
       "ZWILCH         NaN               NaN\n",
       "ZWINT          NaN               NaN\n",
       "ZXDA           NaN               NaN\n",
       "ZXDC           NaN               NaN\n",
       "ZYX            NaN               NaN\n",
       "\n",
       "[17092 rows x 2 columns]"
      ]
     },
     "execution_count": 34,
     "metadata": {},
     "output_type": "execute_result"
    }
   ],
   "source": [
    "our_db = pd.DataFrame(columns=['gene_symbol', 'gene_interactions'], index = event.column_1.unique())\n",
    "our_db"
   ]
  },
  {
   "cell_type": "code",
   "execution_count": 37,
   "metadata": {},
   "outputs": [],
   "source": [
    "for gene in list(event.column_1.unique()):\n",
    "    interactions = set(event.query('column_1 == @gene').column_2)\n",
    "    interactions = str(interactions).replace(' ', '').replace('}','').replace('{','').replace(\"'\",'')\n",
    "    our_db.loc[gene, 'gene_interactions'] = interactions"
   ]
  },
  {
   "cell_type": "code",
   "execution_count": 40,
   "metadata": {},
   "outputs": [],
   "source": [
    "our_db = our_db.drop('gene_symbol', axis=1)"
   ]
  },
  {
   "cell_type": "code",
   "execution_count": 44,
   "metadata": {},
   "outputs": [],
   "source": [
    "our_db.to_csv('databases/UCSC_gene_interactions.tsv', sep='\\t')"
   ]
  },
  {
   "cell_type": "code",
   "execution_count": 35,
   "metadata": {},
   "outputs": [],
   "source": [
    "our_db = pd.read_csv('databases/UCSC_gene_interactions.tsv', sep='\\t', index_col=0)"
   ]
  },
  {
   "cell_type": "code",
   "execution_count": 36,
   "metadata": {},
   "outputs": [],
   "source": [
    "causal_genes = pd.read_csv('true_genes.tsv', sep='\\t')"
   ]
  },
  {
   "cell_type": "code",
   "execution_count": 37,
   "metadata": {},
   "outputs": [],
   "source": [
    "def add_gene_similarity_feature(df, db, causal_genes):\n",
    "    \"\"\"\n",
    "    For each gene in df counts how many similar genes are in true_genes.\n",
    "    Use in order to add two new features: gtex_similarity, blastp_similarity.\n",
    "    \"\"\"\n",
    "    feature = list()\n",
    "    for gene in df['gene_symbol']:\n",
    "        if gene in db.index:\n",
    "            gene_list = db.loc[gene, 'associated_genes']\n",
    "            if type(gene_list) != float:\n",
    "                gene_list = gene_list.split(\",\")\n",
    "                s = sum(\n",
    "                    list(map(lambda x: x in causal_genes['gene_symbol'].values, gene_list)))\n",
    "                feature.append(s)\n",
    "            else:\n",
    "                feature.append(0)\n",
    "        else:\n",
    "            feature.append(0)\n",
    "    print('One of the UCSC gene similarity feature is added')\n",
    "    return feature"
   ]
  },
  {
   "cell_type": "code",
   "execution_count": 38,
   "metadata": {},
   "outputs": [
    {
     "name": "stdout",
     "output_type": "stream",
     "text": [
      "One of the UCSC gene similarity feature is added\n"
     ]
    }
   ],
   "source": [
    "new_feature = add_gene_similarity_feature(gtex_frames, our_db, causal_genes)"
   ]
  },
  {
   "cell_type": "code",
   "execution_count": 40,
   "metadata": {},
   "outputs": [
    {
     "data": {
      "text/plain": [
       "489"
      ]
     },
     "execution_count": 40,
     "metadata": {},
     "output_type": "execute_result"
    }
   ],
   "source": [
    "sum(new_feature)"
   ]
  },
  {
   "cell_type": "code",
   "execution_count": 41,
   "metadata": {},
   "outputs": [],
   "source": [
    "gtex_frames['gene_interactions'] = new_feature"
   ]
  },
  {
   "cell_type": "code",
   "execution_count": 57,
   "metadata": {},
   "outputs": [],
   "source": [
    "gtex_frames.to_csv('/home/nikita/Desktop/gtex_frames_200819_with_new_f.tsv', sep='\\t', index=False)"
   ]
  },
  {
   "cell_type": "code",
   "execution_count": 55,
   "metadata": {},
   "outputs": [],
   "source": [
    "gtex_frames.drop('gene_id', axis=1, inplace=True)"
   ]
  },
  {
   "cell_type": "code",
   "execution_count": 56,
   "metadata": {},
   "outputs": [
    {
     "data": {
      "text/html": [
       "<div>\n",
       "<style scoped>\n",
       "    .dataframe tbody tr th:only-of-type {\n",
       "        vertical-align: middle;\n",
       "    }\n",
       "\n",
       "    .dataframe tbody tr th {\n",
       "        vertical-align: top;\n",
       "    }\n",
       "\n",
       "    .dataframe thead th {\n",
       "        text-align: right;\n",
       "    }\n",
       "</style>\n",
       "<table border=\"1\" class=\"dataframe\">\n",
       "  <thead>\n",
       "    <tr style=\"text-align: right;\">\n",
       "      <th></th>\n",
       "      <th>gene_symbol</th>\n",
       "      <th>DHS</th>\n",
       "      <th>Fantom5</th>\n",
       "      <th>GERP</th>\n",
       "      <th>GTEx</th>\n",
       "      <th>GTEx_Adipose_Subcutaneous</th>\n",
       "      <th>GTEx_Adipose_Visceral_Omentum</th>\n",
       "      <th>GTEx_Adrenal_Gland</th>\n",
       "      <th>GTEx_Artery_Aorta</th>\n",
       "      <th>GTEx_Artery_Coronary</th>\n",
       "      <th>...</th>\n",
       "      <th>Spleen</th>\n",
       "      <th>Stomach</th>\n",
       "      <th>Testis</th>\n",
       "      <th>Thyroid</th>\n",
       "      <th>Uterus</th>\n",
       "      <th>Vagina</th>\n",
       "      <th>Whole Blood</th>\n",
       "      <th>gtex_similarity</th>\n",
       "      <th>blastp_similarity</th>\n",
       "      <th>gene_interactions</th>\n",
       "    </tr>\n",
       "  </thead>\n",
       "  <tbody>\n",
       "    <tr>\n",
       "      <td>0</td>\n",
       "      <td>CACNB2</td>\n",
       "      <td>0.000000</td>\n",
       "      <td>0.000000</td>\n",
       "      <td>-0.706761</td>\n",
       "      <td>0.855810</td>\n",
       "      <td>0.180683</td>\n",
       "      <td>0.327568</td>\n",
       "      <td>0.779113</td>\n",
       "      <td>0.697787</td>\n",
       "      <td>0.599498</td>\n",
       "      <td>...</td>\n",
       "      <td>2</td>\n",
       "      <td>7</td>\n",
       "      <td>6</td>\n",
       "      <td>12</td>\n",
       "      <td>41</td>\n",
       "      <td>20</td>\n",
       "      <td>0</td>\n",
       "      <td>0</td>\n",
       "      <td>0</td>\n",
       "      <td>1</td>\n",
       "    </tr>\n",
       "    <tr>\n",
       "      <td>1</td>\n",
       "      <td>MMP16</td>\n",
       "      <td>0.000000</td>\n",
       "      <td>0.000000</td>\n",
       "      <td>-0.736858</td>\n",
       "      <td>0.938163</td>\n",
       "      <td>0.927943</td>\n",
       "      <td>0.923963</td>\n",
       "      <td>0.847161</td>\n",
       "      <td>0.846519</td>\n",
       "      <td>0.692182</td>\n",
       "      <td>...</td>\n",
       "      <td>11</td>\n",
       "      <td>7</td>\n",
       "      <td>21</td>\n",
       "      <td>18</td>\n",
       "      <td>32</td>\n",
       "      <td>25</td>\n",
       "      <td>0</td>\n",
       "      <td>0</td>\n",
       "      <td>0</td>\n",
       "      <td>1</td>\n",
       "    </tr>\n",
       "    <tr>\n",
       "      <td>2</td>\n",
       "      <td>GRIN2A</td>\n",
       "      <td>0.000000</td>\n",
       "      <td>0.002357</td>\n",
       "      <td>-1.016601</td>\n",
       "      <td>0.928528</td>\n",
       "      <td>0.617306</td>\n",
       "      <td>0.802713</td>\n",
       "      <td>0.000000</td>\n",
       "      <td>0.601764</td>\n",
       "      <td>0.538720</td>\n",
       "      <td>...</td>\n",
       "      <td>1</td>\n",
       "      <td>26</td>\n",
       "      <td>43</td>\n",
       "      <td>30</td>\n",
       "      <td>35</td>\n",
       "      <td>33</td>\n",
       "      <td>0</td>\n",
       "      <td>3</td>\n",
       "      <td>0</td>\n",
       "      <td>1</td>\n",
       "    </tr>\n",
       "    <tr>\n",
       "      <td>3</td>\n",
       "      <td>IGSF9B</td>\n",
       "      <td>0.056191</td>\n",
       "      <td>0.000000</td>\n",
       "      <td>-1.603815</td>\n",
       "      <td>0.993207</td>\n",
       "      <td>0.232759</td>\n",
       "      <td>0.424462</td>\n",
       "      <td>0.510506</td>\n",
       "      <td>0.939385</td>\n",
       "      <td>0.744309</td>\n",
       "      <td>...</td>\n",
       "      <td>12</td>\n",
       "      <td>11</td>\n",
       "      <td>37</td>\n",
       "      <td>40</td>\n",
       "      <td>49</td>\n",
       "      <td>35</td>\n",
       "      <td>2</td>\n",
       "      <td>0</td>\n",
       "      <td>1</td>\n",
       "      <td>0</td>\n",
       "    </tr>\n",
       "    <tr>\n",
       "      <td>4</td>\n",
       "      <td>BCL11B</td>\n",
       "      <td>0.022457</td>\n",
       "      <td>0.036019</td>\n",
       "      <td>-1.691475</td>\n",
       "      <td>0.862090</td>\n",
       "      <td>0.747527</td>\n",
       "      <td>0.323241</td>\n",
       "      <td>0.551260</td>\n",
       "      <td>0.233302</td>\n",
       "      <td>0.307911</td>\n",
       "      <td>...</td>\n",
       "      <td>46</td>\n",
       "      <td>25</td>\n",
       "      <td>32</td>\n",
       "      <td>35</td>\n",
       "      <td>15</td>\n",
       "      <td>45</td>\n",
       "      <td>39</td>\n",
       "      <td>0</td>\n",
       "      <td>0</td>\n",
       "      <td>0</td>\n",
       "    </tr>\n",
       "    <tr>\n",
       "      <td>...</td>\n",
       "      <td>...</td>\n",
       "      <td>...</td>\n",
       "      <td>...</td>\n",
       "      <td>...</td>\n",
       "      <td>...</td>\n",
       "      <td>...</td>\n",
       "      <td>...</td>\n",
       "      <td>...</td>\n",
       "      <td>...</td>\n",
       "      <td>...</td>\n",
       "      <td>...</td>\n",
       "      <td>...</td>\n",
       "      <td>...</td>\n",
       "      <td>...</td>\n",
       "      <td>...</td>\n",
       "      <td>...</td>\n",
       "      <td>...</td>\n",
       "      <td>...</td>\n",
       "      <td>...</td>\n",
       "      <td>...</td>\n",
       "      <td>...</td>\n",
       "    </tr>\n",
       "    <tr>\n",
       "      <td>2155</td>\n",
       "      <td>TMX2</td>\n",
       "      <td>0.000000</td>\n",
       "      <td>0.000000</td>\n",
       "      <td>-0.228954</td>\n",
       "      <td>0.930905</td>\n",
       "      <td>0.710122</td>\n",
       "      <td>0.391528</td>\n",
       "      <td>0.289484</td>\n",
       "      <td>0.140248</td>\n",
       "      <td>0.278750</td>\n",
       "      <td>...</td>\n",
       "      <td>25</td>\n",
       "      <td>20</td>\n",
       "      <td>18</td>\n",
       "      <td>50</td>\n",
       "      <td>44</td>\n",
       "      <td>34</td>\n",
       "      <td>0</td>\n",
       "      <td>0</td>\n",
       "      <td>0</td>\n",
       "      <td>0</td>\n",
       "    </tr>\n",
       "    <tr>\n",
       "      <td>2156</td>\n",
       "      <td>ANKRD11</td>\n",
       "      <td>0.000000</td>\n",
       "      <td>0.000000</td>\n",
       "      <td>-0.599760</td>\n",
       "      <td>0.856029</td>\n",
       "      <td>0.332294</td>\n",
       "      <td>0.657469</td>\n",
       "      <td>0.645999</td>\n",
       "      <td>0.676155</td>\n",
       "      <td>0.684710</td>\n",
       "      <td>...</td>\n",
       "      <td>35</td>\n",
       "      <td>15</td>\n",
       "      <td>38</td>\n",
       "      <td>39</td>\n",
       "      <td>50</td>\n",
       "      <td>33</td>\n",
       "      <td>9</td>\n",
       "      <td>0</td>\n",
       "      <td>0</td>\n",
       "      <td>0</td>\n",
       "    </tr>\n",
       "    <tr>\n",
       "      <td>2157</td>\n",
       "      <td>DEFB106A</td>\n",
       "      <td>0.276618</td>\n",
       "      <td>0.000000</td>\n",
       "      <td>-0.026300</td>\n",
       "      <td>0.000000</td>\n",
       "      <td>0.000000</td>\n",
       "      <td>0.000000</td>\n",
       "      <td>0.000000</td>\n",
       "      <td>0.000000</td>\n",
       "      <td>0.000000</td>\n",
       "      <td>...</td>\n",
       "      <td>0</td>\n",
       "      <td>0</td>\n",
       "      <td>0</td>\n",
       "      <td>0</td>\n",
       "      <td>0</td>\n",
       "      <td>0</td>\n",
       "      <td>0</td>\n",
       "      <td>0</td>\n",
       "      <td>0</td>\n",
       "      <td>0</td>\n",
       "    </tr>\n",
       "    <tr>\n",
       "      <td>2158</td>\n",
       "      <td>INSM1</td>\n",
       "      <td>0.000000</td>\n",
       "      <td>0.000000</td>\n",
       "      <td>-1.089286</td>\n",
       "      <td>0.961335</td>\n",
       "      <td>0.350231</td>\n",
       "      <td>0.000000</td>\n",
       "      <td>0.169637</td>\n",
       "      <td>0.000000</td>\n",
       "      <td>0.000000</td>\n",
       "      <td>...</td>\n",
       "      <td>15</td>\n",
       "      <td>22</td>\n",
       "      <td>23</td>\n",
       "      <td>11</td>\n",
       "      <td>0</td>\n",
       "      <td>0</td>\n",
       "      <td>0</td>\n",
       "      <td>0</td>\n",
       "      <td>0</td>\n",
       "      <td>0</td>\n",
       "    </tr>\n",
       "    <tr>\n",
       "      <td>2159</td>\n",
       "      <td>PLCG1</td>\n",
       "      <td>0.000000</td>\n",
       "      <td>0.000000</td>\n",
       "      <td>-0.845744</td>\n",
       "      <td>0.000000</td>\n",
       "      <td>0.000000</td>\n",
       "      <td>0.000000</td>\n",
       "      <td>0.000000</td>\n",
       "      <td>0.000000</td>\n",
       "      <td>0.000000</td>\n",
       "      <td>...</td>\n",
       "      <td>32</td>\n",
       "      <td>6</td>\n",
       "      <td>41</td>\n",
       "      <td>50</td>\n",
       "      <td>49</td>\n",
       "      <td>43</td>\n",
       "      <td>2</td>\n",
       "      <td>0</td>\n",
       "      <td>1</td>\n",
       "      <td>2</td>\n",
       "    </tr>\n",
       "  </tbody>\n",
       "</table>\n",
       "<p>2160 rows × 114 columns</p>\n",
       "</div>"
      ],
      "text/plain": [
       "     gene_symbol       DHS   Fantom5      GERP      GTEx  \\\n",
       "0         CACNB2  0.000000  0.000000 -0.706761  0.855810   \n",
       "1          MMP16  0.000000  0.000000 -0.736858  0.938163   \n",
       "2         GRIN2A  0.000000  0.002357 -1.016601  0.928528   \n",
       "3         IGSF9B  0.056191  0.000000 -1.603815  0.993207   \n",
       "4         BCL11B  0.022457  0.036019 -1.691475  0.862090   \n",
       "...          ...       ...       ...       ...       ...   \n",
       "2155        TMX2  0.000000  0.000000 -0.228954  0.930905   \n",
       "2156     ANKRD11  0.000000  0.000000 -0.599760  0.856029   \n",
       "2157    DEFB106A  0.276618  0.000000 -0.026300  0.000000   \n",
       "2158       INSM1  0.000000  0.000000 -1.089286  0.961335   \n",
       "2159       PLCG1  0.000000  0.000000 -0.845744  0.000000   \n",
       "\n",
       "      GTEx_Adipose_Subcutaneous  GTEx_Adipose_Visceral_Omentum  \\\n",
       "0                      0.180683                       0.327568   \n",
       "1                      0.927943                       0.923963   \n",
       "2                      0.617306                       0.802713   \n",
       "3                      0.232759                       0.424462   \n",
       "4                      0.747527                       0.323241   \n",
       "...                         ...                            ...   \n",
       "2155                   0.710122                       0.391528   \n",
       "2156                   0.332294                       0.657469   \n",
       "2157                   0.000000                       0.000000   \n",
       "2158                   0.350231                       0.000000   \n",
       "2159                   0.000000                       0.000000   \n",
       "\n",
       "      GTEx_Adrenal_Gland  GTEx_Artery_Aorta  GTEx_Artery_Coronary  ...  \\\n",
       "0               0.779113           0.697787              0.599498  ...   \n",
       "1               0.847161           0.846519              0.692182  ...   \n",
       "2               0.000000           0.601764              0.538720  ...   \n",
       "3               0.510506           0.939385              0.744309  ...   \n",
       "4               0.551260           0.233302              0.307911  ...   \n",
       "...                  ...                ...                   ...  ...   \n",
       "2155            0.289484           0.140248              0.278750  ...   \n",
       "2156            0.645999           0.676155              0.684710  ...   \n",
       "2157            0.000000           0.000000              0.000000  ...   \n",
       "2158            0.169637           0.000000              0.000000  ...   \n",
       "2159            0.000000           0.000000              0.000000  ...   \n",
       "\n",
       "      Spleen  Stomach  Testis  Thyroid  Uterus  Vagina  Whole Blood  \\\n",
       "0          2        7       6       12      41      20            0   \n",
       "1         11        7      21       18      32      25            0   \n",
       "2          1       26      43       30      35      33            0   \n",
       "3         12       11      37       40      49      35            2   \n",
       "4         46       25      32       35      15      45           39   \n",
       "...      ...      ...     ...      ...     ...     ...          ...   \n",
       "2155      25       20      18       50      44      34            0   \n",
       "2156      35       15      38       39      50      33            9   \n",
       "2157       0        0       0        0       0       0            0   \n",
       "2158      15       22      23       11       0       0            0   \n",
       "2159      32        6      41       50      49      43            2   \n",
       "\n",
       "      gtex_similarity  blastp_similarity  gene_interactions  \n",
       "0                   0                  0                  1  \n",
       "1                   0                  0                  1  \n",
       "2                   3                  0                  1  \n",
       "3                   0                  1                  0  \n",
       "4                   0                  0                  0  \n",
       "...               ...                ...                ...  \n",
       "2155                0                  0                  0  \n",
       "2156                0                  0                  0  \n",
       "2157                0                  0                  0  \n",
       "2158                0                  0                  0  \n",
       "2159                0                  1                  2  \n",
       "\n",
       "[2160 rows x 114 columns]"
      ]
     },
     "execution_count": 56,
     "metadata": {},
     "output_type": "execute_result"
    }
   ],
   "source": [
    "gtex_frames"
   ]
  },
  {
   "cell_type": "code",
   "execution_count": 2,
   "metadata": {},
   "outputs": [],
   "source": [
    "import pandas as pd\n",
    "import glob\n",
    "import os\n",
    "\n",
    "from InputProcessingClasses import *\n",
    "from InputProcessingFunctions import *\n",
    "from MLAutomationFunctions import *"
   ]
  },
  {
   "cell_type": "code",
   "execution_count": 3,
   "metadata": {},
   "outputs": [
    {
     "name": "stdout",
     "output_type": "stream",
     "text": [
      "/home/nikita/Documents/work/git_projects/GPrior/scz/5_scz_output.tsv\n",
      "/home/nikita/Documents/work/git_projects/GPrior/scz/3_scz_output.tsv\n",
      "/home/nikita/Documents/work/git_projects/GPrior/scz/2_scz_output.tsv\n",
      "/home/nikita/Documents/work/git_projects/GPrior/scz/1_scz_output.tsv\n",
      "/home/nikita/Documents/work/git_projects/GPrior/scz/6_scz_output.tsv\n",
      "/home/nikita/Documents/work/git_projects/GPrior/scz/4_scz_output.tsv\n",
      "/home/nikita/Documents/work/git_projects/GPrior/scz/7_scz_output.tsv\n",
      "/home/nikita/Documents/work/git_projects/GPrior/scz/8_scz_output.tsv\n"
     ]
    }
   ],
   "source": [
    "path = r'/home/nikita/Documents/work/git_projects/GPrior/scz/' # use your path\n",
    "all_files = glob.glob(os.path.join(path, \"*.tsv\"))\n",
    "\n",
    "li = []\n",
    "\n",
    "for filename in all_files:\n",
    "    df = pd.read_csv(filename, sep='\\t')\n",
    "    li.append(df)\n",
    "    print(filename)\n",
    "\n",
    "#frame = pd.concat(li, axis=0, ignore_index=True)"
   ]
  },
  {
   "cell_type": "code",
   "execution_count": 4,
   "metadata": {},
   "outputs": [],
   "source": [
    "frame = pd.concat(li, axis=0, ignore_index=True)"
   ]
  },
  {
   "cell_type": "code",
   "execution_count": 6,
   "metadata": {},
   "outputs": [],
   "source": [
    "new_frame = combine_duplicates(frame)"
   ]
  },
  {
   "cell_type": "code",
   "execution_count": 7,
   "metadata": {},
   "outputs": [
    {
     "data": {
      "text/html": [
       "<div>\n",
       "<style scoped>\n",
       "    .dataframe tbody tr th:only-of-type {\n",
       "        vertical-align: middle;\n",
       "    }\n",
       "\n",
       "    .dataframe tbody tr th {\n",
       "        vertical-align: top;\n",
       "    }\n",
       "\n",
       "    .dataframe thead th {\n",
       "        text-align: right;\n",
       "    }\n",
       "</style>\n",
       "<table border=\"1\" class=\"dataframe\">\n",
       "  <thead>\n",
       "    <tr style=\"text-align: right;\">\n",
       "      <th></th>\n",
       "      <th>gene_symbol</th>\n",
       "      <th>Adipose - Subcutaneous</th>\n",
       "      <th>Adipose - Visceral (Omentum)</th>\n",
       "      <th>Adrenal Gland</th>\n",
       "      <th>Artery - Aorta</th>\n",
       "      <th>Artery - Coronary</th>\n",
       "      <th>Artery - Tibial</th>\n",
       "      <th>Bladder</th>\n",
       "      <th>Brain - Amygdala</th>\n",
       "      <th>Brain - Anterior cingulate cortex (BA24)</th>\n",
       "      <th>...</th>\n",
       "      <th>VEP_reg</th>\n",
       "      <th>Vagina</th>\n",
       "      <th>Whole Blood</th>\n",
       "      <th>blastp_similarity</th>\n",
       "      <th>gene_interactions</th>\n",
       "      <th>gtex_similarity</th>\n",
       "      <th>rank</th>\n",
       "      <th>score</th>\n",
       "      <th>vep_mean</th>\n",
       "      <th>vep_sum</th>\n",
       "    </tr>\n",
       "  </thead>\n",
       "  <tbody>\n",
       "    <tr>\n",
       "      <td>0</td>\n",
       "      <td>HIST1H4H</td>\n",
       "      <td>9.0</td>\n",
       "      <td>25.0</td>\n",
       "      <td>22.0</td>\n",
       "      <td>37.0</td>\n",
       "      <td>42.0</td>\n",
       "      <td>46.0</td>\n",
       "      <td>33.0</td>\n",
       "      <td>15.0</td>\n",
       "      <td>16.0</td>\n",
       "      <td>...</td>\n",
       "      <td>0.287548</td>\n",
       "      <td>32.0</td>\n",
       "      <td>49.0</td>\n",
       "      <td>0.0</td>\n",
       "      <td>0.0</td>\n",
       "      <td>0.0</td>\n",
       "      <td>31.231260</td>\n",
       "      <td>0.416400</td>\n",
       "      <td>0.000013</td>\n",
       "      <td>0.000025</td>\n",
       "    </tr>\n",
       "    <tr>\n",
       "      <td>1</td>\n",
       "      <td>PCDHA11</td>\n",
       "      <td>10.0</td>\n",
       "      <td>23.0</td>\n",
       "      <td>18.0</td>\n",
       "      <td>0.0</td>\n",
       "      <td>12.0</td>\n",
       "      <td>0.0</td>\n",
       "      <td>13.0</td>\n",
       "      <td>29.0</td>\n",
       "      <td>40.0</td>\n",
       "      <td>...</td>\n",
       "      <td>0.191630</td>\n",
       "      <td>4.0</td>\n",
       "      <td>0.0</td>\n",
       "      <td>0.0</td>\n",
       "      <td>0.0</td>\n",
       "      <td>0.0</td>\n",
       "      <td>17.121145</td>\n",
       "      <td>1.000353</td>\n",
       "      <td>0.000000</td>\n",
       "      <td>0.000000</td>\n",
       "    </tr>\n",
       "    <tr>\n",
       "      <td>2</td>\n",
       "      <td>PTPN1</td>\n",
       "      <td>31.0</td>\n",
       "      <td>25.0</td>\n",
       "      <td>24.0</td>\n",
       "      <td>49.0</td>\n",
       "      <td>43.0</td>\n",
       "      <td>48.0</td>\n",
       "      <td>37.0</td>\n",
       "      <td>0.0</td>\n",
       "      <td>3.0</td>\n",
       "      <td>...</td>\n",
       "      <td>0.133333</td>\n",
       "      <td>38.0</td>\n",
       "      <td>35.0</td>\n",
       "      <td>0.0</td>\n",
       "      <td>1.0</td>\n",
       "      <td>0.0</td>\n",
       "      <td>4.800000</td>\n",
       "      <td>0.993352</td>\n",
       "      <td>0.000000</td>\n",
       "      <td>0.000000</td>\n",
       "    </tr>\n",
       "    <tr>\n",
       "      <td>3</td>\n",
       "      <td>SYCE3</td>\n",
       "      <td>14.0</td>\n",
       "      <td>17.0</td>\n",
       "      <td>28.0</td>\n",
       "      <td>0.0</td>\n",
       "      <td>0.0</td>\n",
       "      <td>0.0</td>\n",
       "      <td>0.0</td>\n",
       "      <td>36.0</td>\n",
       "      <td>33.0</td>\n",
       "      <td>...</td>\n",
       "      <td>0.298754</td>\n",
       "      <td>11.0</td>\n",
       "      <td>13.0</td>\n",
       "      <td>0.0</td>\n",
       "      <td>0.0</td>\n",
       "      <td>0.0</td>\n",
       "      <td>18.069648</td>\n",
       "      <td>0.989382</td>\n",
       "      <td>0.000000</td>\n",
       "      <td>0.000000</td>\n",
       "    </tr>\n",
       "    <tr>\n",
       "      <td>4</td>\n",
       "      <td>C1orf100</td>\n",
       "      <td>6.0</td>\n",
       "      <td>10.0</td>\n",
       "      <td>13.0</td>\n",
       "      <td>12.0</td>\n",
       "      <td>28.0</td>\n",
       "      <td>8.0</td>\n",
       "      <td>42.0</td>\n",
       "      <td>18.0</td>\n",
       "      <td>25.0</td>\n",
       "      <td>...</td>\n",
       "      <td>0.471616</td>\n",
       "      <td>14.0</td>\n",
       "      <td>11.0</td>\n",
       "      <td>0.0</td>\n",
       "      <td>0.0</td>\n",
       "      <td>0.0</td>\n",
       "      <td>12.772926</td>\n",
       "      <td>0.008753</td>\n",
       "      <td>0.000000</td>\n",
       "      <td>0.000000</td>\n",
       "    </tr>\n",
       "    <tr>\n",
       "      <td>...</td>\n",
       "      <td>...</td>\n",
       "      <td>...</td>\n",
       "      <td>...</td>\n",
       "      <td>...</td>\n",
       "      <td>...</td>\n",
       "      <td>...</td>\n",
       "      <td>...</td>\n",
       "      <td>...</td>\n",
       "      <td>...</td>\n",
       "      <td>...</td>\n",
       "      <td>...</td>\n",
       "      <td>...</td>\n",
       "      <td>...</td>\n",
       "      <td>...</td>\n",
       "      <td>...</td>\n",
       "      <td>...</td>\n",
       "      <td>...</td>\n",
       "      <td>...</td>\n",
       "      <td>...</td>\n",
       "      <td>...</td>\n",
       "      <td>...</td>\n",
       "    </tr>\n",
       "    <tr>\n",
       "      <td>3214</td>\n",
       "      <td>CPPED1</td>\n",
       "      <td>39.0</td>\n",
       "      <td>23.0</td>\n",
       "      <td>33.0</td>\n",
       "      <td>49.0</td>\n",
       "      <td>43.0</td>\n",
       "      <td>36.0</td>\n",
       "      <td>37.0</td>\n",
       "      <td>6.0</td>\n",
       "      <td>7.0</td>\n",
       "      <td>...</td>\n",
       "      <td>0.008867</td>\n",
       "      <td>35.0</td>\n",
       "      <td>52.0</td>\n",
       "      <td>0.0</td>\n",
       "      <td>0.0</td>\n",
       "      <td>0.0</td>\n",
       "      <td>3.727094</td>\n",
       "      <td>0.984177</td>\n",
       "      <td>0.000000</td>\n",
       "      <td>0.000000</td>\n",
       "    </tr>\n",
       "    <tr>\n",
       "      <td>3215</td>\n",
       "      <td>FAM103A1</td>\n",
       "      <td>22.0</td>\n",
       "      <td>16.0</td>\n",
       "      <td>24.0</td>\n",
       "      <td>32.0</td>\n",
       "      <td>28.0</td>\n",
       "      <td>37.0</td>\n",
       "      <td>39.0</td>\n",
       "      <td>4.0</td>\n",
       "      <td>14.0</td>\n",
       "      <td>...</td>\n",
       "      <td>0.102472</td>\n",
       "      <td>46.0</td>\n",
       "      <td>8.0</td>\n",
       "      <td>0.0</td>\n",
       "      <td>0.0</td>\n",
       "      <td>0.0</td>\n",
       "      <td>4.905589</td>\n",
       "      <td>0.940294</td>\n",
       "      <td>0.000000</td>\n",
       "      <td>0.000000</td>\n",
       "    </tr>\n",
       "    <tr>\n",
       "      <td>3216</td>\n",
       "      <td>DOC2A</td>\n",
       "      <td>8.0</td>\n",
       "      <td>27.0</td>\n",
       "      <td>32.0</td>\n",
       "      <td>13.0</td>\n",
       "      <td>15.0</td>\n",
       "      <td>3.0</td>\n",
       "      <td>14.0</td>\n",
       "      <td>45.0</td>\n",
       "      <td>47.0</td>\n",
       "      <td>...</td>\n",
       "      <td>0.274070</td>\n",
       "      <td>25.0</td>\n",
       "      <td>1.0</td>\n",
       "      <td>1.0</td>\n",
       "      <td>0.0</td>\n",
       "      <td>2.0</td>\n",
       "      <td>7.912187</td>\n",
       "      <td>1.297149</td>\n",
       "      <td>0.200944</td>\n",
       "      <td>3.023430</td>\n",
       "    </tr>\n",
       "    <tr>\n",
       "      <td>3217</td>\n",
       "      <td>HRH1</td>\n",
       "      <td>45.0</td>\n",
       "      <td>40.0</td>\n",
       "      <td>9.0</td>\n",
       "      <td>52.0</td>\n",
       "      <td>47.0</td>\n",
       "      <td>49.0</td>\n",
       "      <td>38.0</td>\n",
       "      <td>25.0</td>\n",
       "      <td>35.0</td>\n",
       "      <td>...</td>\n",
       "      <td>0.500000</td>\n",
       "      <td>44.0</td>\n",
       "      <td>1.0</td>\n",
       "      <td>1.0</td>\n",
       "      <td>0.0</td>\n",
       "      <td>0.0</td>\n",
       "      <td>17.125000</td>\n",
       "      <td>0.970432</td>\n",
       "      <td>0.000000</td>\n",
       "      <td>0.000000</td>\n",
       "    </tr>\n",
       "    <tr>\n",
       "      <td>3218</td>\n",
       "      <td>PDP2</td>\n",
       "      <td>45.0</td>\n",
       "      <td>41.0</td>\n",
       "      <td>28.0</td>\n",
       "      <td>29.0</td>\n",
       "      <td>38.0</td>\n",
       "      <td>27.0</td>\n",
       "      <td>36.0</td>\n",
       "      <td>6.0</td>\n",
       "      <td>18.0</td>\n",
       "      <td>...</td>\n",
       "      <td>0.181818</td>\n",
       "      <td>31.0</td>\n",
       "      <td>0.0</td>\n",
       "      <td>0.0</td>\n",
       "      <td>0.0</td>\n",
       "      <td>0.0</td>\n",
       "      <td>58.948052</td>\n",
       "      <td>0.944761</td>\n",
       "      <td>0.000000</td>\n",
       "      <td>0.000000</td>\n",
       "    </tr>\n",
       "  </tbody>\n",
       "</table>\n",
       "<p>3219 rows × 114 columns</p>\n",
       "</div>"
      ],
      "text/plain": [
       "     gene_symbol  Adipose - Subcutaneous  Adipose - Visceral (Omentum)  \\\n",
       "0       HIST1H4H                     9.0                          25.0   \n",
       "1        PCDHA11                    10.0                          23.0   \n",
       "2          PTPN1                    31.0                          25.0   \n",
       "3          SYCE3                    14.0                          17.0   \n",
       "4       C1orf100                     6.0                          10.0   \n",
       "...          ...                     ...                           ...   \n",
       "3214      CPPED1                    39.0                          23.0   \n",
       "3215    FAM103A1                    22.0                          16.0   \n",
       "3216       DOC2A                     8.0                          27.0   \n",
       "3217        HRH1                    45.0                          40.0   \n",
       "3218        PDP2                    45.0                          41.0   \n",
       "\n",
       "      Adrenal Gland  Artery - Aorta  Artery - Coronary  Artery - Tibial  \\\n",
       "0              22.0            37.0               42.0             46.0   \n",
       "1              18.0             0.0               12.0              0.0   \n",
       "2              24.0            49.0               43.0             48.0   \n",
       "3              28.0             0.0                0.0              0.0   \n",
       "4              13.0            12.0               28.0              8.0   \n",
       "...             ...             ...                ...              ...   \n",
       "3214           33.0            49.0               43.0             36.0   \n",
       "3215           24.0            32.0               28.0             37.0   \n",
       "3216           32.0            13.0               15.0              3.0   \n",
       "3217            9.0            52.0               47.0             49.0   \n",
       "3218           28.0            29.0               38.0             27.0   \n",
       "\n",
       "      Bladder  Brain - Amygdala  Brain - Anterior cingulate cortex (BA24)  \\\n",
       "0        33.0              15.0                                      16.0   \n",
       "1        13.0              29.0                                      40.0   \n",
       "2        37.0               0.0                                       3.0   \n",
       "3         0.0              36.0                                      33.0   \n",
       "4        42.0              18.0                                      25.0   \n",
       "...       ...               ...                                       ...   \n",
       "3214     37.0               6.0                                       7.0   \n",
       "3215     39.0               4.0                                      14.0   \n",
       "3216     14.0              45.0                                      47.0   \n",
       "3217     38.0              25.0                                      35.0   \n",
       "3218     36.0               6.0                                      18.0   \n",
       "\n",
       "      ...   VEP_reg  Vagina  Whole Blood  blastp_similarity  \\\n",
       "0     ...  0.287548    32.0         49.0                0.0   \n",
       "1     ...  0.191630     4.0          0.0                0.0   \n",
       "2     ...  0.133333    38.0         35.0                0.0   \n",
       "3     ...  0.298754    11.0         13.0                0.0   \n",
       "4     ...  0.471616    14.0         11.0                0.0   \n",
       "...   ...       ...     ...          ...                ...   \n",
       "3214  ...  0.008867    35.0         52.0                0.0   \n",
       "3215  ...  0.102472    46.0          8.0                0.0   \n",
       "3216  ...  0.274070    25.0          1.0                1.0   \n",
       "3217  ...  0.500000    44.0          1.0                1.0   \n",
       "3218  ...  0.181818    31.0          0.0                0.0   \n",
       "\n",
       "      gene_interactions  gtex_similarity       rank     score  vep_mean  \\\n",
       "0                   0.0              0.0  31.231260  0.416400  0.000013   \n",
       "1                   0.0              0.0  17.121145  1.000353  0.000000   \n",
       "2                   1.0              0.0   4.800000  0.993352  0.000000   \n",
       "3                   0.0              0.0  18.069648  0.989382  0.000000   \n",
       "4                   0.0              0.0  12.772926  0.008753  0.000000   \n",
       "...                 ...              ...        ...       ...       ...   \n",
       "3214                0.0              0.0   3.727094  0.984177  0.000000   \n",
       "3215                0.0              0.0   4.905589  0.940294  0.000000   \n",
       "3216                0.0              2.0   7.912187  1.297149  0.200944   \n",
       "3217                0.0              0.0  17.125000  0.970432  0.000000   \n",
       "3218                0.0              0.0  58.948052  0.944761  0.000000   \n",
       "\n",
       "       vep_sum  \n",
       "0     0.000025  \n",
       "1     0.000000  \n",
       "2     0.000000  \n",
       "3     0.000000  \n",
       "4     0.000000  \n",
       "...        ...  \n",
       "3214  0.000000  \n",
       "3215  0.000000  \n",
       "3216  3.023430  \n",
       "3217  0.000000  \n",
       "3218  0.000000  \n",
       "\n",
       "[3219 rows x 114 columns]"
      ]
     },
     "execution_count": 7,
     "metadata": {},
     "output_type": "execute_result"
    }
   ],
   "source": [
    "new_frame"
   ]
  },
  {
   "cell_type": "code",
   "execution_count": 8,
   "metadata": {},
   "outputs": [],
   "source": [
    "new_frame.to_csv('combined_scz.tsv', sep='\\t', index=False)"
   ]
  },
  {
   "cell_type": "code",
   "execution_count": null,
   "metadata": {},
   "outputs": [],
   "source": []
  },
  {
   "cell_type": "code",
   "execution_count": null,
   "metadata": {},
   "outputs": [],
   "source": []
  },
  {
   "cell_type": "markdown",
   "metadata": {},
   "source": [
    "# Stacking"
   ]
  },
  {
   "cell_type": "code",
   "execution_count": 62,
   "metadata": {},
   "outputs": [],
   "source": [
    "from heamy.estimator import Classifier\n",
    "from heamy.pipeline import ModelsPipeline\n",
    "from sklearn import preprocessing"
   ]
  },
  {
   "cell_type": "code",
   "execution_count": 63,
   "metadata": {},
   "outputs": [],
   "source": [
    "scaler = preprocessing.RobustScaler()"
   ]
  },
  {
   "cell_type": "code",
   "execution_count": 64,
   "metadata": {},
   "outputs": [],
   "source": [
    "new_x = pd.DataFrame(scaler.fit_transform(x))"
   ]
  },
  {
   "cell_type": "code",
   "execution_count": 65,
   "metadata": {},
   "outputs": [],
   "source": [
    "X_train, X_test, y_train, y_test =  train_test_split(new_x, y, \n",
    "                                                     test_size=0.3)"
   ]
  },
  {
   "cell_type": "code",
   "execution_count": 31,
   "metadata": {},
   "outputs": [],
   "source": [
    "svc = SVC(probability=True, class_weight={1:1, 0:100})\n",
    "rf = RandomForestClassifier()\n",
    "lr = LogisticRegression(class_weight={1:1, 0:100})"
   ]
  },
  {
   "cell_type": "code",
   "execution_count": 32,
   "metadata": {},
   "outputs": [
    {
     "name": "stdout",
     "output_type": "stream",
     "text": [
      "Best Parameters using grid search: \n",
      " {'criterion': 'gini', 'max_depth': 15, 'max_features': 'sqrt'}\n"
     ]
    },
    {
     "name": "stderr",
     "output_type": "stream",
     "text": [
      "/usr/local/lib/python3.6/dist-packages/sklearn/ensemble/forest.py:246: FutureWarning: The default value of n_estimators will change from 10 in version 0.20 to 100 in 0.22.\n",
      "  \"10 in version 0.20 to 100 in 0.22.\", FutureWarning)\n"
     ]
    },
    {
     "data": {
      "text/plain": [
       "RandomForestClassifier(bootstrap=True, class_weight={1: 1, 0: 100},\n",
       "            criterion='gini', max_depth=15, max_features='sqrt',\n",
       "            max_leaf_nodes=None, min_impurity_decrease=0.0,\n",
       "            min_impurity_split=None, min_samples_leaf=1,\n",
       "            min_samples_split=2, min_weight_fraction_leaf=0.0,\n",
       "            n_estimators=700, n_jobs=None, oob_score=False,\n",
       "            random_state=None, verbose=0, warm_start=False)"
      ]
     },
     "execution_count": 32,
     "metadata": {},
     "output_type": "execute_result"
    }
   ],
   "source": [
    "parameters_rf = best_parameters(rf, X_train, y_train, PARAM_DIST_RF)\n",
    "rf.set_params(bootstrap = True,\n",
    "              criterion = parameters_rf['criterion'],\n",
    "              max_depth = parameters_rf['max_depth'],\n",
    "              max_features = parameters_rf['max_features'],\n",
    "              min_samples_leaf = 1,\n",
    "              min_samples_split = 2,\n",
    "              n_estimators=700,\n",
    "              class_weight={1:1, 0:100})"
   ]
  },
  {
   "cell_type": "code",
   "execution_count": 33,
   "metadata": {},
   "outputs": [],
   "source": [
    "parameters_rf = {'criterion': 'gini',\n",
    "                 'max_depth': 15,\n",
    "                 'max_features': 'sqrt',\n",
    "                 'bootstrap' : True,\n",
    "                 'min_samples_leaf' : 1,\n",
    "                  'min_samples_split' : 2,\n",
    "                  'n_estimators':700,\n",
    "                  'class_weight':{1:1, 0:100}}"
   ]
  },
  {
   "cell_type": "code",
   "execution_count": 34,
   "metadata": {},
   "outputs": [
    {
     "name": "stdout",
     "output_type": "stream",
     "text": [
      "Best Parameters using grid search: \n",
      " {'C': 0.46415888336127775, 'penalty': 'l2'}\n"
     ]
    },
    {
     "name": "stderr",
     "output_type": "stream",
     "text": [
      "/usr/local/lib/python3.6/dist-packages/sklearn/linear_model/logistic.py:433: FutureWarning: Default solver will be changed to 'lbfgs' in 0.22. Specify a solver to silence this warning.\n",
      "  FutureWarning)\n"
     ]
    },
    {
     "data": {
      "text/plain": [
       "LogisticRegression(C=0.46415888336127775, class_weight={1: 1, 0: 100},\n",
       "          dual=False, fit_intercept=True, intercept_scaling=1,\n",
       "          max_iter=100, multi_class='warn', n_jobs=None, penalty='l2',\n",
       "          random_state=None, solver='warn', tol=0.0001, verbose=0,\n",
       "          warm_start=False)"
      ]
     },
     "execution_count": 34,
     "metadata": {},
     "output_type": "execute_result"
    }
   ],
   "source": [
    "parameters_lr = best_parameters(lr, X_train, y_train, PARAM_DIST_LR)\n",
    "lr.set_params(C = parameters_lr['C'],\n",
    "              penalty = parameters_lr['penalty'])"
   ]
  },
  {
   "cell_type": "code",
   "execution_count": 35,
   "metadata": {},
   "outputs": [],
   "source": [
    "parameters_lr = {'C': 0.46415888336127775, 'penalty': 'l2', 'class_weight':{1:1, 0:100}}"
   ]
  },
  {
   "cell_type": "code",
   "execution_count": 11,
   "metadata": {},
   "outputs": [
    {
     "data": {
      "text/plain": [
       "50.0"
      ]
     },
     "execution_count": 11,
     "metadata": {},
     "output_type": "execute_result"
    }
   ],
   "source": [
    "0.5/0.01"
   ]
  },
  {
   "cell_type": "code",
   "execution_count": 36,
   "metadata": {},
   "outputs": [
    {
     "name": "stdout",
     "output_type": "stream",
     "text": [
      "Best Parameters using grid search: \n",
      " {'C': 10, 'gamma': 0.001, 'kernel': 'rbf'}\n"
     ]
    },
    {
     "data": {
      "text/plain": [
       "SVC(C=10, cache_size=200, class_weight={1: 1, 0: 100}, coef0=0.0,\n",
       "  decision_function_shape='ovr', degree=3, gamma=0.001, kernel='rbf',\n",
       "  max_iter=-1, probability=True, random_state=None, shrinking=True,\n",
       "  tol=0.001, verbose=False)"
      ]
     },
     "execution_count": 36,
     "metadata": {},
     "output_type": "execute_result"
    }
   ],
   "source": [
    "parameters_svc = best_parameters(svc, X_train, y_train, PARAM_DIST_SVC)\n",
    "svc.set_params(C=parameters_svc['C'],\n",
    "                gamma=parameters_svc['gamma'],\n",
    "                kernel=parameters_svc['kernel'])"
   ]
  },
  {
   "cell_type": "code",
   "execution_count": 37,
   "metadata": {},
   "outputs": [],
   "source": [
    "parameters_svc = {'C':10, 'gamma':0.001, 'kernel':'rbf', 'class_weight':{1:1, 0:100}, 'probability':True}"
   ]
  },
  {
   "cell_type": "code",
   "execution_count": 67,
   "metadata": {},
   "outputs": [],
   "source": [
    "dataset = Dataset(X_train,y_train,X_test)"
   ]
  },
  {
   "cell_type": "code",
   "execution_count": 68,
   "metadata": {},
   "outputs": [],
   "source": [
    "model_rf = Classifier(dataset=dataset, estimator=RandomForestClassifier, parameters=parameters_rf,name='rf')\n",
    "model_lr = Classifier(dataset=dataset, estimator=LogisticRegression, parameters=parameters_lr,name='lr')\n",
    "model_svc = Classifier(dataset=dataset, estimator=SVC, parameters=parameters_svc,name='svc')"
   ]
  },
  {
   "cell_type": "code",
   "execution_count": 69,
   "metadata": {
    "scrolled": true
   },
   "outputs": [
    {
     "name": "stderr",
     "output_type": "stream",
     "text": [
      "/usr/local/lib/python3.6/dist-packages/sklearn/linear_model/logistic.py:433: FutureWarning: Default solver will be changed to 'lbfgs' in 0.22. Specify a solver to silence this warning.\n",
      "  FutureWarning)\n"
     ]
    },
    {
     "name": "stdout",
     "output_type": "stream",
     "text": [
      "Best Score (mean_absolute_error): 0.020004151284636743\n",
      "Best Weights: [6.65024596e-16 1.00000000e+00 1.13797860e-15]\n"
     ]
    }
   ],
   "source": [
    "from sklearn.metrics import mean_absolute_error\n",
    "\n",
    "pipeline = ModelsPipeline(model_rf,model_lr,model_svc)\n",
    "\n",
    "weights = pipeline.find_weights(mean_absolute_error)\n",
    "result = pipeline.weight(weights)"
   ]
  },
  {
   "cell_type": "code",
   "execution_count": 79,
   "metadata": {},
   "outputs": [
    {
     "data": {
      "text/plain": [
       "5.9187189044e-16"
      ]
     },
     "execution_count": 79,
     "metadata": {},
     "output_type": "execute_result"
    }
   ],
   "source": []
  },
  {
   "cell_type": "code",
   "execution_count": 72,
   "metadata": {},
   "outputs": [
    {
     "name": "stderr",
     "output_type": "stream",
     "text": [
      "/usr/local/lib/python3.6/dist-packages/sklearn/linear_model/logistic.py:433: FutureWarning: Default solver will be changed to 'lbfgs' in 0.22. Specify a solver to silence this warning.\n",
      "  FutureWarning)\n",
      "/usr/local/lib/python3.6/dist-packages/sklearn/linear_model/logistic.py:433: FutureWarning: Default solver will be changed to 'lbfgs' in 0.22. Specify a solver to silence this warning.\n",
      "  FutureWarning)\n",
      "/usr/local/lib/python3.6/dist-packages/sklearn/linear_model/logistic.py:433: FutureWarning: Default solver will be changed to 'lbfgs' in 0.22. Specify a solver to silence this warning.\n",
      "  FutureWarning)\n",
      "/usr/local/lib/python3.6/dist-packages/sklearn/linear_model/logistic.py:433: FutureWarning: Default solver will be changed to 'lbfgs' in 0.22. Specify a solver to silence this warning.\n",
      "  FutureWarning)\n",
      "/usr/local/lib/python3.6/dist-packages/sklearn/linear_model/logistic.py:433: FutureWarning: Default solver will be changed to 'lbfgs' in 0.22. Specify a solver to silence this warning.\n",
      "  FutureWarning)\n",
      "/usr/local/lib/python3.6/dist-packages/sklearn/linear_model/logistic.py:433: FutureWarning: Default solver will be changed to 'lbfgs' in 0.22. Specify a solver to silence this warning.\n",
      "  FutureWarning)\n",
      "/usr/local/lib/python3.6/dist-packages/sklearn/ensemble/forest.py:246: FutureWarning: The default value of n_estimators will change from 10 in version 0.20 to 100 in 0.22.\n",
      "  \"10 in version 0.20 to 100 in 0.22.\", FutureWarning)\n"
     ]
    }
   ],
   "source": [
    "stack_ds = pipeline.stack(k=5,seed=111)# Train LinearRegression on stacked data (second stage)\n",
    "stacker = Classifier(dataset=stack_ds, estimator=RandomForestClassifier)\n",
    "results = stacker.predict()"
   ]
  },
  {
   "cell_type": "code",
   "execution_count": 74,
   "metadata": {},
   "outputs": [
    {
     "data": {
      "text/plain": [
       "906"
      ]
     },
     "execution_count": 74,
     "metadata": {},
     "output_type": "execute_result"
    }
   ],
   "source": [
    "len(results)"
   ]
  },
  {
   "cell_type": "code",
   "execution_count": 75,
   "metadata": {},
   "outputs": [
    {
     "data": {
      "text/plain": [
       "906"
      ]
     },
     "execution_count": 75,
     "metadata": {},
     "output_type": "execute_result"
    }
   ],
   "source": [
    "len(y_test)"
   ]
  },
  {
   "cell_type": "markdown",
   "metadata": {},
   "source": [
    "# XGB tuning"
   ]
  },
  {
   "cell_type": "code",
   "execution_count": null,
   "metadata": {},
   "outputs": [],
   "source": [
    "def best_parameters_xgb(model, new_X_train, new_y_train, X_test, y_test, param_dist):\n",
    "    cv_rf = GridSearchCV(model, cv = 5,\n",
    "                     param_grid=param_dist, \n",
    "                     n_jobs = 3,\n",
    "                     scoring='neg_log_loss')\n",
    "    cv_rf.fit(new_X_train, new_y_train, eval_metric='logloss', verbose=True,\n",
    "            eval_set=[(new_X_train, new_y_train),(X_test, y_test)], early_stopping_rounds=100)\n",
    "    print('Best Parameters using grid search: \\n', \n",
    "      cv_rf.best_params_)\n",
    "    return cv_rf.best_params_\n"
   ]
  },
  {
   "cell_type": "code",
   "execution_count": 7,
   "metadata": {},
   "outputs": [],
   "source": [
    "PARAM_DIST_XGB = {'eta': [0.05, 0.1, 0.3],\n",
    "                 'max_depth': [6, 9, 12],\n",
    "                 'gamma':[1,0.1,0.001],\n",
    "                 'min_child_weight': [1, 2, 5],\n",
    "                 'num_boost_round': [100, 250, 500],\n",
    "                 'subsample': [0.9, 1.0],\n",
    "                 'colsample_bytree': [0.9, 1.0],\n",
    "                 'colsample_bylevel': [0.9, 1.0]}"
   ]
  },
  {
   "cell_type": "code",
   "execution_count": 9,
   "metadata": {},
   "outputs": [],
   "source": [
    "xgb = XGBClassifier(learning_rate=0.1, n_estimators=600, objective='binary:logistic',\n",
    "                    silent=True, nthread=1, eval_metric = 'auc', class_weight={1:1, 0:100})"
   ]
  },
  {
   "cell_type": "code",
   "execution_count": null,
   "metadata": {},
   "outputs": [],
   "source": [
    "parameters_xgb = best_parameters_xgb(xgb, xgb_X_train, new_y_train, X_test, y_test, PARAM_DIST_XGB)"
   ]
  },
  {
   "cell_type": "markdown",
   "metadata": {},
   "source": [
    "# SCZ/BD comparison"
   ]
  },
  {
   "cell_type": "code",
   "execution_count": 91,
   "metadata": {},
   "outputs": [],
   "source": [
    "scz = pd.read_csv('/home/nikita/Desktop/pathways/data/mean_results_scz.tsv', sep='\\t')\n",
    "bd = pd.read_csv('/home/nikita/Desktop/pathways/data/mean_results_bd.tsv', sep='\\t')"
   ]
  },
  {
   "cell_type": "code",
   "execution_count": 114,
   "metadata": {},
   "outputs": [
    {
     "data": {
      "text/plain": [
       "490"
      ]
     },
     "execution_count": 114,
     "metadata": {},
     "output_type": "execute_result"
    },
    {
     "data": {
      "text/plain": [
       "53"
      ]
     },
     "execution_count": 114,
     "metadata": {},
     "output_type": "execute_result"
    },
    {
     "data": {
      "text/plain": [
       "438"
      ]
     },
     "execution_count": 114,
     "metadata": {},
     "output_type": "execute_result"
    }
   ],
   "source": [
    "len(set(bd['gene_symbol']) & set(scz['gene_symbol']))\n",
    "len(set(scz['gene_symbol'].loc[:490,]) & set(bd['gene_symbol'].loc[:490,]))\n",
    "len(set(bd['gene_symbol'].loc[:490,]) - set(scz['gene_symbol'].loc[:490,]))"
   ]
  },
  {
   "cell_type": "code",
   "execution_count": 105,
   "metadata": {},
   "outputs": [
    {
     "name": "stdout",
     "output_type": "stream",
     "text": [
      "GRIN2A\n",
      "CACNA1C\n",
      "SRPK2\n",
      "PLEKHO1\n",
      "DCLK3\n",
      "TRANK1\n",
      "CDH11\n",
      "ANKRD23\n",
      "LRRN3\n",
      "MRPL33\n",
      "IGSF9B\n",
      "DCP1B\n",
      "GRIA1\n",
      "EEF1A2\n"
     ]
    }
   ],
   "source": [
    "for i in bd['gene_symbol'][:150,]:\n",
    "    if i in scz['gene_symbol'][:150,].values:\n",
    "        print(i)"
   ]
  },
  {
   "cell_type": "code",
   "execution_count": 115,
   "metadata": {},
   "outputs": [
    {
     "data": {
      "text/plain": [
       "6"
      ]
     },
     "execution_count": 115,
     "metadata": {},
     "output_type": "execute_result"
    }
   ],
   "source": [
    "len(set(bd['gene_symbol'][:100]) & set(scz['gene_symbol'][:100]))"
   ]
  },
  {
   "cell_type": "code",
   "execution_count": 107,
   "metadata": {},
   "outputs": [
    {
     "data": {
      "text/plain": [
       "0       SCN2A\n",
       "1      STARD9\n",
       "2       ITIH1\n",
       "3       ADCY1\n",
       "4     FAM178B\n",
       "5       ADCY2\n",
       "6      PDE10A\n",
       "7       KMT2D\n",
       "8      GRIN2A\n",
       "9      LMAN2L\n",
       "10       MAU2\n",
       "11      ITIH3\n",
       "12       CD47\n",
       "13      RPRD2\n",
       "14       NCAN\n",
       "15      TENM4\n",
       "16    RPS6KA2\n",
       "17    CACNA1C\n",
       "18      SSBP2\n",
       "19     ANKS1B\n",
       "20      MCTP1\n",
       "Name: gene_symbol, dtype: object"
      ]
     },
     "execution_count": 107,
     "metadata": {},
     "output_type": "execute_result"
    }
   ],
   "source": [
    "bd['gene_symbol'][:21]"
   ]
  }
 ],
 "metadata": {
  "kernelspec": {
   "display_name": "Python 3",
   "language": "python",
   "name": "python3"
  },
  "language_info": {
   "codemirror_mode": {
    "name": "ipython",
    "version": 3
   },
   "file_extension": ".py",
   "mimetype": "text/x-python",
   "name": "python",
   "nbconvert_exporter": "python",
   "pygments_lexer": "ipython3",
   "version": "3.6.9"
  }
 },
 "nbformat": 4,
 "nbformat_minor": 4
}
