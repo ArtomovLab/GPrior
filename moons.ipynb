{
 "cells": [
  {
   "cell_type": "markdown",
   "metadata": {},
   "source": [
    "# Cancer experiment"
   ]
  },
  {
   "cell_type": "code",
   "execution_count": 1,
   "metadata": {},
   "outputs": [],
   "source": [
    "def wmean_qc_coef(wmean, threshold, extended_list, true_genes):\n",
    "    wmean_names = wmean['gene_symbol'].values\n",
    "    pred_y = np.array(wmean['Probability'].values >= threshold)\n",
    "    new_y = np.array(list(map(lambda gene: (gene in extended_list['gene_symbol'].values) & \\\n",
    "                        (gene not in true_genes['gene_symbol'].values), wmean_names))) #wmean_names\n",
    "    \n",
    "    if np.sum(pred_y) == 0:\n",
    "        return 0\n",
    "    Pr = np.sum(pred_y) / pred_y.size\n",
    "    TP = np.sum(new_y & pred_y) # TP\n",
    "    FN = np.sum(new_y) - TP # FN\n",
    "    recall = TP/(TP+FN)\n",
    "    coef = recall**2/Pr\n",
    "    norm_coef = coef * np.sum(new_y) / new_y.size\n",
    "    return coef # coef\n",
    "    \n",
    "def perform_qc(wmean, extended_list, true_genes):\n",
    "    threshold_range = wmean.Probability.values #[0.01, 0.1] + [i for i in range(1, 98)]\n",
    "    qc_range = [wmean_qc_coef(wmean, threshold, extended_list, true_genes) for threshold in threshold_range]\n",
    "    #print(qc_range)\n",
    "    optimal_thr = [threshold_range[i] for i, j in enumerate(qc_range) if j == max(qc_range)][0]\n",
    "    qc_coef = wmean_qc_coef(wmean, optimal_thr, extended_list, true_genes)\n",
    "    print('qc_coef:', qc_coef)\n",
    "    print('opt_threshols:', optimal_thr)\n",
    "    return qc_range"
   ]
  },
  {
   "cell_type": "code",
   "execution_count": 2,
   "metadata": {},
   "outputs": [],
   "source": [
    "from sklearn.cluster import FeatureAgglomeration\n",
    "from sklearn.preprocessing import RobustScaler\n",
    "import pandas as pd\n",
    "from ensemble import *"
   ]
  },
  {
   "cell_type": "code",
   "execution_count": 10,
   "metadata": {},
   "outputs": [
    {
     "data": {
      "text/plain": [
       "[4, 8, 13, 17, 21, 25, 30, 34, 38]"
      ]
     },
     "execution_count": 10,
     "metadata": {},
     "output_type": "execute_result"
    }
   ],
   "source": [
    "ntrain = [round(212*dob/100) for dob in range(2,20,2)]\n",
    "ntrain"
   ]
  },
  {
   "cell_type": "code",
   "execution_count": 6,
   "metadata": {},
   "outputs": [
    {
     "data": {
      "text/plain": [
       "2"
      ]
     },
     "execution_count": 6,
     "metadata": {},
     "output_type": "execute_result"
    }
   ],
   "source": [
    "y.sum()"
   ]
  },
  {
   "cell_type": "code",
   "execution_count": 12,
   "metadata": {},
   "outputs": [
    {
     "name": "stdout",
     "output_type": "stream",
     "text": [
      "NTR ==== 4\n"
     ]
    },
    {
     "data": {
      "text/plain": [
       "StandardScaler(copy=True, with_mean=True, with_std=True)"
      ]
     },
     "execution_count": 12,
     "metadata": {},
     "output_type": "execute_result"
    },
    {
     "name": "stdout",
     "output_type": "stream",
     "text": [
      "Logistic regression\t\n",
      "PU-score: 21.884615384615383\n",
      "\n",
      "Support Vector Machine\t\n",
      "PU-score: 1.2262931034482758\n",
      "\n",
      "ADABoosting\t\n",
      "PU-score: 94.83333333333333\n",
      "\n",
      "Random Forest\t\n",
      "PU-score: 40.642857142857146\n",
      "\n",
      "Decision Tree\t\n",
      "PU-score: 142.25\n",
      "\n",
      "Finding best combination\t\n",
      "Best combination is: ['Logistic regression' 'ADABoosting' 'Decision Tree']\n",
      "PU-score: 142.25\n",
      "qc_coef: 2.359581969182711\n",
      "opt_threshols: 29.1011257468666\n"
     ]
    },
    {
     "data": {
      "text/plain": [
       "StandardScaler(copy=True, with_mean=True, with_std=True)"
      ]
     },
     "execution_count": 12,
     "metadata": {},
     "output_type": "execute_result"
    },
    {
     "name": "stdout",
     "output_type": "stream",
     "text": [
      "Logistic regression\t\n",
      "PU-score: 7.586666666666667\n",
      "\n",
      "Support Vector Machine\t\n",
      "PU-score: 1.0053003533568905\n",
      "\n",
      "ADABoosting\t\n",
      "PU-score: 12.369565217391305\n",
      "\n",
      "Random Forest\t\n",
      "PU-score: 10.537037037037038\n",
      "\n",
      "Decision Tree\t\n",
      "PU-score: 10.735849056603774\n",
      "\n",
      "Finding best combination\t\n",
      "Best combination is: ['ADABoosting' 'Random Forest']\n",
      "PU-score: 12.931818181818182\n",
      "qc_coef: 2.267500721604849\n",
      "opt_threshols: 45.35169491525423\n"
     ]
    },
    {
     "data": {
      "text/plain": [
       "StandardScaler(copy=True, with_mean=True, with_std=True)"
      ]
     },
     "execution_count": 12,
     "metadata": {},
     "output_type": "execute_result"
    },
    {
     "name": "stdout",
     "output_type": "stream",
     "text": [
      "Logistic regression\t\n",
      "PU-score: 16.257142857142856\n",
      "\n",
      "Support Vector Machine\t\n",
      "PU-score: 1.7836990595611286\n",
      "\n",
      "ADABoosting\t\n",
      "PU-score: 17.78125\n",
      "\n",
      "Random Forest\t\n",
      "PU-score: 142.25\n",
      "\n",
      "Decision Tree\t\n",
      "PU-score: 47.416666666666664\n",
      "\n",
      "Finding best combination\t\n",
      "Best combination is: ['Random Forest']\n",
      "PU-score: 142.25\n",
      "qc_coef: 1.7678482351726983\n",
      "opt_threshols: 46.10169491525423\n"
     ]
    },
    {
     "data": {
      "text/plain": [
       "StandardScaler(copy=True, with_mean=True, with_std=True)"
      ]
     },
     "execution_count": 12,
     "metadata": {},
     "output_type": "execute_result"
    },
    {
     "name": "stdout",
     "output_type": "stream",
     "text": [
      "Logistic regression\t\n",
      "PU-score: 18.966666666666665\n",
      "\n",
      "Support Vector Machine\t\n",
      "PU-score: 1.6028169014084506\n",
      "\n",
      "ADABoosting\t\n",
      "PU-score: 47.416666666666664\n",
      "\n",
      "Random Forest\t\n",
      "PU-score: 35.5625\n",
      "\n",
      "Decision Tree\t\n",
      "PU-score: 81.28571428571429\n",
      "\n",
      "Finding best combination\t\n",
      "Best combination is: ['Logistic regression' 'Support Vector Machine' 'ADABoosting'\n",
      " 'Decision Tree']\n",
      "PU-score: 142.25\n",
      "qc_coef: 2.0499160309767728\n",
      "opt_threshols: 38.1662410576944\n"
     ]
    },
    {
     "data": {
      "text/plain": [
       "StandardScaler(copy=True, with_mean=True, with_std=True)"
      ]
     },
     "execution_count": 12,
     "metadata": {},
     "output_type": "execute_result"
    },
    {
     "name": "stdout",
     "output_type": "stream",
     "text": [
      "Logistic regression\t\n",
      "PU-score: 35.5625\n",
      "\n",
      "Support Vector Machine\t\n",
      "PU-score: 1.182952182952183\n",
      "\n",
      "ADABoosting\t\n",
      "PU-score: 47.416666666666664\n",
      "\n",
      "Random Forest\t\n",
      "PU-score: 284.5\n",
      "\n",
      "Decision Tree\t\n",
      "PU-score: 113.79999999999998\n",
      "\n",
      "Finding best combination\t\n",
      "Best combination is: ['Random Forest']\n",
      "PU-score: 284.5\n",
      "qc_coef: 2.117573931974964\n",
      "opt_threshols: 44.16666666666665\n"
     ]
    },
    {
     "data": {
      "text/plain": [
       "StandardScaler(copy=True, with_mean=True, with_std=True)"
      ]
     },
     "execution_count": 12,
     "metadata": {},
     "output_type": "execute_result"
    },
    {
     "name": "stdout",
     "output_type": "stream",
     "text": [
      "Logistic regression\t\n",
      "PU-score: 7.794520547945206\n",
      "\n",
      "Support Vector Machine\t\n",
      "PU-score: 1.6884272997032643\n",
      "\n",
      "ADABoosting\t\n",
      "PU-score: 8.128571428571428\n",
      "\n",
      "Random Forest\t\n",
      "PU-score: 14.58974358974359\n",
      "\n",
      "Decision Tree\t\n",
      "PU-score: 9.483333333333333\n",
      "\n",
      "Finding best combination\t\n",
      "Best combination is: ['Logistic regression' 'Support Vector Machine' 'Random Forest']\n",
      "PU-score: 14.58974358974359\n",
      "qc_coef: 2.2095613721214677\n",
      "opt_threshols: 42.75449004206667\n"
     ]
    },
    {
     "data": {
      "text/plain": [
       "StandardScaler(copy=True, with_mean=True, with_std=True)"
      ]
     },
     "execution_count": 12,
     "metadata": {},
     "output_type": "execute_result"
    },
    {
     "name": "stdout",
     "output_type": "stream",
     "text": [
      "Logistic regression\t\n",
      "PU-score: 4.905172413793103\n",
      "\n",
      "Support Vector Machine\t\n",
      "PU-score: 1.6637426900584795\n",
      "\n",
      "ADABoosting\t\n",
      "PU-score: 9.17741935483871\n",
      "\n",
      "Random Forest\t\n",
      "PU-score: 9.17741935483871\n",
      "\n",
      "Decision Tree\t\n",
      "PU-score: 3.5123456790123457\n",
      "\n",
      "Finding best combination\t\n",
      "Best combination is: ['Support Vector Machine' 'ADABoosting' 'Random Forest']\n",
      "PU-score: 11.379999999999999\n",
      "qc_coef: 2.0403591589938177\n",
      "opt_threshols: 44.05307664744655\n"
     ]
    },
    {
     "data": {
      "text/plain": [
       "StandardScaler(copy=True, with_mean=True, with_std=True)"
      ]
     },
     "execution_count": 12,
     "metadata": {},
     "output_type": "execute_result"
    },
    {
     "name": "stdout",
     "output_type": "stream",
     "text": [
      "Logistic regression\t\n",
      "PU-score: 5.317757009345795\n",
      "\n",
      "Support Vector Machine\t\n",
      "PU-score: 2.495614035087719\n",
      "\n",
      "ADABoosting\t\n",
      "PU-score: 8.014084507042254\n",
      "\n",
      "Random Forest\t\n",
      "PU-score: 5.927083333333333\n",
      "\n",
      "Decision Tree\t\n",
      "PU-score: 7.586666666666667\n",
      "\n",
      "Finding best combination\t\n",
      "Best combination is: ['Support Vector Machine' 'ADABoosting']\n",
      "PU-score: 8.246376811594203\n",
      "qc_coef: 2.203022028099498\n",
      "opt_threshols: 40.42156704104475\n"
     ]
    },
    {
     "data": {
      "text/plain": [
       "StandardScaler(copy=True, with_mean=True, with_std=True)"
      ]
     },
     "execution_count": 12,
     "metadata": {},
     "output_type": "execute_result"
    },
    {
     "name": "stdout",
     "output_type": "stream",
     "text": [
      "Logistic regression\t\n",
      "PU-score: 5.126126126126126\n",
      "\n",
      "Support Vector Machine\t\n",
      "PU-score: 1.5761772853185596\n",
      "\n",
      "ADABoosting\t\n",
      "PU-score: 3.7434210526315788\n",
      "\n",
      "Random Forest\t\n",
      "PU-score: 8.492537313432836\n",
      "\n",
      "Decision Tree\t\n",
      "PU-score: 5.317757009345795\n",
      "\n",
      "Finding best combination\t\n",
      "Best combination is: ['Random Forest']\n",
      "PU-score: 8.492537313432836\n",
      "qc_coef: 2.357055244435052\n",
      "opt_threshols: 47.83333333333334\n"
     ]
    },
    {
     "data": {
      "text/plain": [
       "StandardScaler(copy=True, with_mean=True, with_std=True)"
      ]
     },
     "execution_count": 12,
     "metadata": {},
     "output_type": "execute_result"
    },
    {
     "name": "stdout",
     "output_type": "stream",
     "text": [
      "Logistic regression\t\n",
      "PU-score: 71.125\n",
      "\n",
      "Support Vector Machine\t\n",
      "PU-score: 1.841423948220065\n",
      "\n",
      "ADABoosting\t\n",
      "PU-score: 21.074074074074076\n",
      "\n",
      "Random Forest\t\n",
      "PU-score: 51.72727272727273\n",
      "\n",
      "Decision Tree\t\n",
      "PU-score: 63.22222222222222\n",
      "\n",
      "Finding best combination\t\n",
      "Best combination is: ['Logistic regression' 'Random Forest']\n",
      "PU-score: 284.5\n",
      "qc_coef: 1.8567008737928437\n",
      "opt_threshols: 43.9330437778418\n",
      "NTR ==== 8\n"
     ]
    },
    {
     "data": {
      "text/plain": [
       "StandardScaler(copy=True, with_mean=True, with_std=True)"
      ]
     },
     "execution_count": 12,
     "metadata": {},
     "output_type": "execute_result"
    },
    {
     "name": "stdout",
     "output_type": "stream",
     "text": [
      "Logistic regression\t\n",
      "PU-score: 11.612244897959183\n",
      "\n",
      "Support Vector Machine\t\n",
      "PU-score: 1.841423948220065\n",
      "\n",
      "ADABoosting\t\n",
      "PU-score: 5.633663366336634\n",
      "\n",
      "Random Forest\t\n",
      "PU-score: 5.633663366336634\n",
      "\n",
      "Decision Tree\t\n",
      "PU-score: 5.989473684210527\n",
      "\n",
      "Finding best combination\t\n",
      "Best combination is: ['Logistic regression' 'Support Vector Machine']\n",
      "PU-score: 13.232558139534884\n",
      "qc_coef: 2.376975708994801\n",
      "opt_threshols: 42.0248173048091\n"
     ]
    },
    {
     "data": {
      "text/plain": [
       "StandardScaler(copy=True, with_mean=True, with_std=True)"
      ]
     },
     "execution_count": 12,
     "metadata": {},
     "output_type": "execute_result"
    },
    {
     "name": "stdout",
     "output_type": "stream",
     "text": [
      "Logistic regression\t\n",
      "PU-score: 2.6966824644549763\n",
      "\n",
      "Support Vector Machine\t\n",
      "PU-score: 1.6985074626865673\n",
      "\n",
      "ADABoosting\t\n",
      "PU-score: 2.266932270916335\n",
      "\n",
      "Random Forest\t\n",
      "PU-score: 3.897260273972603\n",
      "\n",
      "Decision Tree\t\n",
      "PU-score: 1.9353741496598638\n",
      "\n",
      "Finding best combination\t\n",
      "Best combination is: ['Random Forest']\n",
      "PU-score: 3.897260273972603\n",
      "qc_coef: 1.9923241731713206\n",
      "opt_threshols: 50.16949152542373\n"
     ]
    },
    {
     "data": {
      "text/plain": [
       "StandardScaler(copy=True, with_mean=True, with_std=True)"
      ]
     },
     "execution_count": 12,
     "metadata": {},
     "output_type": "execute_result"
    },
    {
     "name": "stdout",
     "output_type": "stream",
     "text": [
      "Logistic regression\t\n",
      "PU-score: 2.1390977443609023\n",
      "\n",
      "Support Vector Machine\t\n",
      "PU-score: 1.2902494331065761\n",
      "\n",
      "ADABoosting\t\n",
      "PU-score: 2.076642335766423\n",
      "\n",
      "Random Forest\t\n",
      "PU-score: 3.5341614906832297\n",
      "\n",
      "Decision Tree\t\n",
      "PU-score: 2.2760000000000002\n",
      "\n",
      "Finding best combination\t\n",
      "Best combination is: ['Random Forest']\n",
      "PU-score: 3.5341614906832297\n",
      "qc_coef: 1.9996215397923878\n",
      "opt_threshols: 49.33333333333332\n"
     ]
    },
    {
     "data": {
      "text/plain": [
       "StandardScaler(copy=True, with_mean=True, with_std=True)"
      ]
     },
     "execution_count": 12,
     "metadata": {},
     "output_type": "execute_result"
    },
    {
     "name": "stdout",
     "output_type": "stream",
     "text": [
      "Logistic regression\t\n",
      "PU-score: 1.9030100334448161\n",
      "\n",
      "Support Vector Machine\t\n",
      "PU-score: 1.9222972972972971\n",
      "\n",
      "ADABoosting\t\n",
      "PU-score: 1.6540697674418605\n",
      "\n",
      "Random Forest\t\n",
      "PU-score: 2.2760000000000002\n",
      "\n",
      "Decision Tree\t\n",
      "PU-score: 1.9825783972125435\n",
      "\n",
      "Finding best combination\t\n",
      "Best combination is: ['Support Vector Machine' 'Random Forest']\n",
      "PU-score: 2.3907563025210083\n",
      "qc_coef: 2.117933859185673\n",
      "opt_threshols: 46.57243487602551\n"
     ]
    },
    {
     "data": {
      "text/plain": [
       "StandardScaler(copy=True, with_mean=True, with_std=True)"
      ]
     },
     "execution_count": 12,
     "metadata": {},
     "output_type": "execute_result"
    },
    {
     "name": "stdout",
     "output_type": "stream",
     "text": [
      "Logistic regression\t\n",
      "PU-score: 2.574660633484163\n",
      "\n",
      "Support Vector Machine\t\n",
      "PU-score: 1.0252252252252252\n",
      "\n",
      "ADABoosting\t\n",
      "PU-score: 2.7756097560975608\n",
      "\n",
      "Random Forest\t\n",
      "PU-score: 2.610091743119266\n",
      "\n",
      "Decision Tree\t\n",
      "PU-score: 2.463203463203463\n",
      "\n",
      "Finding best combination\t\n",
      "Best combination is: ['ADABoosting']\n",
      "PU-score: 2.7756097560975608\n",
      "qc_coef: 1.6492128372323853\n",
      "opt_threshols: 35.59322033898305\n"
     ]
    },
    {
     "data": {
      "text/plain": [
       "StandardScaler(copy=True, with_mean=True, with_std=True)"
      ]
     },
     "execution_count": 12,
     "metadata": {},
     "output_type": "execute_result"
    },
    {
     "name": "stdout",
     "output_type": "stream",
     "text": [
      "Logistic regression\t\n",
      "PU-score: 17.78125\n",
      "\n",
      "Support Vector Machine\t\n",
      "PU-score: 2.9790575916230364\n",
      "\n",
      "ADABoosting\t\n",
      "PU-score: 43.76923076923077\n",
      "\n",
      "Random Forest\t\n",
      "PU-score: 51.72727272727273\n",
      "\n",
      "Decision Tree\t\n",
      "PU-score: 25.863636363636363\n",
      "\n",
      "Finding best combination\t\n",
      "Best combination is: ['Logistic regression' 'Support Vector Machine' 'ADABoosting'\n",
      " 'Random Forest']\n",
      "PU-score: 113.79999999999998\n",
      "qc_coef: 2.076230364369519\n",
      "opt_threshols: 32.09759584252236\n"
     ]
    },
    {
     "data": {
      "text/plain": [
       "StandardScaler(copy=True, with_mean=True, with_std=True)"
      ]
     },
     "execution_count": 12,
     "metadata": {},
     "output_type": "execute_result"
    },
    {
     "name": "stdout",
     "output_type": "stream",
     "text": [
      "Logistic regression\t\n",
      "PU-score: 29.94736842105263\n",
      "\n",
      "Support Vector Machine\t\n",
      "PU-score: 2.722488038277512\n",
      "\n",
      "ADABoosting\t\n",
      "PU-score: 5.471153846153846\n",
      "\n",
      "Random Forest\t\n",
      "PU-score: 5.126126126126126\n",
      "\n",
      "Decision Tree\t\n",
      "PU-score: 3.6709677419354843\n",
      "\n",
      "Finding best combination\t\n",
      "Best combination is: ['Logistic regression']\n",
      "PU-score: 29.94736842105263\n",
      "qc_coef: 1.7791653084933885\n",
      "opt_threshols: 59.591070621740165\n"
     ]
    },
    {
     "data": {
      "text/plain": [
       "StandardScaler(copy=True, with_mean=True, with_std=True)"
      ]
     },
     "execution_count": 12,
     "metadata": {},
     "output_type": "execute_result"
    },
    {
     "name": "stdout",
     "output_type": "stream",
     "text": [
      "Logistic regression\t\n",
      "PU-score: 14.973684210526315\n",
      "\n",
      "Support Vector Machine\t\n",
      "PU-score: 2.4008438818565403\n",
      "\n",
      "ADABoosting\t\n",
      "PU-score: 81.28571428571429\n",
      "\n",
      "Random Forest\t\n",
      "PU-score: 16.735294117647058\n",
      "\n",
      "Decision Tree\t\n",
      "PU-score: 25.863636363636363\n",
      "\n",
      "Finding best combination\t\n",
      "Best combination is: ['ADABoosting']\n",
      "PU-score: 81.28571428571429\n",
      "qc_coef: 2.2341965212876427\n",
      "opt_threshols: 15.254237288135604\n"
     ]
    },
    {
     "data": {
      "text/plain": [
       "StandardScaler(copy=True, with_mean=True, with_std=True)"
      ]
     },
     "execution_count": 12,
     "metadata": {},
     "output_type": "execute_result"
    },
    {
     "name": "stdout",
     "output_type": "stream",
     "text": [
      "Logistic regression\t\n",
      "PU-score: 5.268518518518519\n",
      "\n",
      "Support Vector Machine\t\n",
      "PU-score: 2.3036437246963564\n",
      "\n",
      "ADABoosting\t\n",
      "PU-score: 4.741666666666666\n",
      "\n",
      "Random Forest\t\n",
      "PU-score: 8.890625\n",
      "\n",
      "Decision Tree\t\n",
      "PU-score: 5.6899999999999995\n",
      "\n",
      "Finding best combination\t\n",
      "Best combination is: ['Support Vector Machine' 'Random Forest']\n",
      "PU-score: 11.156862745098039\n",
      "qc_coef: 2.1878963607625663\n",
      "opt_threshols: 45.903261566059506\n"
     ]
    },
    {
     "data": {
      "text/plain": [
       "StandardScaler(copy=True, with_mean=True, with_std=True)"
      ]
     },
     "execution_count": 12,
     "metadata": {},
     "output_type": "execute_result"
    },
    {
     "name": "stdout",
     "output_type": "stream",
     "text": [
      "Logistic regression\t\n",
      "PU-score: 3.897260273972603\n",
      "\n",
      "Support Vector Machine\t\n",
      "PU-score: 2.1471698113207545\n",
      "\n",
      "ADABoosting\t\n",
      "PU-score: 2.762135922330097\n",
      "\n",
      "Random Forest\t\n",
      "PU-score: 3.161111111111111\n",
      "\n",
      "Decision Tree\t\n",
      "PU-score: 3.2514285714285713\n",
      "\n",
      "Finding best combination\t\n",
      "Best combination is: ['Logistic regression' 'Support Vector Machine']\n",
      "PU-score: 4.1838235294117645\n",
      "qc_coef: 1.9521209514908062\n",
      "opt_threshols: 49.63003168415709\n",
      "NTR ==== 13\n"
     ]
    },
    {
     "data": {
      "text/plain": [
       "StandardScaler(copy=True, with_mean=True, with_std=True)"
      ]
     },
     "execution_count": 12,
     "metadata": {},
     "output_type": "execute_result"
    },
    {
     "name": "stdout",
     "output_type": "stream",
     "text": [
      "Logistic regression\t\n"
     ]
    },
    {
     "name": "stderr",
     "output_type": "stream",
     "text": [
      "/home/nikita/Documents/work/git_projects/GPrior/qctoolbox.py:14: RuntimeWarning: invalid value encountered in long_scalars\n",
      "  recall = tp/(tp+fn)\n"
     ]
    },
    {
     "name": "stdout",
     "output_type": "stream",
     "text": [
      "PU-score: nan\n",
      "\n",
      "Support Vector Machine\t\n"
     ]
    },
    {
     "name": "stderr",
     "output_type": "stream",
     "text": [
      "/home/nikita/Documents/work/git_projects/GPrior/qctoolbox.py:14: RuntimeWarning: invalid value encountered in long_scalars\n",
      "  recall = tp/(tp+fn)\n"
     ]
    },
    {
     "name": "stdout",
     "output_type": "stream",
     "text": [
      "PU-score: nan\n",
      "\n",
      "ADABoosting\t\n"
     ]
    },
    {
     "name": "stderr",
     "output_type": "stream",
     "text": [
      "/home/nikita/Documents/work/git_projects/GPrior/qctoolbox.py:14: RuntimeWarning: invalid value encountered in long_scalars\n",
      "  recall = tp/(tp+fn)\n"
     ]
    },
    {
     "name": "stdout",
     "output_type": "stream",
     "text": [
      "PU-score: nan\n",
      "\n",
      "Random Forest\t\n"
     ]
    },
    {
     "name": "stderr",
     "output_type": "stream",
     "text": [
      "/home/nikita/Documents/work/git_projects/GPrior/qctoolbox.py:14: RuntimeWarning: invalid value encountered in long_scalars\n",
      "  recall = tp/(tp+fn)\n"
     ]
    },
    {
     "name": "stdout",
     "output_type": "stream",
     "text": [
      "PU-score: nan\n",
      "\n",
      "Decision Tree\t\n",
      "PU-score: nan\n",
      "\n",
      "Finding best combination\t\n"
     ]
    },
    {
     "name": "stderr",
     "output_type": "stream",
     "text": [
      "/home/nikita/Documents/work/git_projects/GPrior/qctoolbox.py:14: RuntimeWarning: invalid value encountered in long_scalars\n",
      "  recall = tp/(tp+fn)\n"
     ]
    },
    {
     "ename": "UnboundLocalError",
     "evalue": "local variable 'index_max' referenced before assignment",
     "output_type": "error",
     "traceback": [
      "\u001b[0;31m---------------------------------------------------------------------------\u001b[0m",
      "\u001b[0;31mUnboundLocalError\u001b[0m                         Traceback (most recent call last)",
      "\u001b[0;32m<ipython-input-12-35cfff56342e>\u001b[0m in \u001b[0;36m<module>\u001b[0;34m\u001b[0m\n\u001b[1;32m     46\u001b[0m         \u001b[0mens\u001b[0m \u001b[0;34m=\u001b[0m \u001b[0mEnsembleClassifier\u001b[0m\u001b[0;34m(\u001b[0m\u001b[0mX\u001b[0m\u001b[0;34m,\u001b[0m \u001b[0my\u001b[0m\u001b[0;34m,\u001b[0m \u001b[0mMODELS\u001b[0m\u001b[0;34m,\u001b[0m \u001b[0mals\u001b[0m\u001b[0;34m,\u001b[0m \u001b[0mn_bootstrap\u001b[0m\u001b[0;34m=\u001b[0m\u001b[0;36m60\u001b[0m\u001b[0;34m)\u001b[0m\u001b[0;34m\u001b[0m\u001b[0;34m\u001b[0m\u001b[0m\n\u001b[1;32m     47\u001b[0m         \u001b[0mens\u001b[0m\u001b[0;34m.\u001b[0m\u001b[0mrun_estimators\u001b[0m\u001b[0;34m(\u001b[0m\u001b[0;34m)\u001b[0m\u001b[0;34m\u001b[0m\u001b[0;34m\u001b[0m\u001b[0m\n\u001b[0;32m---> 48\u001b[0;31m         \u001b[0mwmean\u001b[0m \u001b[0;34m=\u001b[0m \u001b[0mens\u001b[0m\u001b[0;34m.\u001b[0m\u001b[0mbest_scored_proba\u001b[0m\u001b[0;34m(\u001b[0m\u001b[0;34m)\u001b[0m\u001b[0;34m\u001b[0m\u001b[0;34m\u001b[0m\u001b[0m\n\u001b[0m\u001b[1;32m     49\u001b[0m         \u001b[0mwmean\u001b[0m\u001b[0;34m[\u001b[0m\u001b[0;34m'Probability'\u001b[0m\u001b[0;34m]\u001b[0m \u001b[0;34m=\u001b[0m \u001b[0mwmean\u001b[0m\u001b[0;34m.\u001b[0m\u001b[0mProbability\u001b[0m\u001b[0;34m.\u001b[0m\u001b[0mapply\u001b[0m\u001b[0;34m(\u001b[0m\u001b[0;32mlambda\u001b[0m \u001b[0mx\u001b[0m\u001b[0;34m:\u001b[0m \u001b[0;36m100\u001b[0m \u001b[0;32mif\u001b[0m \u001b[0mx\u001b[0m\u001b[0;34m==\u001b[0m\u001b[0;34m-\u001b[0m\u001b[0;36m1\u001b[0m \u001b[0;32melse\u001b[0m \u001b[0mx\u001b[0m\u001b[0;34m)\u001b[0m\u001b[0;34m\u001b[0m\u001b[0;34m\u001b[0m\u001b[0m\n\u001b[1;32m     50\u001b[0m         \u001b[0mextended_list\u001b[0m \u001b[0;34m=\u001b[0m \u001b[0mpd\u001b[0m\u001b[0;34m.\u001b[0m\u001b[0mDataFrame\u001b[0m\u001b[0;34m(\u001b[0m\u001b[0;34m{\u001b[0m\u001b[0;34m'gene_symbol'\u001b[0m\u001b[0;34m:\u001b[0m\u001b[0my_orig\u001b[0m\u001b[0;34m[\u001b[0m\u001b[0my_orig\u001b[0m\u001b[0;34m==\u001b[0m\u001b[0;36m1\u001b[0m\u001b[0;34m]\u001b[0m\u001b[0;34m.\u001b[0m\u001b[0mindex\u001b[0m\u001b[0;34m.\u001b[0m\u001b[0mvalues\u001b[0m\u001b[0;34m}\u001b[0m\u001b[0;34m)\u001b[0m\u001b[0;34m\u001b[0m\u001b[0;34m\u001b[0m\u001b[0m\n",
      "\u001b[0;32m~/Documents/work/git_projects/GPrior/ensemble.py\u001b[0m in \u001b[0;36mbest_scored_proba\u001b[0;34m(self)\u001b[0m\n\u001b[1;32m    153\u001b[0m             \u001b[0mbar\u001b[0m\u001b[0;34m.\u001b[0m\u001b[0mnext\u001b[0m\u001b[0;34m(\u001b[0m\u001b[0;34m)\u001b[0m\u001b[0;34m\u001b[0m\u001b[0;34m\u001b[0m\u001b[0m\n\u001b[1;32m    154\u001b[0m         \u001b[0mbar\u001b[0m\u001b[0;34m.\u001b[0m\u001b[0mfinish\u001b[0m\u001b[0;34m(\u001b[0m\u001b[0;34m)\u001b[0m\u001b[0;34m\u001b[0m\u001b[0;34m\u001b[0m\u001b[0m\n\u001b[0;32m--> 155\u001b[0;31m         \u001b[0mprint\u001b[0m\u001b[0;34m(\u001b[0m\u001b[0;34mf'Best combination is: {np.array(list(MODELS.keys()))[index_max]}'\u001b[0m\u001b[0;34m)\u001b[0m\u001b[0;34m\u001b[0m\u001b[0;34m\u001b[0m\u001b[0m\n\u001b[0m\u001b[1;32m    156\u001b[0m         \u001b[0mprint\u001b[0m\u001b[0;34m(\u001b[0m\u001b[0;34mf'PU-score: {max_score}'\u001b[0m\u001b[0;34m)\u001b[0m\u001b[0;34m\u001b[0m\u001b[0;34m\u001b[0m\u001b[0m\n\u001b[1;32m    157\u001b[0m         \u001b[0;31m#print(f'Optimal threshold: {best_thr}')\u001b[0m\u001b[0;34m\u001b[0m\u001b[0;34m\u001b[0m\u001b[0;34m\u001b[0m\u001b[0m\n",
      "\u001b[0;31mUnboundLocalError\u001b[0m: local variable 'index_max' referenced before assignment"
     ]
    }
   ],
   "source": [
    "import math\n",
    "from sklearn.preprocessing import StandardScaler\n",
    "\n",
    "roc_dict = dict()\n",
    "f_dict = dict()\n",
    "pu_dict = dict()\n",
    "\n",
    "\n",
    "for ntr in  ntrain:\n",
    "    \n",
    "    roc_store = list()\n",
    "    f1_store = list()\n",
    "    pu_store = list()\n",
    "    \n",
    "    print(f'NTR ==== {ntr}')\n",
    "    for i in range(10):\n",
    "        X = pd.read_csv('/home/nikita/Downloads/cancer.csv')\n",
    "        y = X.diagnosis\n",
    "        del X['diagnosis']\n",
    "        del X['Unnamed: 32']\n",
    "        del X['id']\n",
    "        \n",
    "        scaler = StandardScaler()\n",
    "        scaler.fit(X)\n",
    "        X = pd.DataFrame(scaler.transform(X))\n",
    "        y = y.map(lambda x: 1 if x == 'M' else 0)\n",
    "        hidden_size = y.sum() - ntr\n",
    "        y_orig = y.copy()\n",
    "        y.loc[\n",
    "                np.random.choice(\n",
    "                    y[y == 1].index, \n",
    "                    replace = False, \n",
    "                    size = hidden_size\n",
    "                )\n",
    "            ] = 0\n",
    "        val_y = y[y == 1].copy()\n",
    "        y.loc[\n",
    "                np.random.choice(\n",
    "                    y[y == 1].index, \n",
    "                    replace = False, \n",
    "                    size = round(ntr*1/3)\n",
    "                )\n",
    "            ] = 0\n",
    "        als = pd.DataFrame({'gene_symbol':list(set(y_orig.index-y.index))})\n",
    "        X['gene_symbol'] = X.index\n",
    "        ens = EnsembleClassifier(X, y, MODELS, als, n_bootstrap=60)\n",
    "        ens.run_estimators()\n",
    "        wmean = ens.best_scored_proba()\n",
    "        wmean['Probability'] = wmean.Probability.apply(lambda x: 100 if x==-1 else x)\n",
    "        extended_list = pd.DataFrame({'gene_symbol':y_orig[y_orig==1].index.values})\n",
    "        true_genes = pd.DataFrame({'gene_symbol':val_y.index.values})\n",
    "        qc = max(perform_qc(wmean, extended_list, true_genes))\n",
    "        pu_store.append(qc)\n",
    "    pu_dict[str(f'{ntr}')] = pu_store"
   ]
  },
  {
   "cell_type": "code",
   "execution_count": 10,
   "metadata": {},
   "outputs": [
    {
     "data": {
      "text/plain": [
       "dict_keys(['3', '5', '8', '11', '14', '17'])"
      ]
     },
     "execution_count": 10,
     "metadata": {},
     "output_type": "execute_result"
    }
   ],
   "source": [
    "pu_dict.keys()"
   ]
  },
  {
   "cell_type": "code",
   "execution_count": 27,
   "metadata": {},
   "outputs": [
    {
     "data": {
      "text/plain": [
       "True"
      ]
     },
     "execution_count": 27,
     "metadata": {},
     "output_type": "execute_result"
    }
   ],
   "source": [
    "3 in extended_list['gene_symbol'].values"
   ]
  },
  {
   "cell_type": "code",
   "execution_count": 25,
   "metadata": {},
   "outputs": [
    {
     "data": {
      "text/plain": [
       "3        3\n",
       "9        9\n",
       "78      78\n",
       "5        5\n",
       "352    352\n",
       "      ... \n",
       "351    351\n",
       "215    215\n",
       "487    487\n",
       "214    214\n",
       "7        7\n",
       "Name: gene_symbol, Length: 569, dtype: int64"
      ]
     },
     "execution_count": 25,
     "metadata": {},
     "output_type": "execute_result"
    }
   ],
   "source": [
    "wmean['gene_symbol']"
   ]
  },
  {
   "cell_type": "code",
   "execution_count": 36,
   "metadata": {},
   "outputs": [
    {
     "data": {
      "text/plain": [
       "30     1\n",
       "54     1\n",
       "100    1\n",
       "138    1\n",
       "215    1\n",
       "282    1\n",
       "414    1\n",
       "441    1\n",
       "533    1\n",
       "535    1\n",
       "Name: diagnosis, dtype: int64"
      ]
     },
     "execution_count": 36,
     "metadata": {},
     "output_type": "execute_result"
    }
   ],
   "source": [
    "val_y"
   ]
  },
  {
   "cell_type": "code",
   "execution_count": null,
   "metadata": {},
   "outputs": [],
   "source": []
  }
 ],
 "metadata": {
  "kernelspec": {
   "display_name": "Python 3",
   "language": "python",
   "name": "python3"
  },
  "language_info": {
   "codemirror_mode": {
    "name": "ipython",
    "version": 3
   },
   "file_extension": ".py",
   "mimetype": "text/x-python",
   "name": "python",
   "nbconvert_exporter": "python",
   "pygments_lexer": "ipython3",
   "version": "3.6.10"
  }
 },
 "nbformat": 4,
 "nbformat_minor": 4
}
