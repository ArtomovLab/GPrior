{
 "cells": [
  {
   "cell_type": "code",
   "execution_count": 57,
   "metadata": {},
   "outputs": [],
   "source": [
    "import pandas as pd"
   ]
  },
  {
   "cell_type": "code",
   "execution_count": 80,
   "metadata": {},
   "outputs": [],
   "source": [
    "pheno = pd.read_csv('/home/nikita/Desktop/triple_phe/IBD/merged_IBD.tsv', sep='\\t')\n",
    "pheno.set_index('gene_symbol', inplace=True)"
   ]
  },
  {
   "cell_type": "code",
   "execution_count": 61,
   "metadata": {},
   "outputs": [],
   "source": [
    "con = pd.read_csv('/home/nikita/Documents/work/git_projects/GPrior/databases/FIsInGene_122718_with_annotations.txt', sep='\\t', header=0)"
   ]
  },
  {
   "cell_type": "code",
   "execution_count": 81,
   "metadata": {},
   "outputs": [],
   "source": [
    "causal = pd.read_csv('/home/nikita/Desktop/triple_phe/IBD/good_IBD_genes.tsv', sep='\\t')"
   ]
  },
  {
   "cell_type": "code",
   "execution_count": 63,
   "metadata": {},
   "outputs": [],
   "source": [
    "def add_reactome_feature(df, db, causal_genes):\n",
    "    feature = list()\n",
    "    for gene in df.index:\n",
    "        if gene in db.Gene1.values:\n",
    "            n = db.query(f'Gene1 == \"{gene}\"')['Gene2'] \\\n",
    "             .map(lambda x: 1 if x in causal_genes.gene_symbol.values else 0) \\\n",
    "             .sum()\n",
    "            feature.append(n)\n",
    "        else:\n",
    "            feature.append(0)\n",
    "    return feature\n",
    "            \n",
    "    "
   ]
  },
  {
   "cell_type": "code",
   "execution_count": 73,
   "metadata": {},
   "outputs": [],
   "source": [
    "%store -r train_causal"
   ]
  },
  {
   "cell_type": "code",
   "execution_count": 82,
   "metadata": {},
   "outputs": [],
   "source": [
    "pheno['Reactome'] = add_reactome_feature(pheno, con, causal)"
   ]
  },
  {
   "cell_type": "code",
   "execution_count": 85,
   "metadata": {},
   "outputs": [
    {
     "data": {
      "text/html": [
       "<div>\n",
       "<style scoped>\n",
       "    .dataframe tbody tr th:only-of-type {\n",
       "        vertical-align: middle;\n",
       "    }\n",
       "\n",
       "    .dataframe tbody tr th {\n",
       "        vertical-align: top;\n",
       "    }\n",
       "\n",
       "    .dataframe thead th {\n",
       "        text-align: right;\n",
       "    }\n",
       "</style>\n",
       "<table border=\"1\" class=\"dataframe\">\n",
       "  <thead>\n",
       "    <tr style=\"text-align: right;\">\n",
       "      <th></th>\n",
       "      <th>DHS</th>\n",
       "      <th>Fantom5</th>\n",
       "      <th>GERP</th>\n",
       "      <th>GTEx</th>\n",
       "      <th>GTEx_Adipose_Subcutaneous</th>\n",
       "      <th>GTEx_Adipose_Visceral_Omentum</th>\n",
       "      <th>GTEx_Adrenal_Gland</th>\n",
       "      <th>GTEx_Artery_Aorta</th>\n",
       "      <th>GTEx_Artery_Coronary</th>\n",
       "      <th>GTEx_Artery_Tibial</th>\n",
       "      <th>...</th>\n",
       "      <th>Testis</th>\n",
       "      <th>Thyroid</th>\n",
       "      <th>Uterus</th>\n",
       "      <th>Vagina</th>\n",
       "      <th>Whole Blood</th>\n",
       "      <th>gtex_similarity</th>\n",
       "      <th>blastp_similarity</th>\n",
       "      <th>atlas_similarity</th>\n",
       "      <th>gene_interactions</th>\n",
       "      <th>Reactome</th>\n",
       "    </tr>\n",
       "    <tr>\n",
       "      <th>gene_symbol</th>\n",
       "      <th></th>\n",
       "      <th></th>\n",
       "      <th></th>\n",
       "      <th></th>\n",
       "      <th></th>\n",
       "      <th></th>\n",
       "      <th></th>\n",
       "      <th></th>\n",
       "      <th></th>\n",
       "      <th></th>\n",
       "      <th></th>\n",
       "      <th></th>\n",
       "      <th></th>\n",
       "      <th></th>\n",
       "      <th></th>\n",
       "      <th></th>\n",
       "      <th></th>\n",
       "      <th></th>\n",
       "      <th></th>\n",
       "      <th></th>\n",
       "      <th></th>\n",
       "    </tr>\n",
       "  </thead>\n",
       "  <tbody>\n",
       "    <tr>\n",
       "      <td>EP300</td>\n",
       "      <td>0.0</td>\n",
       "      <td>0.366796</td>\n",
       "      <td>3.285</td>\n",
       "      <td>0.999881</td>\n",
       "      <td>0.986689</td>\n",
       "      <td>0.966978</td>\n",
       "      <td>0.99446</td>\n",
       "      <td>0.896356</td>\n",
       "      <td>0.992062</td>\n",
       "      <td>0.85006</td>\n",
       "      <td>...</td>\n",
       "      <td>52.0</td>\n",
       "      <td>44.0</td>\n",
       "      <td>49.0</td>\n",
       "      <td>39.0</td>\n",
       "      <td>14.0</td>\n",
       "      <td>0</td>\n",
       "      <td>0</td>\n",
       "      <td>0</td>\n",
       "      <td>6</td>\n",
       "      <td>11</td>\n",
       "    </tr>\n",
       "  </tbody>\n",
       "</table>\n",
       "<p>1 rows × 127 columns</p>\n",
       "</div>"
      ],
      "text/plain": [
       "             DHS   Fantom5   GERP      GTEx  GTEx_Adipose_Subcutaneous  \\\n",
       "gene_symbol                                                              \n",
       "EP300        0.0  0.366796  3.285  0.999881                   0.986689   \n",
       "\n",
       "             GTEx_Adipose_Visceral_Omentum  GTEx_Adrenal_Gland  \\\n",
       "gene_symbol                                                      \n",
       "EP300                             0.966978             0.99446   \n",
       "\n",
       "             GTEx_Artery_Aorta  GTEx_Artery_Coronary  GTEx_Artery_Tibial  ...  \\\n",
       "gene_symbol                                                               ...   \n",
       "EP300                 0.896356              0.992062             0.85006  ...   \n",
       "\n",
       "             Testis  Thyroid  Uterus  Vagina  Whole Blood  gtex_similarity  \\\n",
       "gene_symbol                                                                  \n",
       "EP300          52.0     44.0    49.0    39.0         14.0                0   \n",
       "\n",
       "             blastp_similarity  atlas_similarity  gene_interactions  Reactome  \n",
       "gene_symbol                                                                    \n",
       "EP300                        0                 0                  6        11  \n",
       "\n",
       "[1 rows x 127 columns]"
      ]
     },
     "execution_count": 85,
     "metadata": {},
     "output_type": "execute_result"
    }
   ],
   "source": [
    "pheno[pheno['Reactome'] == 11]"
   ]
  },
  {
   "cell_type": "code",
   "execution_count": 86,
   "metadata": {},
   "outputs": [],
   "source": [
    "pheno.to_csv('/home/nikita/Desktop/triple_phe/IBD/merged_IBD.tsv', sep='\\t')"
   ]
  },
  {
   "cell_type": "code",
   "execution_count": null,
   "metadata": {},
   "outputs": [],
   "source": []
  }
 ],
 "metadata": {
  "kernelspec": {
   "display_name": "Python 3",
   "language": "python",
   "name": "python3"
  },
  "language_info": {
   "codemirror_mode": {
    "name": "ipython",
    "version": 3
   },
   "file_extension": ".py",
   "mimetype": "text/x-python",
   "name": "python",
   "nbconvert_exporter": "python",
   "pygments_lexer": "ipython3",
   "version": "3.6.10"
  }
 },
 "nbformat": 4,
 "nbformat_minor": 4
}
